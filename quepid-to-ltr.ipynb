{
 "cells": [
  {
   "cell_type": "code",
   "execution_count": 1,
   "metadata": {},
   "outputs": [],
   "source": [
    "import pandas as pd\n",
    "import operator"
   ]
  },
  {
   "cell_type": "code",
   "execution_count": 2,
   "metadata": {},
   "outputs": [],
   "source": [
    "infile = 'data/quepid_movies_judgements_max.csv'\n",
    "outfile = 'data/ltr_movies_judgements_max.txt'"
   ]
  },
  {
   "cell_type": "code",
   "execution_count": 3,
   "metadata": {},
   "outputs": [],
   "source": [
    "df = pd.read_csv(infile)"
   ]
  },
  {
   "cell_type": "code",
   "execution_count": 4,
   "metadata": {},
   "outputs": [],
   "source": [
    "df.rename(columns={'Query Text':'query','Doc ID':'docid','Rating':'rating'}, inplace=True)\n",
    "qdf = df[['query','docid','rating']]"
   ]
  },
  {
   "cell_type": "code",
   "execution_count": 5,
   "metadata": {},
   "outputs": [
    {
     "name": "stdout",
     "output_type": "stream",
     "text": [
      "# qid:1: will smith*1\n",
      "# qid:2: star trek assassination conspiracy*1\n",
      "# qid:3: science fiction*1\n",
      "# qid:4: rocky*1\n",
      "# qid:5: hilarious classic*1\n",
      "# qid:6: cult classics*1\n",
      "# qid:7: maximus*1\n",
      "# qid:8: spaceballs*1\n",
      "# qid:9: rom com*1\n",
      "# qid:10: racing snail*1\n",
      "...\n"
     ]
    }
   ],
   "source": [
    "header = []\n",
    "headertext = \"\"\n",
    "queries = qdf['query'].unique()\n",
    "for i,query in enumerate(queries):\n",
    "    hrow = \"# qid:\" + str(i+1) + \": \" + query + \"*1\"\n",
    "    header.append(hrow)\n",
    "headertext = '\\n'.join(header)\n",
    "print(headertext[0:1000]+'\\n...')"
   ]
  },
  {
   "cell_type": "code",
   "execution_count": 6,
   "metadata": {},
   "outputs": [
    {
     "name": "stdout",
     "output_type": "stream",
     "text": [
      "3\tqid:1\t# 8961\twill smith\n",
      "3\tqid:1\t# 41154\twill smith\n",
      "1\tqid:1\t# 9541\twill smith\n",
      "1\tqid:1\t# 2294\twill smith\n",
      "3\tqid:1\t# 8488\twill smith\n",
      "1\tqid:1\t# 10323\twill smith\n",
      "4\tqid:1\t# 8489\twill smith\n",
      "1\tqid:1\t# 109443\twill smith\n",
      "4\tqid:1\t# 6479\twill smith\n",
      "3\tqid:1\t# 256591\twill smith\n",
      "2\tqid:2\t# 193\tstar trek assassination conspiracy\n",
      "2\tqid:2\t# 157\tstar trek assassination conspiracy\n",
      "2\tqid:2\t# 152\tstar trek assassination conspiracy\n",
      "2\tqid:2\t# 172\tstar trek assassination conspiracy\n",
      "4\tqid:2\t# 174\tstar trek assassination conspiracy\n",
      "3\tqid:2\t# 200\tstar trek assassination conspiracy\n",
      "1\tqid:2\t# 13363\tstar trek assassination conspiracy\n",
      "2\tqid:2\t# 199\tstar trek assassination conspiracy\n",
      "2\tqid:2\t# 154\tstar trek assassination conspiracy\n",
      "1\tqid:2\t# 11323\tstar trek assassination conspiracy\n",
      "4\tqid:3\t# 686\tscience fiction\n",
      "4\tqid:3\t# 828\tscience fiction\n",
      "2\tqid:3\t# 437\tscience fiction\n",
      "4\tqid:3\t# 782\tscience fiction\n",
      "3\tqid:3\t# 1551\tscience fiction\n",
      "3\tqid:3\t# 601\tscience fiction\n",
      "3\tqid:3\t# 75\tscience fiction\n",
      "3\tqid:3\t# 152601\tscience ficti\n",
      "...\n"
     ]
    }
   ],
   "source": [
    "judgements = []\n",
    "judgementstext = \"\"\n",
    "for idx,row in qdf.iterrows():\n",
    "    rating = str(row['rating'])\n",
    "    qid = str(operator.indexOf(queries, row['query'])+1)\n",
    "    docid = str(row['docid'])\n",
    "    query = row['query']\n",
    "    jrow = str(rating) + \"\\tqid:\" + qid + \"\\t# \" + docid + \"\\t\" + query\n",
    "    judgements.append(jrow)\n",
    "judgementstext = '\\n'.join(judgements)\n",
    "print(judgementstext[0:1000]+'\\n...')"
   ]
  },
  {
   "cell_type": "code",
   "execution_count": 7,
   "metadata": {},
   "outputs": [],
   "source": [
    "output = headertext + '\\n\\n' + judgementstext\n",
    "with open(outfile, 'w') as file:\n",
    "    file.write(output)"
   ]
  },
  {
   "cell_type": "code",
   "execution_count": null,
   "metadata": {},
   "outputs": [],
   "source": []
  }
 ],
 "metadata": {
  "kernelspec": {
   "display_name": "Python 3",
   "language": "python",
   "name": "python3"
  },
  "language_info": {
   "codemirror_mode": {
    "name": "ipython",
    "version": 3
   },
   "file_extension": ".py",
   "mimetype": "text/x-python",
   "name": "python",
   "nbconvert_exporter": "python",
   "pygments_lexer": "ipython3",
   "version": "3.7.1"
  }
 },
 "nbformat": 4,
 "nbformat_minor": 2
}
