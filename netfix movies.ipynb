{
 "cells": [
  {
   "cell_type": "markdown",
   "metadata": {
    "deletable": true,
    "editable": true
   },
   "source": [
    "# Basics & Prereqs (run once)\n",
    "\n",
    "If you don't already have the downloaded dependencies; if you don't have TheMovieDB data indexed run this"
   ]
  },
  {
   "cell_type": "code",
   "execution_count": null,
   "metadata": {
    "collapsed": true,
    "deletable": true,
    "editable": true
   },
   "outputs": [],
   "source": [
    "from ltr import download, index\n",
    "download.run(); index.run()"
   ]
  },
  {
   "cell_type": "code",
   "execution_count": 6,
   "metadata": {
    "collapsed": false,
    "deletable": true,
    "editable": true
   },
   "outputs": [
    {
     "name": "stdout",
     "output_type": "stream",
     "text": [
      "Removed LTR feature store: 200\n",
      "Initialize LTR: 200\n",
      "Created title feature set: 201\n"
     ]
    }
   ],
   "source": [
    "config = {\"featureset\": {\n",
    "            \"features\": [\n",
    "            {\n",
    "                \"name\": \"title_phrase\",\n",
    "                \"params\": [\"keywords\"],\n",
    "                \"template\": {\n",
    "                    \"constant_score\": {\n",
    "                        \"filter\": {\n",
    "                            \"match_phrase\": {\"title\": \"{{keywords}}\"}\n",
    "                        },\n",
    "                        \"boost\": 1.0\n",
    "                    }  \n",
    "                }\n",
    "            }   ]\n",
    "    }}\n",
    "\n",
    "from ltr import setup_ltr\n",
    "setup_ltr.run(config=config, featureSet='title')"
   ]
  },
  {
   "cell_type": "code",
   "execution_count": 7,
   "metadata": {
    "collapsed": false,
    "deletable": true,
    "editable": true
   },
   "outputs": [
    {
     "name": "stdout",
     "output_type": "stream",
     "text": [
      "Recognizing 40 queries...\n",
      "REBUILDING TRAINING DATA for rambo (0/40)\n",
      "REBUILDING TRAINING DATA for rocky (1/40)\n",
      "REBUILDING TRAINING DATA for war games (2/40)\n",
      "REBUILDING TRAINING DATA for crocodile dundee (3/40)\n",
      "REBUILDING TRAINING DATA for matrix (4/40)\n",
      "REBUILDING TRAINING DATA for contact (5/40)\n",
      "REBUILDING TRAINING DATA for space jam (6/40)\n",
      "REBUILDING TRAINING DATA for battlestar galactica (7/40)\n",
      "REBUILDING TRAINING DATA for her (8/40)\n",
      "REBUILDING TRAINING DATA for jobs (9/40)\n",
      "REBUILDING TRAINING DATA for social network (10/40)\n",
      "REBUILDING TRAINING DATA for rocky horror (11/40)\n",
      "REBUILDING TRAINING DATA for shawshank redemption (12/40)\n",
      "REBUILDING TRAINING DATA for french connection (13/40)\n",
      "REBUILDING TRAINING DATA for star wars new hope (14/40)\n",
      "REBUILDING TRAINING DATA for lego batman (15/40)\n",
      "REBUILDING TRAINING DATA for crouching tiger hidden dragon (16/40)\n",
      "REBUILDING TRAINING DATA for fight club (17/40)\n",
      "REBUILDING TRAINING DATA for die hard (18/40)\n",
      "REBUILDING TRAINING DATA for last temptation of christ (19/40)\n",
      "REBUILDING TRAINING DATA for tree of life (20/40)\n",
      "REBUILDING TRAINING DATA for murray saves christmas (21/40)\n",
      "REBUILDING TRAINING DATA for black swan (22/40)\n",
      "REBUILDING TRAINING DATA for emma (23/40)\n",
      "REBUILDING TRAINING DATA for mad max fury road (24/40)\n",
      "REBUILDING TRAINING DATA for kung fury (25/40)\n",
      "REBUILDING TRAINING DATA for mr smith goes to washington (26/40)\n",
      "REBUILDING TRAINING DATA for kill bill (27/40)\n",
      "REBUILDING TRAINING DATA for the godfather (28/40)\n",
      "REBUILDING TRAINING DATA for pulp fiction (29/40)\n",
      "REBUILDING TRAINING DATA for christmas vacation (30/40)\n",
      "REBUILDING TRAINING DATA for psycho (31/40)\n",
      "REBUILDING TRAINING DATA for life is beautiful (32/40)\n",
      "REBUILDING TRAINING DATA for dark knight (33/40)\n",
      "REBUILDING TRAINING DATA for the green mile (34/40)\n",
      "REBUILDING TRAINING DATA for forrest gump (35/40)\n",
      "REBUILDING TRAINING DATA for top gun (36/40)\n",
      "REBUILDING TRAINING DATA for how to train your dragon (37/40)\n",
      "REBUILDING TRAINING DATA for how to train your dragon 2 (38/40)\n",
      "REBUILDING TRAINING DATA for star wars (39/40)\n"
     ]
    }
   ],
   "source": [
    "from ltr import collectFeatures\n",
    "trainingSet = collectFeatures.trainingSetFromJudgments(judgmentInFile='data/title_judgments.txt', \n",
    "                                                       trainingOutFile='data/title_judgments_train.txt', \n",
    "                                                       featureSet='title')"
   ]
  },
  {
   "cell_type": "code",
   "execution_count": 8,
   "metadata": {
    "collapsed": false,
    "deletable": true,
    "editable": true
   },
   "outputs": [
    {
     "name": "stdout",
     "output_type": "stream",
     "text": [
      "Running java -jar data/RankyMcRankFace.jar -ranker 6 -metric2t DCG@10 -tree 100 -train data/title_judgments_train.txt -save data/title_model.txt\n",
      "DONE\n",
      "Delete model title: 404\n",
      "{\"_index\":\".ltrstore\",\"_type\":\"store\",\"_id\":\"model-title\",\"_version\":2,\"result\":\"created\",\"forced_refresh\":true,\"_shards\":{\"total\":1,\"successful\":1,\"failed\":0},\"_seq_no\":2,\"_primary_term\":1}\n",
      "Created model title: 201\n",
      "\n",
      "Impact of each feature on the model\n",
      "1 - 631817.5770753905\n"
     ]
    }
   ],
   "source": [
    "from ltr import train\n",
    "trainLog = train.run(trainingInFile='data/title_judgments_train.txt',\n",
    "                     metric2t='DCG@10',\n",
    "                     featureSet='title',\n",
    "                     modelName='title')\n",
    "\n",
    "print()\n",
    "print(\"Impact of each feature on the model\")\n",
    "for ftrId, impact in trainLog.impacts.items():\n",
    "    print(\"{} - {}\".format(ftrId, impact))"
   ]
  },
  {
   "cell_type": "code",
   "execution_count": 14,
   "metadata": {
    "collapsed": false,
    "deletable": true,
    "editable": true
   },
   "outputs": [
    {
     "name": "stdout",
     "output_type": "stream",
     "text": [
      "{\"size\": 5, \"query\": {\"sltr\": {\"params\": {\"keywords\": \"star wars\"}, \"model\": \"title\"}}}\n",
      "Star Wars: The Force Awakens \n",
      "3.2223585 \n",
      "2015 \n",
      "['Action', 'Adventure', 'Science Fiction', 'Fantasy'] \n",
      "Thirty years after defeating the Galactic Empire, Han Solo and his allies face a new threat from the evil Kylo Ren and his army of Stormtroopers. \n",
      "---------------------------------------\n",
      "Rogue One: A Star Wars Story \n",
      "3.2223585 \n",
      "2016 \n",
      "['Adventure', 'Science Fiction', 'Action'] \n",
      "A rogue band of resistance fighters unite for a mission to steal the Death Star plans and bring a new hope to the galaxy. \n",
      "---------------------------------------\n",
      "Star Wars \n",
      "3.2223585 \n",
      "1977 \n",
      "['Adventure', 'Action', 'Science Fiction'] \n",
      "Princess Leia is captured and held hostage by the evil Imperial forces in their effort to take over the galactic Empire. Venturesome Luke Skywalker and dashing captain Han Solo team together with the loveable robot duo R2-D2 and C-3PO to rescue the beautiful princess and restore peace and justice in the Empire. \n",
      "---------------------------------------\n",
      "Star Wars: Episode III - Revenge of the Sith \n",
      "3.2223585 \n",
      "2005 \n",
      "['Science Fiction', 'Adventure', 'Action'] \n",
      "Years after the onset of the Clone Wars, the noble Jedi Knights lead a massive clone army into a galaxy-wide battle against the Separatists. When the sinister Sith unveil a thousand-year-old plot to rule the galaxy, the Republic crumbles and from its ashes rises the evil Galactic Empire. Jedi hero Anakin Skywalker is seduced by the dark side of the Force to become the Emperor's new apprentice – Darth Vader. The Jedi are decimated, as Obi-Wan Kenobi and Jedi Master Yoda are forced into hiding. The only hope for the galaxy are Anakin's own offspring – the twin children born in secrecy who will grow up to become heroes. \n",
      "---------------------------------------\n",
      "Star Wars: Episode II - Attack of the Clones \n",
      "3.2223585 \n",
      "2002 \n",
      "['Adventure', 'Action', 'Science Fiction'] \n",
      "Ten years after the invasion of Naboo, the galaxy is on the brink of civil war. Under the leadership of a renegade Jedi named Count Dooku, thousands of solar systems threaten to break away from the Galactic Republic. When an assassination attempt is made on Senator Padmé Amidala, the former Queen of Naboo, twenty-year-old Jedi apprentice Anakin Skywalker is assigned to protect her. In the course of his mission, Anakin discovers his love for Padmé as well as his own darker side. Soon, Anakin, Padmé, and Obi-Wan Kenobi are drawn into the heart of the Separatist movement and the beginning of the Clone Wars. \n",
      "---------------------------------------\n"
     ]
    }
   ],
   "source": [
    "from ltr import search\n",
    "search.run(\"star wars\", modelName='title')"
   ]
  },
  {
   "cell_type": "code",
   "execution_count": null,
   "metadata": {
    "collapsed": true
   },
   "outputs": [],
   "source": []
  }
 ],
 "metadata": {
  "kernelspec": {
   "display_name": "Python 3",
   "language": "python",
   "name": "python3"
  },
  "language_info": {
   "codemirror_mode": {
    "name": "ipython",
    "version": 3
   },
   "file_extension": ".py",
   "mimetype": "text/x-python",
   "name": "python",
   "nbconvert_exporter": "python",
   "pygments_lexer": "ipython3",
   "version": "3.6.1"
  }
 },
 "nbformat": 4,
 "nbformat_minor": 2
}
