{
 "cells": [
  {
   "cell_type": "markdown",
   "metadata": {},
   "source": [
    "# Basics & Prereqs (run once)\n",
    "\n",
    "If you don't already have the downloaded dependencies; if you don't have TheMovieDB data indexed run this"
   ]
  },
  {
   "cell_type": "code",
   "execution_count": 2,
   "metadata": {},
   "outputs": [
    {
     "name": "stdout",
     "output_type": "stream",
     "text": [
      "GET http://es-learn-to-rank.labs.o19s.com/tmdb.json\n",
      "GET http://es-learn-to-rank.labs.o19s.com/RankyMcRankFace.jar\n",
      "GET http://es-learn-to-rank.labs.o19s.com/title_judgments.txt\n",
      "Done.\n",
      "RUNNING INDEXING...\n",
      "DO IT!\n",
      "Deleted index tmdb [Status: 200]\n",
      "Created index tmdb [Status: 200]\n",
      "Indexing 27846 documents\n",
      "Flushing 500 movies\n",
      "Done [Status: 200]\n",
      "Flushing 500 movies\n",
      "Done [Status: 200]\n",
      "Flushing 500 movies\n",
      "Done [Status: 200]\n",
      "Flushing 500 movies\n",
      "Done [Status: 200]\n",
      "Flushing 500 movies\n",
      "Done [Status: 200]\n",
      "Flushing 500 movies\n",
      "Done [Status: 200]\n",
      "Flushing 500 movies\n",
      "Done [Status: 200]\n",
      "Flushing 500 movies\n",
      "Done [Status: 200]\n",
      "Flushing 500 movies\n",
      "Done [Status: 200]\n",
      "Flushing 500 movies\n",
      "Done [Status: 200]\n",
      "Flushing 500 movies\n",
      "Done [Status: 200]\n",
      "Flushing 500 movies\n",
      "Done [Status: 200]\n",
      "Flushing 500 movies\n",
      "Done [Status: 200]\n",
      "Skipping 67456\n",
      "Skipping 67479\n",
      "Skipping 133252\n",
      "Flushing 500 movies\n",
      "Done [Status: 200]\n",
      "Skipping 211779\n",
      "Skipping 200039\n",
      "Skipping 69372\n",
      "Skipping 69487\n",
      "Skipping 164721\n",
      "Flushing 500 movies\n",
      "Done [Status: 200]\n",
      "Skipping 124531\n",
      "Flushing 500 movies\n",
      "Done [Status: 200]\n",
      "Skipping 202855\n",
      "Flushing 500 movies\n",
      "Done [Status: 200]\n",
      "Skipping 110639\n",
      "Skipping 205300\n",
      "Skipping 74309\n",
      "Skipping 206216\n",
      "Flushing 500 movies\n",
      "Done [Status: 200]\n",
      "Skipping 10700\n",
      "Flushing 500 movies\n",
      "Done [Status: 200]\n",
      "Skipping 273740\n",
      "Flushing 500 movies\n",
      "Done [Status: 200]\n",
      "Skipping 13057\n",
      "Skipping 264330\n",
      "Skipping 13716\n",
      "Flushing 500 movies\n",
      "Done [Status: 200]\n",
      "Skipping 276690\n",
      "Flushing 500 movies\n",
      "Done [Status: 200]\n",
      "Skipping 68149\n",
      "Skipping 211877\n",
      "Skipping 15533\n",
      "Skipping 15594\n",
      "Skipping 15738\n",
      "Flushing 500 movies\n",
      "Done [Status: 200]\n",
      "Skipping 82205\n",
      "Skipping 82400\n",
      "Flushing 500 movies\n",
      "Done [Status: 200]\n",
      "Skipping 17882\n",
      "Flushing 500 movies\n",
      "Done [Status: 200]\n",
      "Skipping 166918\n",
      "Skipping 156078\n",
      "Skipping 19341\n",
      "Flushing 500 movies\n",
      "Done [Status: 200]\n",
      "Skipping 151153\n",
      "Flushing 500 movies\n",
      "Done [Status: 200]\n",
      "Skipping 20892\n",
      "Skipping 21680\n",
      "Flushing 500 movies\n",
      "Done [Status: 200]\n",
      "Flushing 500 movies\n",
      "Done [Status: 200]\n",
      "Skipping 24219\n",
      "Skipping 24549\n",
      "Flushing 500 movies\n",
      "Done [Status: 200]\n",
      "Skipping 222481\n",
      "Flushing 500 movies\n",
      "Done [Status: 200]\n",
      "Skipping 244797\n",
      "Flushing 500 movies\n",
      "Done [Status: 200]\n",
      "Skipping 355551\n",
      "Flushing 500 movies\n",
      "Done [Status: 200]\n",
      "Skipping 29133\n",
      "Flushing 500 movies\n",
      "Done [Status: 200]\n",
      "Flushing 500 movies\n",
      "Done [Status: 200]\n",
      "Skipping 147269\n",
      "Skipping 31653\n",
      "Skipping 162806\n",
      "Flushing 500 movies\n",
      "Done [Status: 200]\n",
      "Skipping 230657\n",
      "Flushing 500 movies\n",
      "Done [Status: 200]\n",
      "Skipping 136991\n",
      "Skipping 166986\n",
      "Skipping 101517\n",
      "Flushing 500 movies\n",
      "Done [Status: 200]\n",
      "Skipping 298573\n",
      "Skipping 37106\n",
      "Skipping 168332\n",
      "Skipping 233984\n",
      "Flushing 500 movies\n",
      "Done [Status: 200]\n",
      "Skipping 37525\n",
      "Skipping 169224\n",
      "Flushing 500 movies\n",
      "Done [Status: 200]\n",
      "Skipping 301231\n",
      "Skipping 170359\n",
      "Skipping 225130\n",
      "Flushing 500 movies\n",
      "Done [Status: 200]\n",
      "Skipping 94174\n",
      "Skipping 172538\n",
      "Skipping 238386\n",
      "Flushing 500 movies\n",
      "Done [Status: 200]\n",
      "Skipping 239163\n",
      "Flushing 500 movies\n",
      "Done [Status: 200]\n",
      "Flushing 500 movies\n",
      "Done [Status: 200]\n",
      "Skipping 110414\n",
      "Flushing 500 movies\n",
      "Done [Status: 200]\n",
      "Flushing 500 movies\n",
      "Done [Status: 200]\n",
      "Skipping 113879\n",
      "Skipping 114049\n",
      "Flushing 500 movies\n",
      "Done [Status: 200]\n",
      "Skipping 78057\n",
      "Flushing 500 movies\n",
      "Done [Status: 200]\n",
      "Skipping 313289\n",
      "Skipping 314040\n",
      "Skipping 51982\n",
      "Skipping 248785\n",
      "Skipping 281788\n",
      "Flushing 500 movies\n",
      "Done [Status: 200]\n",
      "Skipping 53285\n",
      "Skipping 53803\n",
      "Flushing 500 movies\n",
      "Done [Status: 200]\n",
      "Skipping 12773\n",
      "Flushing 500 movies\n",
      "Done [Status: 200]\n",
      "Skipping 252993\n",
      "Skipping 252995\n",
      "Skipping 253768\n",
      "Skipping 57290\n",
      "Skipping 253941\n",
      "Flushing 500 movies\n",
      "Done [Status: 200]\n",
      "Skipping 58423\n",
      "Flushing 500 movies\n",
      "Done [Status: 200]\n",
      "Skipping 191903\n",
      "Skipping 61917\n",
      "Skipping 61919\n",
      "Skipping 61920\n",
      "Flushing 500 movies\n",
      "Done [Status: 200]\n",
      "Skipping 62582\n",
      "Skipping 62653\n",
      "Skipping 185441\n",
      "Flushing 500 movies\n",
      "Done [Status: 200]\n",
      "Skipping 64699\n",
      "Flushing 260 movies\n",
      "Done [Status: 200]\n",
      "Done\n"
     ]
    }
   ],
   "source": [
    "from ltr.client.solr_client import SolrClient\n",
    "client = SolrClient()\n",
    "\n",
    "from ltr import download, index\n",
    "download.download(); index.rebuild_tmdb(client)"
   ]
  },
  {
   "cell_type": "markdown",
   "metadata": {},
   "source": [
    "### Use Solr Client"
   ]
  },
  {
   "cell_type": "code",
   "execution_count": 1,
   "metadata": {},
   "outputs": [],
   "source": [
    "from ltr.client.solr_client import SolrClient\n",
    "client = SolrClient()"
   ]
  },
  {
   "cell_type": "markdown",
   "metadata": {},
   "source": [
    "# Our Task: Optimizing \"Drama\" and \"Science Fiction\" queries\n",
    "\n",
    "In this example we have two user queries\n",
    "\n",
    "- Drama\n",
    "- Science Fiction\n",
    "\n",
    "And we want to train a model to return the best movies for these movies when a user types them into our search bar.\n",
    "\n",
    "We learn through analysis that searchers prefer newer science fiction, but older drama. Like a lot of search relevance problems, two queries need to be optimized in *different* directions"
   ]
  },
  {
   "cell_type": "markdown",
   "metadata": {},
   "source": [
    "### Synthetic Judgment List Generation\n",
    "\n",
    "To setup this example, we'll generate a judgment list that rewards new science fiction movies as more relevant; and old drama movies as relevant."
   ]
  },
  {
   "cell_type": "code",
   "execution_count": 4,
   "metadata": {},
   "outputs": [
    {
     "name": "stdout",
     "output_type": "stream",
     "text": [
      "Generating judgments for scifi & drama movies\n",
      "Query {'q': '*:*... [Status: 200]\n",
      "Done\n"
     ]
    }
   ],
   "source": [
    "from ltr.date_genre_judgments import synthesize\n",
    "judgments = synthesize(client, judgmentsOutFile='data/genre_by_date_judgments.txt')"
   ]
  },
  {
   "cell_type": "code",
   "execution_count": 2,
   "metadata": {},
   "outputs": [],
   "source": [
    "# Uncomment this line to see the judgments\n",
    "# \n",
    "# for judgment in judgments:\n",
    "#    print(judgment.toRanklibFormat())"
   ]
  },
  {
   "cell_type": "markdown",
   "metadata": {},
   "source": [
    "### Feature selection should be *easy!*\n",
    "\n",
    "Notice we have 4 proposed features, that seem like they should work! This should be a piece of cake...\n",
    "\n",
    "1. Release Year of a movie `release_year` - feature ID 1\n",
    "2. Is the movie Science Fiction `is_scifi` - feature ID 2\n",
    "3. Is the movie Drama `is_drama` - feature ID 3\n",
    "4. Does the search term match the genre field `is_genre_match` - feature ID 4\n"
   ]
  },
  {
   "cell_type": "code",
   "execution_count": 14,
   "metadata": {},
   "outputs": [
    {
     "name": "stdout",
     "output_type": "stream",
     "text": [
      "Deleted classic model [Status: 200]\n",
      "Deleted genre model [Status: 200]\n",
      "Deleted latest model [Status: 200]\n",
      "Deleted title model [Status: 200]\n",
      "Deleted title_fuzzy model [Status: 200]\n",
      "Deleted _DEFAULT Featurestore [Status: 200]\n",
      "Deleted genre Featurestore [Status: 200]\n",
      "Deleted release Featurestore [Status: 200]\n",
      "Deleted title Featurestore [Status: 200]\n",
      "Deleted title_fuzzy Featurestore [Status: 200]\n",
      "Created genre feature store under tmdb: [Status: 200]\n"
     ]
    }
   ],
   "source": [
    "config = [\n",
    "            {\n",
    "                \"store\": \"genre\", # Note: This overrides the _DEFAULT_ feature store location\n",
    "                \"name\" : \"release_year\",\n",
    "                \"class\" : \"org.apache.solr.ltr.feature.SolrFeature\",\n",
    "                \"params\" : {\n",
    "                  \"q\" : \"{!func}def(release_year,2000)\"\n",
    "                }\n",
    "            },\n",
    "            {\n",
    "                \"store\": \"genre\",\n",
    "                \"name\" : \"is_sci_fi\",\n",
    "                \"class\" : \"org.apache.solr.ltr.feature.SolrFeature\",\n",
    "                \"params\" : {\n",
    "                  \"q\" : \"genres:\\\"Science Fiction\\\"^=10.0\"\n",
    "                }\n",
    "            },\n",
    "            {\n",
    "                \"store\": \"genre\",\n",
    "                \"name\" : \"is_drama\",\n",
    "                \"class\" : \"org.apache.solr.ltr.feature.SolrFeature\",\n",
    "                \"params\" : {\n",
    "                  \"q\" : \"genres:\\\"Drama\\\"^=4.0\"\n",
    "                }\n",
    "            },\n",
    "            {\n",
    "                \"store\": \"genre\",\n",
    "                \"name\" : \"is_genre_match\",\n",
    "                \"class\" : \"org.apache.solr.ltr.feature.SolrFeature\",\n",
    "                \"params\" : {\n",
    "                  \"q\" : \"genres:\\\"${keywords}\\\"^=100.0\"\n",
    "                }\n",
    "            }\n",
    "]\n",
    "\n",
    "\n",
    "from ltr.setup import setup\n",
    "setup(client, config=config, featureset='genre')"
   ]
  },
  {
   "cell_type": "markdown",
   "metadata": {},
   "source": [
    "### Log from search engine -> to training set\n",
    "\n",
    "Each feature is a query to be scored against the judgment list"
   ]
  },
  {
   "cell_type": "code",
   "execution_count": 6,
   "metadata": {},
   "outputs": [
    {
     "name": "stdout",
     "output_type": "stream",
     "text": [
      "Recognizing 2 queries...\n",
      "Searching tmdb [Status: 200]\n",
      "REBUILDING TRAINING DATA for Science Fiction (0/2)\n",
      "Searching tmdb [Status: 200]\n",
      "Searching tmdb [Status: 200]\n",
      "Searching tmdb [Status: 200]\n",
      "Searching tmdb [Status: 200]\n",
      "Searching tmdb [Status: 200]\n",
      "Searching tmdb [Status: 200]\n",
      "REBUILDING TRAINING DATA for Drama (1/2)\n"
     ]
    }
   ],
   "source": [
    "from ltr.collect_features import judgments_to_training_set\n",
    "trainingSet = judgments_to_training_set(client,\n",
    "                                        judgmentInFile='data/genre_by_date_judgments.txt', \n",
    "                                        trainingOutFile='data/genre_by_date_judgments_train.txt', \n",
    "                                        featureSet='genre')"
   ]
  },
  {
   "cell_type": "markdown",
   "metadata": {},
   "source": [
    "### Training - Guaraneed Perfect Search Results!\n",
    "\n",
    "We'll train a LambdaMART model against this training data."
   ]
  },
  {
   "cell_type": "code",
   "execution_count": 2,
   "metadata": {},
   "outputs": [
    {
     "name": "stdout",
     "output_type": "stream",
     "text": [
      "Running java -jar data/RankyMcRankFace.jar -ranker 6 -metric2t NDCG@10 -tree 100 -train data/genre_by_date_judgments_train.txt -save data/genre_model.txt\n",
      "DONE\n",
      "Submit Model genre Ftr Set genre [Status: 200]\n",
      "Deleted Model genre [Status: 200]\n",
      "Created Model genre [Status: 200]\n",
      "\n",
      "Impact of each feature on the model\n",
      "4 - 178579056.50291184\n",
      "1 - 107974596.42237584\n",
      "3 - 14215772.384097328\n",
      "2 - 7654167.426058862\n",
      "Perfect NDCG! 1.0\n"
     ]
    }
   ],
   "source": [
    "from ltr.train import train\n",
    "trainLog = train(client, \n",
    "                 trainingInFile='data/genre_by_date_judgments_train.txt',\n",
    "                 metric2t='NDCG@10',\n",
    "                 featureSet='genre',\n",
    "                 modelName='genre')\n",
    "\n",
    "print()\n",
    "print(\"Impact of each feature on the model\")\n",
    "for ftrId, impact in trainLog.impacts.items():\n",
    "    print(\"{} - {}\".format(ftrId, impact))\n",
    "    \n",
    "print(\"Perfect NDCG! {}\".format(trainLog.rounds[-1]))"
   ]
  },
  {
   "cell_type": "markdown",
   "metadata": {},
   "source": [
    "### But this search sucks!\n",
    "Try searches for \"Science Fiction\" and \"Drama\""
   ]
  },
  {
   "cell_type": "code",
   "execution_count": 8,
   "metadata": {},
   "outputs": [
    {
     "name": "stdout",
     "output_type": "stream",
     "text": [
      "Query {'fl': '*,... [Status: 200]\n",
      "['A Man There Was'] \n",
      "8.84513 \n",
      "1917 \n",
      "['Drama'] \n",
      "[\"Terje Vigen, a sailor, suffers the loss of his family through the cruelty of another man. Years later, when his enemy's family finds itself dependent on Terje's benevolence, Terje must decide whether to avenge himself.\"] \n",
      "---------------------------------------\n",
      "['The Immigrant'] \n",
      "8.84513 \n",
      "1917 \n",
      "['Comedy', 'Drama'] \n",
      "['Charlie is an immigrant who endures a challenging voyage and gets into trouble as soon as he arrives in America.'] \n",
      "---------------------------------------\n",
      "['The Cabinet of Dr. Caligari'] \n",
      "8.844578 \n",
      "1920 \n",
      "['Drama', 'Horror', 'Thriller', 'Crime'] \n",
      "['The Cabinet of Dr. Caligari is eerie and expressionistic, silent and surreal. It has become not only a classic of German Expressionist cinema, but a landmark in film history, with creative scenery and an unusual ending.'] \n",
      "---------------------------------------\n",
      "['Within Our Gates'] \n",
      "8.844578 \n",
      "1920 \n",
      "['Drama', 'Romance'] \n",
      "['Abandoned by her fiancé, an educated negro woman with a shocking past dedicates herself to helping a near bankrupt school for impoverished negro youths.'] \n",
      "---------------------------------------\n",
      "['The Last of the Mohicans'] \n",
      "8.844578 \n",
      "1920 \n",
      "['Adventure', 'Drama', 'Action', 'History'] \n",
      "['As Alice and Cora Munro attempt to find their father, a British officer in the French and Indian War, they are set upon by French soldiers and their cohorts, Huron tribesmen led by the evil Magua. Fighting to rescue the women are Chingachgook and his son Uncas, the last of the Mohican tribe, and their white ally, the frontiersman Natty Bumppo, known as Hawkeye.'] \n",
      "---------------------------------------\n"
     ]
    }
   ],
   "source": [
    "from ltr.search import search\n",
    "search(client, keywords=\"Science Fiction\", modelName=\"genre\")"
   ]
  },
  {
   "cell_type": "markdown",
   "metadata": {
    "collapsed": true
   },
   "source": [
    "### Why didn't it work!?!? Training data\n",
    "\n",
    "1. Examine the training data, do we cover every example of a BAD result\n",
    "2. Examine the feature impacts, do any of the features the model uses even USE the keywords?\n",
    "\n",
    "### Ranklib only sees the data you give it, we don't have good enough coverage\n",
    "\n",
    "You need to have feature coverage, especially over negative examples. Most documents in the index are negative! \n",
    "\n",
    "One trick commonly used is to treat other queries positive results as this queries negative results. Indeed what we're missing here are negative examples for \"Science Fiction\" that are not science fiction movies. A glaring omission, we'll handle now... With the `autoNegate` flag, we'll add additional negative examples to the judgment list"
   ]
  },
  {
   "cell_type": "code",
   "execution_count": 11,
   "metadata": {},
   "outputs": [
    {
     "name": "stdout",
     "output_type": "stream",
     "text": [
      "Generating judgments for scifi & drama movies\n",
      "Query {'q': '*:*... [Status: 200]\n",
      "Done\n",
      "Recognizing 2 queries...\n",
      "Searching tmdb [Status: 200]\n",
      "Searching tmdb [Status: 200]\n",
      "Searching tmdb [Status: 200]\n",
      "Searching tmdb [Status: 200]\n",
      "Searching tmdb [Status: 200]\n",
      "Searching tmdb [Status: 200]\n",
      "REBUILDING TRAINING DATA for Science Fiction (0/2)\n",
      "Searching tmdb [Status: 200]\n",
      "Searching tmdb [Status: 200]\n",
      "Searching tmdb [Status: 200]\n",
      "Searching tmdb [Status: 200]\n",
      "Searching tmdb [Status: 200]\n",
      "Searching tmdb [Status: 200]\n",
      "REBUILDING TRAINING DATA for Drama (1/2)\n",
      "Running java -jar data/RankyMcRankFace.jar -ranker 6 -metric2t NDCG@10 -tree 100 -train data/genre_by_date_judgments_train.txt -save data/genre_model.txt\n",
      "DONE\n",
      "Submit Model genre Ftr Set genre [Status: 200]\n",
      "Deleted Model genre [Status: 200]\n",
      "Created Model genre [Status: 200]\n",
      "\n",
      "Impact of each feature on the model\n",
      "4 - 178579056.50291184\n",
      "1 - 107974596.42237584\n",
      "3 - 14215772.384097328\n",
      "2 - 7654167.426058862\n",
      "Perfect NDCG! 1.0\n"
     ]
    }
   ],
   "source": [
    "from ltr import date_genre_judgments\n",
    "date_genre_judgments.buildJudgments(client,\n",
    "                                    judgmentsFile='data/genre_by_date_judgments.txt',\n",
    "                                    autoNegate=True)\n",
    "\n",
    "judgments_to_training_set(client,\n",
    "                          judgmentInFile='data/genre_by_date_judgments.txt', \n",
    "                          trainingOutFile='data/genre_by_date_judgments_train.txt', \n",
    "                          featureSet='genre')\n",
    "\n",
    "from ltr.train import train\n",
    "trainLog = train(client,\n",
    "                 trainingInFile='data/genre_by_date_judgments_train.txt',\n",
    "                 metric2t='NDCG@10',\n",
    "                 featureSet='genre',\n",
    "                 modelName='genre')\n",
    "\n",
    "print()\n",
    "print(\"Impact of each feature on the model\")\n",
    "for ftrId, impact in trainLog.impacts.items():\n",
    "    print(\"{} - {}\".format(ftrId, impact))\n",
    "    \n",
    "print(\"Perfect NDCG! {}\".format(trainLog.rounds[-1]))"
   ]
  },
  {
   "cell_type": "markdown",
   "metadata": {},
   "source": [
    "### Now try those queries...\n",
    "\n",
    "Replace keywords below with 'science fiction' or 'drama' and see how it works"
   ]
  },
  {
   "cell_type": "code",
   "execution_count": 3,
   "metadata": {},
   "outputs": [
    {
     "name": "stdout",
     "output_type": "stream",
     "text": [
      "Query {'fl': '*,... [Status: 200]\n",
      "['A Man There Was'] \n",
      "3.9405792 \n",
      "1917 \n",
      "['Drama'] \n",
      "[\"Terje Vigen, a sailor, suffers the loss of his family through the cruelty of another man. Years later, when his enemy's family finds itself dependent on Terje's benevolence, Terje must decide whether to avenge himself.\"] \n",
      "---------------------------------------\n",
      "['The Immigrant'] \n",
      "3.9405792 \n",
      "1917 \n",
      "['Comedy', 'Drama'] \n",
      "['Charlie is an immigrant who endures a challenging voyage and gets into trouble as soon as he arrives in America.'] \n",
      "---------------------------------------\n",
      "['Blacksmith Scene'] \n",
      "3.939317 \n",
      "1893 \n",
      "['Drama'] \n",
      "['Three men hammer on an anvil and pass a bottle of beer around. Notable for being the first film in which a scene is being acted out.'] \n",
      "---------------------------------------\n",
      "[\"Tillie's Punctured Romance\"] \n",
      "3.939317 \n",
      "1914 \n",
      "['Comedy', 'Drama', 'Romance'] \n",
      "[\"Chaplin plays a womanizing city man who meets Tillie (Dressler) in the country after a fight with his girlfriend (Normand). When he sees that Tillie's father has a very large bankroll for his workers, he persuades her to elope with him. In the city, he meets the woman he was seeing already, and tries to work around the complication to steal Tillie's money.\"] \n",
      "---------------------------------------\n",
      "['The Sea Vultures'] \n",
      "3.939317 \n",
      "1915 \n",
      "['Drama'] \n",
      "[\"Two smugglers meet two customs officers at sea, and happen to kill them. The story continues fifteen years later when a son of one of the officers and a smuggler's daughter fall in love with each other.\"] \n",
      "---------------------------------------\n"
     ]
    }
   ],
   "source": [
    "from ltr.search import search\n",
    "search(client, keywords=\"Drama\", modelName=\"genre\")"
   ]
  },
  {
   "cell_type": "markdown",
   "metadata": {},
   "source": [
    "### The next problem\n",
    "\n",
    "- Overfit to these two examples\n",
    "- We need many more queries, covering more use cases"
   ]
  },
  {
   "cell_type": "code",
   "execution_count": null,
   "metadata": {
    "collapsed": true
   },
   "outputs": [],
   "source": []
  }
 ],
 "metadata": {
  "kernelspec": {
   "display_name": "Python 3",
   "language": "python",
   "name": "python3"
  },
  "language_info": {
   "codemirror_mode": {
    "name": "ipython",
    "version": 3
   },
   "file_extension": ".py",
   "mimetype": "text/x-python",
   "name": "python",
   "nbconvert_exporter": "python",
   "pygments_lexer": "ipython3",
   "version": "3.6.1"
  }
 },
 "nbformat": 4,
 "nbformat_minor": 2
}
