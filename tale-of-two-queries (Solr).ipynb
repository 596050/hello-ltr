{
 "cells": [
  {
   "cell_type": "markdown",
   "metadata": {},
   "source": [
    "# Basics & Prereqs (run once)\n",
    "\n",
    "If you don't already have the downloaded dependencies; if you don't have TheMovieDB data indexed run this"
   ]
  },
  {
   "cell_type": "code",
   "execution_count": 1,
   "metadata": {},
   "outputs": [
    {
     "name": "stdout",
     "output_type": "stream",
     "text": [
      "GET https://dl.bintray.com/o19s/RankyMcRankFace/com/o19s/RankyMcRankFace/0.1.1/RankyMcRankFace-0.1.1.jar\n",
      "GET http://es-learn-to-rank.labs.o19s.com/tmdb.json\n",
      "Done.\n"
     ]
    }
   ],
   "source": [
    "from ltr import download, index\n",
    "download.run(); index.run()"
   ]
  },
  {
   "cell_type": "markdown",
   "metadata": {},
   "source": [
    "## Switch to Solr\n",
    "By default examples run against elastic, the following snippet will change things to Solr"
   ]
  },
  {
   "cell_type": "code",
   "execution_count": 1,
   "metadata": {},
   "outputs": [
    {
     "name": "stdout",
     "output_type": "stream",
     "text": [
      "Switched to Solr client_mode\n"
     ]
    }
   ],
   "source": [
    "from ltr import useSolr\n",
    "useSolr()"
   ]
  },
  {
   "cell_type": "markdown",
   "metadata": {},
   "source": [
    "# Our Task: Optimizing \"Drama\" and \"Science Fiction\" queries\n",
    "\n",
    "In this example we have two user queries\n",
    "\n",
    "- Drama\n",
    "- Science Fiction\n",
    "\n",
    "And we want to train a model to return the best movies for these movies when a user types them into our search bar.\n",
    "\n",
    "We learn through analysis that searchers prefer newer science fiction, but older drama. Like a lot of search relevance problems, two queries need to be optimized in *different* directions"
   ]
  },
  {
   "cell_type": "markdown",
   "metadata": {},
   "source": [
    "### Synthetic Judgment List Generation\n",
    "\n",
    "To setup this example, we'll generate a judgment list that rewards new science fiction movies as more relevant; and old drama movies as relevant."
   ]
  },
  {
   "cell_type": "code",
   "execution_count": 2,
   "metadata": {},
   "outputs": [
    {
     "name": "stdout",
     "output_type": "stream",
     "text": [
      "Generating judgments for scifi & drama movies\n",
      "Done\n"
     ]
    }
   ],
   "source": [
    "from ltr import date_genre_judgments\n",
    "judgments = date_genre_judgments.buildJudgments(judgmentsFile='data/genre_by_date_judgments.txt')"
   ]
  },
  {
   "cell_type": "code",
   "execution_count": 2,
   "metadata": {},
   "outputs": [],
   "source": [
    "# Uncomment this line to see the judgments\n",
    "# \n",
    "# for judgment in judgments:\n",
    "#    print(judgment.toRanklibFormat())"
   ]
  },
  {
   "cell_type": "markdown",
   "metadata": {},
   "source": [
    "### Feature selection should be *easy!*\n",
    "\n",
    "Notice we have 4 proposed features, that seem like they should work! This should be a piece of cake...\n",
    "\n",
    "1. Release Year of a movie `release_year` - feature ID 1\n",
    "2. Is the movie Science Fiction `is_scifi` - feature ID 2\n",
    "3. Is the movie Drama `is_drama` - feature ID 3\n",
    "4. Does the search term match the genre field `is_genre_match` - feature ID 4\n"
   ]
  },
  {
   "cell_type": "code",
   "execution_count": 3,
   "metadata": {},
   "outputs": [
    {
     "name": "stdout",
     "output_type": "stream",
     "text": [
      "Deleted classic model: 200\n",
      "Deleted genre model: 200\n",
      "Deleted latest model: 200\n",
      "Delete _DEFAULT feature store: 200\n",
      "Delete genre feature store: 200\n",
      "Delete release feature store: 200\n",
      "Created genre feature store under tmdb: 200\n"
     ]
    }
   ],
   "source": [
    "config = [\n",
    "            {\n",
    "                \"store\": \"genre\", # Note: This overrides the _DEFAULT_ feature store location\n",
    "                \"name\" : \"release_year\",\n",
    "                \"class\" : \"org.apache.solr.ltr.feature.SolrFeature\",\n",
    "                \"params\" : {\n",
    "                  \"q\" : \"{!func}def(release_year,2000)\"\n",
    "                }\n",
    "            },\n",
    "            {\n",
    "                \"store\": \"genre\",\n",
    "                \"name\" : \"is_sci_fi\",\n",
    "                \"class\" : \"org.apache.solr.ltr.feature.SolrFeature\",\n",
    "                \"params\" : {\n",
    "                  \"q\" : \"genres:\\\"Science Fiction\\\"^=10.0\"\n",
    "                }\n",
    "            },\n",
    "            {\n",
    "                \"store\": \"genre\",\n",
    "                \"name\" : \"is_drama\",\n",
    "                \"class\" : \"org.apache.solr.ltr.feature.SolrFeature\",\n",
    "                \"params\" : {\n",
    "                  \"q\" : \"genres:\\\"Drama\\\"^=4.0\"\n",
    "                }\n",
    "            },\n",
    "            {\n",
    "                \"store\": \"genre\",\n",
    "                \"name\" : \"is_genre_match\",\n",
    "                \"class\" : \"org.apache.solr.ltr.feature.SolrFeature\",\n",
    "                \"params\" : {\n",
    "                  \"q\" : \"genres:\\\"${keywords}\\\"^=100.0\"\n",
    "                }\n",
    "            }\n",
    "]\n",
    "\n",
    "\n",
    "from ltr import setup_ltr\n",
    "setup_ltr.run(config=config, featureset='genre')"
   ]
  },
  {
   "cell_type": "markdown",
   "metadata": {},
   "source": [
    "### Log from search engine -> to training set\n",
    "\n",
    "Each feature is a query to be scored against the judgment list"
   ]
  },
  {
   "cell_type": "code",
   "execution_count": 4,
   "metadata": {},
   "outputs": [
    {
     "name": "stdout",
     "output_type": "stream",
     "text": [
      "Recognizing 2 queries...\n"
     ]
    },
    {
     "ename": "KeyError",
     "evalue": "'id'",
     "output_type": "error",
     "traceback": [
      "\u001b[0;31m---------------------------------------------------------------------------\u001b[0m",
      "\u001b[0;31mKeyError\u001b[0m                                  Traceback (most recent call last)",
      "\u001b[0;32m<ipython-input-4-f19fef508eac>\u001b[0m in \u001b[0;36m<module>\u001b[0;34m\u001b[0m\n\u001b[1;32m      2\u001b[0m trainingSet = collectFeatures.trainingSetFromJudgments(judgmentInFile='data/genre_by_date_judgments.txt', \n\u001b[1;32m      3\u001b[0m                                                        \u001b[0mtrainingOutFile\u001b[0m\u001b[0;34m=\u001b[0m\u001b[0;34m'data/genre_by_date_judgments_train.txt'\u001b[0m\u001b[0;34m,\u001b[0m\u001b[0;34m\u001b[0m\u001b[0m\n\u001b[0;32m----> 4\u001b[0;31m                                                        featureSet='genre')\n\u001b[0m",
      "\u001b[0;32m~/dev/osc/train/hello-ltr/ltr/collectFeatures.py\u001b[0m in \u001b[0;36mtrainingSetFromJudgments\u001b[0;34m(judgmentInFile, featureSet, trainingOutFile)\u001b[0m\n\u001b[1;32m     71\u001b[0m     \u001b[0mjudgments\u001b[0m \u001b[0;34m=\u001b[0m \u001b[0mjudgmentsFromFile\u001b[0m\u001b[0;34m(\u001b[0m\u001b[0mjudgmentInFile\u001b[0m\u001b[0;34m)\u001b[0m\u001b[0;34m\u001b[0m\u001b[0m\n\u001b[1;32m     72\u001b[0m     \u001b[0mjudgments\u001b[0m \u001b[0;34m=\u001b[0m \u001b[0mjudgmentsByQid\u001b[0m\u001b[0;34m(\u001b[0m\u001b[0mjudgments\u001b[0m\u001b[0;34m)\u001b[0m\u001b[0;34m\u001b[0m\u001b[0m\n\u001b[0;32m---> 73\u001b[0;31m     \u001b[0mlogFeatures\u001b[0m\u001b[0;34m(\u001b[0m\u001b[0mjudgments\u001b[0m\u001b[0;34m,\u001b[0m \u001b[0mfeatureSet\u001b[0m\u001b[0;34m=\u001b[0m\u001b[0mfeatureSet\u001b[0m\u001b[0;34m)\u001b[0m\u001b[0;34m\u001b[0m\u001b[0m\n\u001b[0m\u001b[1;32m     74\u001b[0m \u001b[0;34m\u001b[0m\u001b[0m\n\u001b[1;32m     75\u001b[0m     \u001b[0mjudgmentsAsList\u001b[0m \u001b[0;34m=\u001b[0m \u001b[0;34m[\u001b[0m\u001b[0;34m]\u001b[0m\u001b[0;34m\u001b[0m\u001b[0m\n",
      "\u001b[0;32m~/dev/osc/train/hello-ltr/ltr/collectFeatures.py\u001b[0m in \u001b[0;36mlogFeatures\u001b[0;34m(judgmentsByQid, featureSet)\u001b[0m\n\u001b[1;32m     46\u001b[0m             \u001b[0;31m# Add feature back to each judgment\u001b[0m\u001b[0;34m\u001b[0m\u001b[0;34m\u001b[0m\u001b[0m\n\u001b[1;32m     47\u001b[0m             \u001b[0;32mfor\u001b[0m \u001b[0mdoc\u001b[0m \u001b[0;32min\u001b[0m \u001b[0mres\u001b[0m\u001b[0;34m:\u001b[0m\u001b[0;34m\u001b[0m\u001b[0m\n\u001b[0;32m---> 48\u001b[0;31m                 \u001b[0mdocId\u001b[0m \u001b[0;34m=\u001b[0m \u001b[0mdoc\u001b[0m\u001b[0;34m[\u001b[0m\u001b[0;34m'id'\u001b[0m\u001b[0;34m]\u001b[0m\u001b[0;34m\u001b[0m\u001b[0m\n\u001b[0m\u001b[1;32m     49\u001b[0m                 \u001b[0mfeatures\u001b[0m \u001b[0;34m=\u001b[0m \u001b[0mdoc\u001b[0m\u001b[0;34m[\u001b[0m\u001b[0;34m'ltr_features'\u001b[0m\u001b[0;34m]\u001b[0m\u001b[0;34m\u001b[0m\u001b[0m\n\u001b[1;32m     50\u001b[0m                 \u001b[0mfeaturesPerDoc\u001b[0m\u001b[0;34m[\u001b[0m\u001b[0mdocId\u001b[0m\u001b[0;34m]\u001b[0m \u001b[0;34m=\u001b[0m \u001b[0mfeatures\u001b[0m\u001b[0;34m\u001b[0m\u001b[0m\n",
      "\u001b[0;31mKeyError\u001b[0m: 'id'"
     ]
    }
   ],
   "source": [
    "from ltr import collectFeatures\n",
    "trainingSet = collectFeatures.trainingSetFromJudgments(judgmentInFile='data/genre_by_date_judgments.txt', \n",
    "                                                       trainingOutFile='data/genre_by_date_judgments_train.txt', \n",
    "                                                       featureSet='genre')"
   ]
  },
  {
   "cell_type": "markdown",
   "metadata": {},
   "source": [
    "### Training - Guaraneed Perfect Search Results!\n",
    "\n",
    "We'll train a LambdaMART model against this training data."
   ]
  },
  {
   "cell_type": "code",
   "execution_count": 2,
   "metadata": {},
   "outputs": [
    {
     "name": "stdout",
     "output_type": "stream",
     "text": [
      "Running java -jar data/RankyMcRankFace.jar -ranker 6 -metric2t NDCG@10 -tree 100 -train data/genre_by_date_judgments_train.txt -save data/genre_model.txt\n",
      "DONE\n",
      "Delete model genre: 200\n",
      "Created model genre: 201\n",
      "\n",
      "Impact of each feature on the model\n",
      "1 - 2026215.8362666676\n",
      "2 - 1656425.5189779215\n",
      "3 - 0.009307155595000033\n",
      "4 - 0.0\n",
      "Perfect NDCG! 1.0\n"
     ]
    }
   ],
   "source": [
    "from ltr import train\n",
    "trainLog = train.run(trainingInFile='data/genre_by_date_judgments_train.txt',\n",
    "                     metric2t='NDCG@10',\n",
    "                     featureSet='genre',\n",
    "                     modelName='genre')\n",
    "\n",
    "print()\n",
    "print(\"Impact of each feature on the model\")\n",
    "for ftrId, impact in trainLog.impacts.items():\n",
    "    print(\"{} - {}\".format(ftrId, impact))\n",
    "    \n",
    "print(\"Perfect NDCG! {}\".format(trainLog.rounds[-1]))"
   ]
  },
  {
   "cell_type": "markdown",
   "metadata": {},
   "source": [
    "### But this search sucks!\n",
    "Try searches for \"Science Fiction\" and \"Drama\""
   ]
  },
  {
   "cell_type": "code",
   "execution_count": 3,
   "metadata": {},
   "outputs": [
    {
     "name": "stdout",
     "output_type": "stream",
     "text": [
      "{\"size\": 5, \"query\": {\"sltr\": {\"params\": {\"keywords\": \"Science Fiction\"}, \"model\": \"genre\"}}}\n",
      "Elstree Calling \n",
      "10.404307 \n",
      "1930 \n",
      "['Music', 'Comedy'] \n",
      "A series of 19 musical and comedy \"vaudeville\" sketches presented in the form of a live broadcast hosted by Tommy Handley (as himself). There are two \"running gags\" which connect the sketches. In one, an actor wants to perform Shakespeare, but he is continually denied air-time. The other gag has an inventor trying to view the broadcast on television. \n",
      "---------------------------------------\n",
      "With Byrd at the South Pole \n",
      "10.404307 \n",
      "1930 \n",
      "['Documentary'] \n",
      "With Byrd at the South Pole (1930) is a documentary film about Rear Admiral Richard E. Byrd and his 1st quest to the South Pole beginning at the Little America-Exploration Base. The film's soundtrack consists mostly of music and sound effects, with narration read by Floyd Gibbons. The film won at the 3rd Academy Awards for Best Cinematography. \n",
      "---------------------------------------\n",
      "Liliom \n",
      "10.404307 \n",
      "1930 \n",
      "['Drama'] \n",
      "A carousel barker falls in love with a young woman. Both are fired from their jobs, and when the young woman becomes pregnant, the carousel barker tries to help pull off a robbery, which goes wrong. Because of the robbery, he dies, and after spending time in hell, is sent back to earth for one day to try to make amends. \n",
      "---------------------------------------\n",
      "Animal Crackers \n",
      "10.404307 \n",
      "1930 \n",
      "['Comedy'] \n",
      "The famous Captain Spaulding returns from Africa and attends a gala party where a valuable painting is stolen. \n",
      "---------------------------------------\n",
      "Westfront 1918 \n",
      "10.404307 \n",
      "1930 \n",
      "['Drama', 'War'] \n",
      "A group of German infantrymen of the First World War live out their lives in the trenches of France. They find brief entertainment and relief in a village behind the lines, but primarily terror fills their lives as the attacks on and from the French army ebb and flow. One of the men, Karl, goes home on leave only to discover the degradation forced on his family by wartime poverty. He returns to the lines in time to face an enormous attack by French tanks. \n",
      "---------------------------------------\n"
     ]
    }
   ],
   "source": [
    "from ltr import search\n",
    "search.run(keywords=\"Science Fiction\", modelName=\"genre\")"
   ]
  },
  {
   "cell_type": "markdown",
   "metadata": {
    "collapsed": true
   },
   "source": [
    "### Why didn't it work!?!? Training data\n",
    "\n",
    "1. Examine the training data, do we cover every example of a BAD result\n",
    "2. Examine the feature impacts, do any of the features the model uses even USE the keywords?\n",
    "\n",
    "### Ranklib only sees the data you give it, we don't have good enough coverage\n",
    "\n",
    "You need to have feature coverage, especially over negative examples. Most documents in the index are negative! \n",
    "\n",
    "One trick commonly used is to treat other queries positive results as this queries negative results. Indeed what we're missing here are negative examples for \"Science Fiction\" that are not science fiction movies. A glaring omission, we'll handle now... With the `autoNegate` flag, we'll add additional negative examples to the judgment list"
   ]
  },
  {
   "cell_type": "code",
   "execution_count": 4,
   "metadata": {},
   "outputs": [
    {
     "name": "stdout",
     "output_type": "stream",
     "text": [
      "Generating judgments for scifi & drama movies\n",
      "Done\n",
      "Recognizing 2 queries...\n",
      "REBUILDING TRAINING DATA for Science Fiction (0/2)\n",
      "REBUILDING TRAINING DATA for Drama (1/2)\n",
      "Running java -jar data/RankyMcRankFace.jar -ranker 6 -metric2t NDCG@10 -tree 100 -train data/genre_by_date_judgments_train.txt -save data/genre_model.txt\n",
      "DONE\n",
      "Delete model genre: 200\n",
      "Created model genre: 201\n",
      "\n",
      "Impact of each feature on the model\n",
      "4 - 802616758.725657\n",
      "1 - 89257217.35776828\n",
      "3 - 1573733.5830246205\n",
      "2 - 1.953984578809708e-20\n",
      "Perfect NDCG! 1.0\n"
     ]
    }
   ],
   "source": [
    "from ltr import date_genre_judgments, collectFeatures\n",
    "date_genre_judgments.buildJudgments(judgmentsFile='data/genre_by_date_judgments.txt',\n",
    "                                    autoNegate=True)\n",
    "\n",
    "collectFeatures.trainingSetFromJudgments(judgmentInFile='data/genre_by_date_judgments.txt', \n",
    "                                         trainingOutFile='data/genre_by_date_judgments_train.txt', \n",
    "                                         featureSet='genre')\n",
    "\n",
    "from ltr import train\n",
    "trainLog = train.run(trainingInFile='data/genre_by_date_judgments_train.txt',\n",
    "                     metric2t='NDCG@10',\n",
    "                     featureSet='genre',\n",
    "                     modelName='genre')\n",
    "\n",
    "print()\n",
    "print(\"Impact of each feature on the model\")\n",
    "for ftrId, impact in trainLog.impacts.items():\n",
    "    print(\"{} - {}\".format(ftrId, impact))\n",
    "    \n",
    "print(\"Perfect NDCG! {}\".format(trainLog.rounds[-1]))"
   ]
  },
  {
   "cell_type": "markdown",
   "metadata": {},
   "source": [
    "### Now try those queries...\n",
    "\n",
    "Replace keywords below with 'science fiction' or 'drama' and see how it works"
   ]
  },
  {
   "cell_type": "code",
   "execution_count": 5,
   "metadata": {},
   "outputs": [
    {
     "name": "stdout",
     "output_type": "stream",
     "text": [
      "{\"size\": 5, \"query\": {\"sltr\": {\"params\": {\"keywords\": \"Drama\"}, \"model\": \"genre\"}}}\n",
      "The Shamrock Handicap \n",
      "9.445964 \n",
      "1926 \n",
      "['Romance', 'Drama'] \n",
      "The first film having an Irish motif that John Ford directed, a six reel delight set in Eire's County Kildare and in the United States, with a steeplechase background, mixing charged elements of comedy and sentimental drama, benefiting from a sterling cast including Leslie Fenton, Janet Gaynor, and Ford favourite J. Farrell MacDonald. \n",
      "---------------------------------------\n",
      "Sparrows \n",
      "9.445964 \n",
      "1926 \n",
      "['Drama'] \n",
      "Evil Mr.Grimes keeps a rag-tag bunch orphans on his farm deep in a swamp in the US South. He forces them to work in his garden and treats them like slaves. They are watched over by the eldest, Molly. A gang in league with Mr. Grimes kidnaps Doris, the beautiful little daughter of a rich man, and hides her out on Grimes' farm, awaiting ransom. When the police close in, and Mr. Grimes threatens to throw Doris into the bottomless mire, Molly must lead her little flock out through the alligator-infested swamp. \n",
      "---------------------------------------\n",
      "Faust \n",
      "9.445964 \n",
      "1926 \n",
      "['Drama', 'Fantasy', 'Horror'] \n",
      "God and Satan war over earth; to settle things, they wager on the soul of Faust, a learned and prayerful alchemist. \n",
      "---------------------------------------\n",
      "The Son of the Sheik \n",
      "9.445964 \n",
      "1926 \n",
      "['Adventure', 'Drama', 'Action', 'Romance'] \n",
      "Ahmed, son of Diana and Sheik Ahmed Ben Hassan, falls in love with Yasmin, a dancing girl who fronts her father's gang of mountebanks. She and Ahmed meet secretly until one night when her father and the gang capture the son of the sheik, torture him, and hold him for ransom. \n",
      "---------------------------------------\n",
      "The Adventures of Prince Achmed \n",
      "9.445964 \n",
      "1926 \n",
      "['Drama', 'Animation', 'Adventure', 'Fantasy'] \n",
      "Based on stories from \"The Arabian Nights.\" A wicked sorcerer tricks Prince Achmed into riding a magical flying horse. The heroic prince is able to subdue the magical horse, which he uses to fly off to many adventures. While travelling, he falls in love with the beautiful Princess Peri Banu, and must defeat an army of demons to win her heart. The film is animated using the silhouette technique. \n",
      "---------------------------------------\n"
     ]
    }
   ],
   "source": [
    "from ltr import search\n",
    "search.run(keywords=\"Drama\", modelName=\"genre\")"
   ]
  },
  {
   "cell_type": "markdown",
   "metadata": {},
   "source": [
    "### The next problem\n",
    "\n",
    "- Overfit to these two examples\n",
    "- We need many more queries, covering more use cases"
   ]
  },
  {
   "cell_type": "code",
   "execution_count": null,
   "metadata": {
    "collapsed": true
   },
   "outputs": [],
   "source": []
  }
 ],
 "metadata": {
  "kernelspec": {
   "display_name": "Python 3",
   "language": "python",
   "name": "python3"
  },
  "language_info": {
   "codemirror_mode": {
    "name": "ipython",
    "version": 3
   },
   "file_extension": ".py",
   "mimetype": "text/x-python",
   "name": "python",
   "nbconvert_exporter": "python",
   "pygments_lexer": "ipython3",
   "version": "3.6.5"
  }
 },
 "nbformat": 4,
 "nbformat_minor": 2
}
