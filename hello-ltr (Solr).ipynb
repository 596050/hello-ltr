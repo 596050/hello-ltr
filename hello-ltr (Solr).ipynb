{
 "cells": [
  {
   "cell_type": "markdown",
   "metadata": {},
   "source": [
    "# hello-ltr (Solr Edition)\n",
    "\n",
    "Fire up a Solr server with the LTR plugin enabled and with the `tmdb` configset available.  See the Dockerfile under the solr folder for assistance."
   ]
  },
  {
   "cell_type": "markdown",
   "metadata": {},
   "source": [
    "### Download some requirements"
   ]
  },
  {
   "cell_type": "code",
   "execution_count": 1,
   "metadata": {},
   "outputs": [
    {
     "name": "stdout",
     "output_type": "stream",
     "text": [
      "GET http://es-learn-to-rank.labs.o19s.com/tmdb.json\n",
      "GET http://es-learn-to-rank.labs.o19s.com/RankyMcRankFace.jar\n",
      "Done.\n"
     ]
    }
   ],
   "source": [
    "from ltr import download\n",
    "download.run()"
   ]
  },
  {
   "cell_type": "markdown",
   "metadata": {},
   "source": [
    "### Run in Solr mode\n",
    "By default the LTR examples run against Elastic.  The following snippet switches things to Solr mode."
   ]
  },
  {
   "cell_type": "code",
   "execution_count": 3,
   "metadata": {},
   "outputs": [
    {
     "name": "stdout",
     "output_type": "stream",
     "text": [
      "Switched to Solr client_mode\n"
     ]
    }
   ],
   "source": [
    "from ltr import useSolr\n",
    "useSolr()"
   ]
  },
  {
   "cell_type": "markdown",
   "metadata": {},
   "source": [
    "### Index Movies"
   ]
  },
  {
   "cell_type": "code",
   "execution_count": 4,
   "metadata": {},
   "outputs": [
    {
     "name": "stdout",
     "output_type": "stream",
     "text": [
      "Deleted index: tmdb [Status: 200]\n",
      "Created index: tmdb [Status: 200]\n",
      "Indexing 27846 documents\n",
      "Flushing 500 movies\n",
      "Flushing 500 movies\n",
      "Flushing 500 movies\n",
      "Flushing 500 movies\n",
      "Flushing 500 movies\n",
      "Flushing 500 movies\n",
      "Flushing 500 movies\n",
      "Flushing 500 movies\n",
      "Flushing 500 movies\n",
      "Flushing 500 movies\n",
      "Flushing 500 movies\n",
      "Flushing 500 movies\n",
      "Flushing 500 movies\n",
      "Skipping 67456\n",
      "Skipping 67479\n",
      "Skipping 133252\n",
      "Flushing 500 movies\n",
      "Skipping 211779\n",
      "Skipping 200039\n",
      "Skipping 69372\n",
      "Skipping 69487\n",
      "Skipping 164721\n",
      "Flushing 500 movies\n",
      "Skipping 124531\n",
      "Flushing 500 movies\n",
      "Skipping 202855\n",
      "Flushing 500 movies\n",
      "Skipping 110639\n",
      "Skipping 205300\n",
      "Skipping 74309\n",
      "Skipping 206216\n",
      "Flushing 500 movies\n",
      "Skipping 10700\n",
      "Flushing 500 movies\n",
      "Skipping 273740\n",
      "Flushing 500 movies\n",
      "Skipping 13057\n",
      "Skipping 264330\n",
      "Skipping 13716\n",
      "Flushing 500 movies\n",
      "Skipping 276690\n",
      "Flushing 500 movies\n",
      "Skipping 68149\n",
      "Skipping 211877\n",
      "Skipping 15533\n",
      "Skipping 15594\n",
      "Skipping 15738\n",
      "Flushing 500 movies\n",
      "Skipping 82205\n",
      "Skipping 82400\n",
      "Flushing 500 movies\n",
      "Skipping 17882\n",
      "Flushing 500 movies\n",
      "Skipping 166918\n",
      "Skipping 156078\n",
      "Skipping 19341\n",
      "Flushing 500 movies\n",
      "Skipping 151153\n",
      "Flushing 500 movies\n",
      "Skipping 20892\n",
      "Skipping 21680\n",
      "Flushing 500 movies\n",
      "Flushing 500 movies\n",
      "Skipping 24219\n",
      "Skipping 24549\n",
      "Flushing 500 movies\n",
      "Skipping 222481\n",
      "Flushing 500 movies\n",
      "Skipping 244797\n",
      "Flushing 500 movies\n",
      "Skipping 355551\n",
      "Flushing 500 movies\n",
      "Skipping 29133\n",
      "Flushing 500 movies\n",
      "Flushing 500 movies\n",
      "Skipping 147269\n",
      "Skipping 31653\n",
      "Skipping 162806\n",
      "Flushing 500 movies\n",
      "Skipping 230657\n",
      "Flushing 500 movies\n",
      "Skipping 136991\n",
      "Skipping 166986\n",
      "Skipping 101517\n",
      "Flushing 500 movies\n",
      "Skipping 298573\n",
      "Skipping 37106\n",
      "Skipping 168332\n",
      "Skipping 233984\n",
      "Flushing 500 movies\n",
      "Skipping 37525\n",
      "Skipping 169224\n",
      "Flushing 500 movies\n",
      "Skipping 301231\n",
      "Skipping 170359\n",
      "Skipping 225130\n",
      "Flushing 500 movies\n",
      "Skipping 94174\n",
      "Skipping 172538\n",
      "Skipping 238386\n",
      "Flushing 500 movies\n",
      "Skipping 239163\n",
      "Flushing 500 movies\n",
      "Flushing 500 movies\n",
      "Skipping 110414\n",
      "Flushing 500 movies\n",
      "Flushing 500 movies\n",
      "Skipping 113879\n",
      "Skipping 114049\n",
      "Flushing 500 movies\n",
      "Skipping 78057\n",
      "Flushing 500 movies\n",
      "Skipping 313289\n",
      "Skipping 314040\n",
      "Skipping 51982\n",
      "Skipping 248785\n",
      "Skipping 281788\n",
      "Flushing 500 movies\n",
      "Skipping 53285\n",
      "Skipping 53803\n",
      "Flushing 500 movies\n",
      "Skipping 12773\n",
      "Flushing 500 movies\n",
      "Skipping 252993\n",
      "Skipping 252995\n",
      "Skipping 253768\n",
      "Skipping 57290\n",
      "Skipping 253941\n",
      "Flushing 500 movies\n",
      "Skipping 58423\n",
      "Flushing 500 movies\n",
      "Skipping 191903\n",
      "Skipping 61917\n",
      "Skipping 61919\n",
      "Skipping 61920\n",
      "Flushing 500 movies\n",
      "Skipping 62582\n",
      "Skipping 62653\n",
      "Skipping 185441\n",
      "Flushing 500 movies\n",
      "Skipping 64699\n",
      "Flushing 260 movies\n",
      "Done\n"
     ]
    }
   ],
   "source": [
    "from ltr import index\n",
    "index.run()"
   ]
  },
  {
   "cell_type": "markdown",
   "metadata": {},
   "source": [
    "### Create FeatureStore\n",
    "A feature store is required to log out features to train models.  This step creates the `release` feature store, it consists of one feature, the release year of a movie\n"
   ]
  },
  {
   "cell_type": "code",
   "execution_count": 5,
   "metadata": {},
   "outputs": [
    {
     "name": "stdout",
     "output_type": "stream",
     "text": [
      "Deleted classic model: 200\n",
      "Deleted latest model: 200\n",
      "Delete release feature store: 200\n",
      "Delete _DEFAULT_ feature store: 200\n",
      "Created release feature store under tmdb: 200\n"
     ]
    }
   ],
   "source": [
    "config = [\n",
    "  {\n",
    "    \"store\": \"release\", # Note: This overrides the _DEFAULT_ feature store location\n",
    "    \"name\" : \"release_year\",\n",
    "    \"class\" : \"org.apache.solr.ltr.feature.SolrFeature\",\n",
    "    \"params\" : {\n",
    "      \"q\" : \"{!func}def(release_year,2000)\"\n",
    "    }\n",
    "  }\n",
    "]\n",
    "\n",
    "\n",
    "from ltr import setup_ltr\n",
    "setup_ltr.run(config=config, featureset='release')"
   ]
  },
  {
   "cell_type": "markdown",
   "metadata": {},
   "source": [
    "### Logging and Ratings\n",
    "For this example we're working with one query, `match_all`.  We utilize the `sltr` query to log out features which will be tagged with a rating to be used in training.\n",
    "\n",
    "- The classic model prefers old movies: `4 qid:1 1:1960`\n",
    "- The latest model prefers new movies: `4 qid:1 1:2019`\n",
    "\n",
    "Using this simple signaling can we do a pseudo-sort on date using LTR? Let's find out.  The next step will generate two training files, `classic-training.txt` and `latest-training.txt`."
   ]
  },
  {
   "cell_type": "code",
   "execution_count": 6,
   "metadata": {},
   "outputs": [
    {
     "name": "stdout",
     "output_type": "stream",
     "text": [
      "Generating ratings for classic and latest model\n",
      "Done\n"
     ]
    }
   ],
   "source": [
    "from ltr import years_as_ratings\n",
    "years_as_ratings.run(featureSet='release',\n",
    "                     classicTrainingSetOut='data/classic-training.txt',\n",
    "                     latestTrainingSetOut='data/latest-training.txt')"
   ]
  },
  {
   "cell_type": "markdown",
   "metadata": {},
   "source": [
    "### Train and Submit\n",
    "Using the training data from the previous step, we'll use RankyMcRankFace to spit out two LambaMART models.  Once these files are generated, we can then submit them to elastic to be used in scoring."
   ]
  },
  {
   "cell_type": "code",
   "execution_count": 7,
   "metadata": {},
   "outputs": [
    {
     "name": "stdout",
     "output_type": "stream",
     "text": [
      "Running java -jar data/RankyMcRankFace.jar -ranker 6 -metric2t DCG@10 -tree 100 -train data/latest-training.txt -save data/latest_model.txt\n",
      "DONE\n",
      "PUT latest model under release: 200\n",
      "Running java -jar data/RankyMcRankFace.jar -ranker 6 -metric2t DCG@10 -tree 100 -train data/classic-training.txt -save data/classic_model.txt\n",
      "DONE\n",
      "PUT classic model under release: 200\n"
     ]
    },
    {
     "data": {
      "text/plain": [
       "<ltr.train.TrainingLog at 0x111158128>"
      ]
     },
     "execution_count": 7,
     "metadata": {},
     "output_type": "execute_result"
    }
   ],
   "source": [
    "from ltr import train\n",
    "train.run(trainingInFile='data/latest-training.txt', featureSet='release', modelName='latest')\n",
    "train.run(trainingInFile='data/classic-training.txt', featureSet='release', modelName='classic')"
   ]
  },
  {
   "cell_type": "markdown",
   "metadata": {},
   "source": [
    "### Query Time\n",
    "If we search for `batman`, how do the results compare?  Since the `classic` model prefered old movies it has old movies in the top position, and the opposite is true for the `latest` model.  To continue learning LTR, brainstorm more features and generate some real judgments for real queries."
   ]
  },
  {
   "cell_type": "code",
   "execution_count": 8,
   "metadata": {},
   "outputs": [
    {
     "data": {
      "text/html": [
       "<script type=\"text/javascript\">window.PlotlyConfig = {MathJaxConfig: 'local'};</script><script type=\"text/javascript\">if (window.MathJax) {MathJax.Hub.Config({SVG: {font: \"STIX-Web\"}});}</script><script>requirejs.config({paths: { 'plotly': ['https://cdn.plot.ly/plotly-latest.min']},});if(!window._Plotly) {require(['plotly'],function(plotly) {window._Plotly=plotly;});}</script>"
      ],
      "text/vnd.plotly.v1+html": [
       "<script type=\"text/javascript\">window.PlotlyConfig = {MathJaxConfig: 'local'};</script><script type=\"text/javascript\">if (window.MathJax) {MathJax.Hub.Config({SVG: {font: \"STIX-Web\"}});}</script><script>requirejs.config({paths: { 'plotly': ['https://cdn.plot.ly/plotly-latest.min']},});if(!window._Plotly) {require(['plotly'],function(plotly) {window._Plotly=plotly;});}</script>"
      ]
     },
     "metadata": {},
     "output_type": "display_data"
    },
    {
     "data": {
      "application/vnd.plotly.v1+json": {
       "config": {
        "linkText": "Export to plot.ly",
        "plotlyServerURL": "https://plot.ly",
        "showLink": false
       },
       "data": [
        {
         "mode": "lines",
         "name": "classic",
         "type": "scatter",
         "uid": "2dbefd85-ffda-4533-b07a-8cc45bfd369f",
         "x": [
          0,
          1,
          2,
          3,
          4,
          5,
          6,
          7,
          8,
          9,
          10,
          11,
          12,
          13,
          14,
          15,
          16,
          17,
          18,
          19,
          20,
          21,
          22,
          23,
          24,
          25,
          26,
          27,
          28,
          29
         ],
         "y": [
          1949,
          1943,
          1989,
          1966,
          2005,
          2003,
          2005,
          1998,
          1998,
          1995,
          1997,
          2000,
          1993,
          1992,
          2016,
          2008,
          2013,
          2012,
          2010,
          2014,
          2008,
          2009,
          2017,
          2011,
          2010,
          2014,
          2015,
          2016,
          2016,
          2013
         ]
        },
        {
         "mode": "lines",
         "name": "latest",
         "type": "scatter",
         "uid": "075704a9-4465-4d64-ac4c-67356b8f0c81",
         "x": [
          0,
          1,
          2,
          3,
          4,
          5,
          6,
          7,
          8,
          9,
          10,
          11,
          12,
          13,
          14,
          15,
          16,
          17,
          18,
          19,
          20,
          21,
          22,
          23,
          24,
          25,
          26,
          27,
          28,
          29
         ],
         "y": [
          2013,
          2013,
          2011,
          2012,
          2014,
          2014,
          2016,
          2017,
          2015,
          2016,
          2016,
          1998,
          1998,
          1995,
          1997,
          1993,
          1992,
          2003,
          2008,
          2010,
          2008,
          2009,
          2010,
          2005,
          2000,
          2005,
          1966,
          1989,
          1949,
          1943
         ]
        }
       ],
       "layout": {}
      },
      "text/html": [
       "<div id=\"29cbee73-3caf-48d5-8177-fb9e84faa526\" style=\"height: 525px; width: 100%;\" class=\"plotly-graph-div\"></div><script type=\"text/javascript\">require([\"plotly\"], function(Plotly) { window.PLOTLYENV=window.PLOTLYENV || {};window.PLOTLYENV.BASE_URL=\"https://plot.ly\";\n",
       "if (document.getElementById(\"29cbee73-3caf-48d5-8177-fb9e84faa526\")) {\n",
       "    Plotly.newPlot(\"29cbee73-3caf-48d5-8177-fb9e84faa526\", [{\"mode\": \"lines\", \"name\": \"classic\", \"x\": [0, 1, 2, 3, 4, 5, 6, 7, 8, 9, 10, 11, 12, 13, 14, 15, 16, 17, 18, 19, 20, 21, 22, 23, 24, 25, 26, 27, 28, 29], \"y\": [1949, 1943, 1989, 1966, 2005, 2003, 2005, 1998, 1998, 1995, 1997, 2000, 1993, 1992, 2016, 2008, 2013, 2012, 2010, 2014, 2008, 2009, 2017, 2011, 2010, 2014, 2015, 2016, 2016, 2013], \"type\": \"scatter\", \"uid\": \"2dbefd85-ffda-4533-b07a-8cc45bfd369f\"}, {\"mode\": \"lines\", \"name\": \"latest\", \"x\": [0, 1, 2, 3, 4, 5, 6, 7, 8, 9, 10, 11, 12, 13, 14, 15, 16, 17, 18, 19, 20, 21, 22, 23, 24, 25, 26, 27, 28, 29], \"y\": [2013, 2013, 2011, 2012, 2014, 2014, 2016, 2017, 2015, 2016, 2016, 1998, 1998, 1995, 1997, 1993, 1992, 2003, 2008, 2010, 2008, 2009, 2010, 2005, 2000, 2005, 1966, 1989, 1949, 1943], \"type\": \"scatter\", \"uid\": \"075704a9-4465-4d64-ac4c-67356b8f0c81\"}], {}, {\"showLink\": false, \"linkText\": \"Export to plot.ly\", \"plotlyServerURL\": \"https://plot.ly\"}); \n",
       "}\n",
       "});</script><script type=\"text/javascript\">window.addEventListener(\"resize\", function(){if (document.getElementById(\"29cbee73-3caf-48d5-8177-fb9e84faa526\")) {window._Plotly.Plots.resize(document.getElementById(\"29cbee73-3caf-48d5-8177-fb9e84faa526\"));};})</script>"
      ],
      "text/vnd.plotly.v1+html": [
       "<div id=\"29cbee73-3caf-48d5-8177-fb9e84faa526\" style=\"height: 525px; width: 100%;\" class=\"plotly-graph-div\"></div><script type=\"text/javascript\">require([\"plotly\"], function(Plotly) { window.PLOTLYENV=window.PLOTLYENV || {};window.PLOTLYENV.BASE_URL=\"https://plot.ly\";\n",
       "if (document.getElementById(\"29cbee73-3caf-48d5-8177-fb9e84faa526\")) {\n",
       "    Plotly.newPlot(\"29cbee73-3caf-48d5-8177-fb9e84faa526\", [{\"mode\": \"lines\", \"name\": \"classic\", \"x\": [0, 1, 2, 3, 4, 5, 6, 7, 8, 9, 10, 11, 12, 13, 14, 15, 16, 17, 18, 19, 20, 21, 22, 23, 24, 25, 26, 27, 28, 29], \"y\": [1949, 1943, 1989, 1966, 2005, 2003, 2005, 1998, 1998, 1995, 1997, 2000, 1993, 1992, 2016, 2008, 2013, 2012, 2010, 2014, 2008, 2009, 2017, 2011, 2010, 2014, 2015, 2016, 2016, 2013], \"type\": \"scatter\", \"uid\": \"2dbefd85-ffda-4533-b07a-8cc45bfd369f\"}, {\"mode\": \"lines\", \"name\": \"latest\", \"x\": [0, 1, 2, 3, 4, 5, 6, 7, 8, 9, 10, 11, 12, 13, 14, 15, 16, 17, 18, 19, 20, 21, 22, 23, 24, 25, 26, 27, 28, 29], \"y\": [2013, 2013, 2011, 2012, 2014, 2014, 2016, 2017, 2015, 2016, 2016, 1998, 1998, 1995, 1997, 1993, 1992, 2003, 2008, 2010, 2008, 2009, 2010, 2005, 2000, 2005, 1966, 1989, 1949, 1943], \"type\": \"scatter\", \"uid\": \"075704a9-4465-4d64-ac4c-67356b8f0c81\"}], {}, {\"showLink\": false, \"linkText\": \"Export to plot.ly\", \"plotlyServerURL\": \"https://plot.ly\"}); \n",
       "}\n",
       "});</script><script type=\"text/javascript\">window.addEventListener(\"resize\", function(){if (document.getElementById(\"29cbee73-3caf-48d5-8177-fb9e84faa526\")) {window._Plotly.Plots.resize(document.getElementById(\"29cbee73-3caf-48d5-8177-fb9e84faa526\"));};})</script>"
      ]
     },
     "metadata": {},
     "output_type": "display_data"
    }
   ],
   "source": [
    "from ltr import plot\n",
    "plot.run()"
   ]
  },
  {
   "cell_type": "code",
   "execution_count": null,
   "metadata": {
    "collapsed": true
   },
   "outputs": [],
   "source": []
  }
 ],
 "metadata": {
  "kernelspec": {
   "display_name": "Python 3",
   "language": "python",
   "name": "python3"
  },
  "language_info": {
   "codemirror_mode": {
    "name": "ipython",
    "version": 3
   },
   "file_extension": ".py",
   "mimetype": "text/x-python",
   "name": "python",
   "nbconvert_exporter": "python",
   "pygments_lexer": "ipython3",
   "version": "3.6.5"
  }
 },
 "nbformat": 4,
 "nbformat_minor": 2
}
