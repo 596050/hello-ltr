{
 "cells": [
  {
   "cell_type": "markdown",
   "metadata": {},
   "source": [
    "# hello-ltr\n",
    "\n",
    "Fire up a Solr server with the LTR plugin enabled and with the `tmdb` configset available.  See the Dockerfile under the solr folder for assistance."
   ]
  },
  {
   "cell_type": "markdown",
   "metadata": {},
   "source": [
    "### Download some requirements"
   ]
  },
  {
   "cell_type": "code",
   "execution_count": 1,
   "metadata": {},
   "outputs": [
    {
     "name": "stdout",
     "output_type": "stream",
     "text": [
      "GET http://es-learn-to-rank.labs.o19s.com/tmdb.json\n",
      "GET http://es-learn-to-rank.labs.o19s.com/RankyMcRankFace.jar\n",
      "Done.\n"
     ]
    }
   ],
   "source": [
    "from ltr import download\n",
    "download.run()"
   ]
  },
  {
   "cell_type": "markdown",
   "metadata": {},
   "source": [
    "### Run in Solr mode\n",
    "By default the LTR examples run against Elastic.  The following snippet switches things to Solr mode."
   ]
  },
  {
   "cell_type": "code",
   "execution_count": 1,
   "metadata": {},
   "outputs": [
    {
     "name": "stdout",
     "output_type": "stream",
     "text": [
      "Switched to Solr mode\n"
     ]
    }
   ],
   "source": [
    "from ltr import useSolr\n",
    "useSolr()"
   ]
  },
  {
   "cell_type": "markdown",
   "metadata": {},
   "source": [
    "### Index Movies"
   ]
  },
  {
   "cell_type": "code",
   "execution_count": 2,
   "metadata": {},
   "outputs": [
    {
     "name": "stdout",
     "output_type": "stream",
     "text": [
      "{\n",
      "  \"responseHeader\":{\n",
      "    \"status\":0,\n",
      "    \"QTime\":50}}\n",
      "\n",
      "Deleted index: tmdb [Status: 200]\n",
      "Created index: tmdb [Status: 200]\n",
      "Indexing 27846 documents\n",
      "Flushing 500 movies\n",
      "Flushing 500 movies\n",
      "Flushing 500 movies\n",
      "Flushing 500 movies\n",
      "Flushing 500 movies\n",
      "Flushing 500 movies\n",
      "Flushing 500 movies\n",
      "Flushing 500 movies\n",
      "Flushing 500 movies\n",
      "Flushing 500 movies\n",
      "Flushing 500 movies\n",
      "Flushing 500 movies\n",
      "Flushing 500 movies\n",
      "Skipping 67456\n",
      "Skipping 67479\n",
      "Skipping 133252\n",
      "Flushing 500 movies\n",
      "Skipping 211779\n",
      "Skipping 200039\n",
      "Skipping 69372\n",
      "Skipping 69487\n",
      "Skipping 164721\n",
      "Flushing 500 movies\n"
     ]
    },
    {
     "ename": "TypeError",
     "evalue": "unsupported operand type(s) for +=: 'NoneType' and 'str'",
     "output_type": "error",
     "traceback": [
      "\u001b[0;31m---------------------------------------------------------------------------\u001b[0m",
      "\u001b[0;31mTypeError\u001b[0m                                 Traceback (most recent call last)",
      "\u001b[0;32m<ipython-input-2-efabe8ef0e1a>\u001b[0m in \u001b[0;36m<module>\u001b[0;34m\u001b[0m\n\u001b[1;32m      1\u001b[0m \u001b[0;32mfrom\u001b[0m \u001b[0mltr\u001b[0m \u001b[0;32mimport\u001b[0m \u001b[0mindex\u001b[0m\u001b[0;34m\u001b[0m\u001b[0m\n\u001b[0;32m----> 2\u001b[0;31m \u001b[0mindex\u001b[0m\u001b[0;34m.\u001b[0m\u001b[0mrun\u001b[0m\u001b[0;34m(\u001b[0m\u001b[0;34m)\u001b[0m\u001b[0;34m\u001b[0m\u001b[0m\n\u001b[0m",
      "\u001b[0;32m~/dev/osc/train/hello-ltr/ltr/index.py\u001b[0m in \u001b[0;36mrun\u001b[0;34m(settings)\u001b[0m\n\u001b[1;32m     13\u001b[0m             \u001b[0msettings\u001b[0m \u001b[0;34m=\u001b[0m \u001b[0mjson\u001b[0m\u001b[0;34m.\u001b[0m\u001b[0mload\u001b[0m\u001b[0;34m(\u001b[0m\u001b[0msrc\u001b[0m\u001b[0;34m)\u001b[0m\u001b[0;34m\u001b[0m\u001b[0m\n\u001b[1;32m     14\u001b[0m \u001b[0;34m\u001b[0m\u001b[0m\n\u001b[0;32m---> 15\u001b[0;31m     \u001b[0mreindex\u001b[0m\u001b[0;34m(\u001b[0m\u001b[0mmovieDict\u001b[0m\u001b[0;34m=\u001b[0m\u001b[0mjson\u001b[0m\u001b[0;34m.\u001b[0m\u001b[0mload\u001b[0m\u001b[0;34m(\u001b[0m\u001b[0mopen\u001b[0m\u001b[0;34m(\u001b[0m\u001b[0;34m'data/tmdb.json'\u001b[0m\u001b[0;34m)\u001b[0m\u001b[0;34m)\u001b[0m\u001b[0;34m,\u001b[0m \u001b[0mschema\u001b[0m\u001b[0;34m=\u001b[0m\u001b[0msettings\u001b[0m\u001b[0;34m,\u001b[0m \u001b[0mindex\u001b[0m\u001b[0;34m=\u001b[0m\u001b[0;34m'tmdb'\u001b[0m\u001b[0;34m)\u001b[0m\u001b[0;34m\u001b[0m\u001b[0m\n\u001b[0m\u001b[1;32m     16\u001b[0m \u001b[0;34m\u001b[0m\u001b[0m\n\u001b[1;32m     17\u001b[0m     \u001b[0mprint\u001b[0m\u001b[0;34m(\u001b[0m\u001b[0;34m'Done'\u001b[0m\u001b[0;34m)\u001b[0m\u001b[0;34m\u001b[0m\u001b[0m\n",
      "\u001b[0;32m~/dev/osc/train/hello-ltr/ltr/index.py\u001b[0m in \u001b[0;36mreindex\u001b[0;34m(schema, movieDict, index)\u001b[0m\n\u001b[1;32m      5\u001b[0m     \u001b[0mmain_client\u001b[0m\u001b[0;34m.\u001b[0m\u001b[0mdelete_index\u001b[0m\u001b[0;34m(\u001b[0m\u001b[0mindex\u001b[0m\u001b[0;34m)\u001b[0m\u001b[0;34m\u001b[0m\u001b[0m\n\u001b[1;32m      6\u001b[0m     \u001b[0mmain_client\u001b[0m\u001b[0;34m.\u001b[0m\u001b[0mcreate_index\u001b[0m\u001b[0;34m(\u001b[0m\u001b[0mindex\u001b[0m\u001b[0;34m,\u001b[0m \u001b[0mschema\u001b[0m\u001b[0;34m)\u001b[0m\u001b[0;34m\u001b[0m\u001b[0m\n\u001b[0;32m----> 7\u001b[0;31m     \u001b[0mmain_client\u001b[0m\u001b[0;34m.\u001b[0m\u001b[0mindex_documents\u001b[0m\u001b[0;34m(\u001b[0m\u001b[0mindex\u001b[0m\u001b[0;34m,\u001b[0m \u001b[0mmovieDict\u001b[0m\u001b[0;34m)\u001b[0m\u001b[0;34m\u001b[0m\u001b[0m\n\u001b[0m\u001b[1;32m      8\u001b[0m \u001b[0;34m\u001b[0m\u001b[0m\n\u001b[1;32m      9\u001b[0m \u001b[0;32mdef\u001b[0m \u001b[0mrun\u001b[0m\u001b[0;34m(\u001b[0m\u001b[0msettings\u001b[0m\u001b[0;34m=\u001b[0m\u001b[0;32mNone\u001b[0m\u001b[0;34m)\u001b[0m\u001b[0;34m:\u001b[0m\u001b[0;34m\u001b[0m\u001b[0m\n",
      "\u001b[0;32m~/dev/osc/train/hello-ltr/ltr/client/solr_client.py\u001b[0m in \u001b[0;36mindex_documents\u001b[0;34m(self, index, movie_dict)\u001b[0m\n\u001b[1;32m     43\u001b[0m         \u001b[0;32mfor\u001b[0m \u001b[0mmovie\u001b[0m \u001b[0;32min\u001b[0m \u001b[0mindexableMovies\u001b[0m\u001b[0;34m(\u001b[0m\u001b[0mmovie_dict\u001b[0m\u001b[0;34m)\u001b[0m\u001b[0;34m:\u001b[0m\u001b[0;34m\u001b[0m\u001b[0m\n\u001b[1;32m     44\u001b[0m             \u001b[0;32mif\u001b[0m \u001b[0;34m'release_date'\u001b[0m \u001b[0;32min\u001b[0m \u001b[0mmovie\u001b[0m\u001b[0;34m:\u001b[0m\u001b[0;34m\u001b[0m\u001b[0m\n\u001b[0;32m---> 45\u001b[0;31m                 \u001b[0mmovie\u001b[0m\u001b[0;34m[\u001b[0m\u001b[0;34m'release_date'\u001b[0m\u001b[0;34m]\u001b[0m \u001b[0;34m+=\u001b[0m \u001b[0;34m'T00:00:00Z'\u001b[0m\u001b[0;34m\u001b[0m\u001b[0m\n\u001b[0m\u001b[1;32m     46\u001b[0m \u001b[0;34m\u001b[0m\u001b[0m\n\u001b[1;32m     47\u001b[0m             \u001b[0mdocs\u001b[0m\u001b[0;34m.\u001b[0m\u001b[0mappend\u001b[0m\u001b[0;34m(\u001b[0m\u001b[0mmovie\u001b[0m\u001b[0;34m)\u001b[0m\u001b[0;34m\u001b[0m\u001b[0m\n",
      "\u001b[0;31mTypeError\u001b[0m: unsupported operand type(s) for +=: 'NoneType' and 'str'"
     ]
    }
   ],
   "source": [
    "from ltr import index\n",
    "index.run()"
   ]
  },
  {
   "cell_type": "markdown",
   "metadata": {},
   "source": [
    "### Create FeatureSet\n",
    "A feature set is required to log out features to train models.  This step creates the `release` feature set, it consists of one feature, the release year of a movie\n"
   ]
  },
  {
   "cell_type": "code",
   "execution_count": 1,
   "metadata": {},
   "outputs": [
    {
     "name": "stdout",
     "output_type": "stream",
     "text": [
      "Removed LTR feature store: 200\n",
      "Initialize LTR: 200\n",
      "Created release feature set: 201\n"
     ]
    }
   ],
   "source": [
    "config = {\n",
    "    \"featureset\": {\n",
    "        \"features\": [\n",
    "            {\n",
    "                \"name\": \"release_year\",\n",
    "                \"params\": [],\n",
    "                \"template\": {\n",
    "                    \"function_score\": {\n",
    "                        \"field_value_factor\": {\n",
    "                            \"field\": \"release_year\",\n",
    "                            \"missing\": 2000\n",
    "                        },\n",
    "                        \"query\": { \"match_all\": {} }\n",
    "                    }\n",
    "                }\n",
    "            }\n",
    "        ]\n",
    "    }\n",
    "}\n",
    "\n",
    "\n",
    "from ltr import setup_ltr\n",
    "setup_ltr.run(config=config, featureset='release')"
   ]
  },
  {
   "cell_type": "markdown",
   "metadata": {},
   "source": [
    "### Logging and Ratings\n",
    "For this example we're working with one query, `match_all`.  We utilize the `sltr` query to log out features which will be tagged with a rating to be used in training.\n",
    "\n",
    "- The classic model prefers old movies: `4 qid:1 1:1960`\n",
    "- The latest model prefers new movies: `4 qid:1 1:2019`\n",
    "\n",
    "Using this simple signaling can we do a pseudo-sort on date using LTR? Let's find out.  The next step will generate two training files, `classic-training.txt` and `latest-training.txt`."
   ]
  },
  {
   "cell_type": "code",
   "execution_count": 1,
   "metadata": {},
   "outputs": [
    {
     "name": "stdout",
     "output_type": "stream",
     "text": [
      "Generating ratings for classic and latest model\n",
      "Done\n"
     ]
    }
   ],
   "source": [
    "from ltr import years_as_ratings\n",
    "years_as_ratings.run(featureSet='release',\n",
    "                     classicTrainingSetOut='data/classic-training.txt',\n",
    "                     latestTrainingSetOut='data/latest-training.txt')"
   ]
  },
  {
   "cell_type": "markdown",
   "metadata": {},
   "source": [
    "### Train and Submit\n",
    "Using the training data from the previous step, we'll use RankyMcRankFace to spit out two LambaMART models.  Once these files are generated, we can then submit them to elastic to be used in scoring."
   ]
  },
  {
   "cell_type": "code",
   "execution_count": 1,
   "metadata": {},
   "outputs": [
    {
     "name": "stdout",
     "output_type": "stream",
     "text": [
      "Running java -jar data/RankyMcRankFace.jar -ranker 6 -metric2t DCG@10 -tree 100 -train data/latest-training.txt -save data/latest_model.txt\n",
      "DONE\n",
      "Delete model latest: 200\n",
      "Created model latest: 201\n",
      "Running java -jar data/RankyMcRankFace.jar -ranker 6 -metric2t DCG@10 -tree 100 -train data/classic-training.txt -save data/classic_model.txt\n",
      "DONE\n",
      "Delete model classic: 404\n",
      "Created model classic: 201\n"
     ]
    },
    {
     "data": {
      "text/plain": [
       "<ltr.train.TrainingLog at 0x1033321d0>"
      ]
     },
     "execution_count": 1,
     "metadata": {},
     "output_type": "execute_result"
    }
   ],
   "source": [
    "from ltr import train\n",
    "train.run(trainingInFile='data/latest-training.txt', featureSet='release', modelName='latest')\n",
    "train.run(trainingInFile='data/classic-training.txt', featureSet='release', modelName='classic')"
   ]
  },
  {
   "cell_type": "markdown",
   "metadata": {},
   "source": [
    "### Query Time\n",
    "If we search for `batman`, how do the results compare?  Since the `classic` model prefered old movies it has old movies in the top position, and the opposite is true for the `latest` model.  To continue learning LTR, brainstorm more features and generate some real judgments for real queries."
   ]
  },
  {
   "cell_type": "code",
   "execution_count": 1,
   "metadata": {},
   "outputs": [
    {
     "data": {
      "text/html": [
       "<script type=\"text/javascript\">window.PlotlyConfig = {MathJaxConfig: 'local'};</script><script type=\"text/javascript\">if (window.MathJax) {MathJax.Hub.Config({SVG: {font: \"STIX-Web\"}});}</script><script>requirejs.config({paths: { 'plotly': ['https://cdn.plot.ly/plotly-latest.min']},});if(!window._Plotly) {require(['plotly'],function(plotly) {window._Plotly=plotly;});}</script>"
      ],
      "text/vnd.plotly.v1+html": [
       "<script type=\"text/javascript\">window.PlotlyConfig = {MathJaxConfig: 'local'};</script><script type=\"text/javascript\">if (window.MathJax) {MathJax.Hub.Config({SVG: {font: \"STIX-Web\"}});}</script><script>requirejs.config({paths: { 'plotly': ['https://cdn.plot.ly/plotly-latest.min']},});if(!window._Plotly) {require(['plotly'],function(plotly) {window._Plotly=plotly;});}</script>"
      ]
     },
     "metadata": {},
     "output_type": "display_data"
    },
    {
     "data": {
      "application/vnd.plotly.v1+json": {
       "config": {
        "linkText": "Export to plot.ly",
        "plotlyServerURL": "https://plot.ly",
        "showLink": false
       },
       "data": [
        {
         "mode": "lines",
         "name": "classic",
         "type": "scatter",
         "uid": "f42de123-d62c-470b-b0bf-6b8c2de447d8",
         "x": [
          0,
          1,
          2,
          3,
          4,
          5,
          6,
          7,
          8,
          9,
          10,
          11,
          12,
          13,
          14,
          15,
          16,
          17,
          18,
          19,
          20,
          21,
          22,
          23,
          24,
          25,
          26,
          27,
          28,
          29
         ],
         "y": [
          "1949",
          "1943",
          "1966",
          "1989",
          "1992",
          "2013",
          "2000",
          "2012",
          "2010",
          "2005",
          "2008",
          "2009",
          "2011",
          "2010",
          "1997",
          "1998",
          "1998",
          "2005",
          "2003",
          "2008",
          "2013",
          "1993",
          "1995",
          "2014",
          "2015",
          "2016",
          "2016",
          "2016",
          "2014",
          "2017"
         ]
        },
        {
         "mode": "lines",
         "name": "latest",
         "type": "scatter",
         "uid": "345d7633-6172-461e-b14f-c05fe4561883",
         "x": [
          0,
          1,
          2,
          3,
          4,
          5,
          6,
          7,
          8,
          9,
          10,
          11,
          12,
          13,
          14,
          15,
          16,
          17,
          18,
          19,
          20,
          21,
          22,
          23,
          24,
          25,
          26,
          27,
          28,
          29
         ],
         "y": [
          "2014",
          "2014",
          "2016",
          "2016",
          "2016",
          "2017",
          "2015",
          "2013",
          "2012",
          "2011",
          "2013",
          "1992",
          "1995",
          "1993",
          "1997",
          "1998",
          "1998",
          "2000",
          "2005",
          "2005",
          "2003",
          "2010",
          "2008",
          "2009",
          "2010",
          "2008",
          "1966",
          "1949",
          "1943",
          "1989"
         ]
        }
       ],
       "layout": {}
      },
      "text/html": [
       "<div id=\"e9799e95-2860-4169-af62-24f760b31fa3\" style=\"height: 525px; width: 100%;\" class=\"plotly-graph-div\"></div><script type=\"text/javascript\">require([\"plotly\"], function(Plotly) { window.PLOTLYENV=window.PLOTLYENV || {};window.PLOTLYENV.BASE_URL=\"https://plot.ly\";\n",
       "if (document.getElementById(\"e9799e95-2860-4169-af62-24f760b31fa3\")) {\n",
       "    Plotly.newPlot(\"e9799e95-2860-4169-af62-24f760b31fa3\", [{\"mode\": \"lines\", \"name\": \"classic\", \"x\": [0, 1, 2, 3, 4, 5, 6, 7, 8, 9, 10, 11, 12, 13, 14, 15, 16, 17, 18, 19, 20, 21, 22, 23, 24, 25, 26, 27, 28, 29], \"y\": [\"1949\", \"1943\", \"1966\", \"1989\", \"1992\", \"2013\", \"2000\", \"2012\", \"2010\", \"2005\", \"2008\", \"2009\", \"2011\", \"2010\", \"1997\", \"1998\", \"1998\", \"2005\", \"2003\", \"2008\", \"2013\", \"1993\", \"1995\", \"2014\", \"2015\", \"2016\", \"2016\", \"2016\", \"2014\", \"2017\"], \"type\": \"scatter\", \"uid\": \"f42de123-d62c-470b-b0bf-6b8c2de447d8\"}, {\"mode\": \"lines\", \"name\": \"latest\", \"x\": [0, 1, 2, 3, 4, 5, 6, 7, 8, 9, 10, 11, 12, 13, 14, 15, 16, 17, 18, 19, 20, 21, 22, 23, 24, 25, 26, 27, 28, 29], \"y\": [\"2014\", \"2014\", \"2016\", \"2016\", \"2016\", \"2017\", \"2015\", \"2013\", \"2012\", \"2011\", \"2013\", \"1992\", \"1995\", \"1993\", \"1997\", \"1998\", \"1998\", \"2000\", \"2005\", \"2005\", \"2003\", \"2010\", \"2008\", \"2009\", \"2010\", \"2008\", \"1966\", \"1949\", \"1943\", \"1989\"], \"type\": \"scatter\", \"uid\": \"345d7633-6172-461e-b14f-c05fe4561883\"}], {}, {\"showLink\": false, \"linkText\": \"Export to plot.ly\", \"plotlyServerURL\": \"https://plot.ly\"}); \n",
       "}\n",
       "});</script><script type=\"text/javascript\">window.addEventListener(\"resize\", function(){if (document.getElementById(\"e9799e95-2860-4169-af62-24f760b31fa3\")) {window._Plotly.Plots.resize(document.getElementById(\"e9799e95-2860-4169-af62-24f760b31fa3\"));};})</script>"
      ],
      "text/vnd.plotly.v1+html": [
       "<div id=\"e9799e95-2860-4169-af62-24f760b31fa3\" style=\"height: 525px; width: 100%;\" class=\"plotly-graph-div\"></div><script type=\"text/javascript\">require([\"plotly\"], function(Plotly) { window.PLOTLYENV=window.PLOTLYENV || {};window.PLOTLYENV.BASE_URL=\"https://plot.ly\";\n",
       "if (document.getElementById(\"e9799e95-2860-4169-af62-24f760b31fa3\")) {\n",
       "    Plotly.newPlot(\"e9799e95-2860-4169-af62-24f760b31fa3\", [{\"mode\": \"lines\", \"name\": \"classic\", \"x\": [0, 1, 2, 3, 4, 5, 6, 7, 8, 9, 10, 11, 12, 13, 14, 15, 16, 17, 18, 19, 20, 21, 22, 23, 24, 25, 26, 27, 28, 29], \"y\": [\"1949\", \"1943\", \"1966\", \"1989\", \"1992\", \"2013\", \"2000\", \"2012\", \"2010\", \"2005\", \"2008\", \"2009\", \"2011\", \"2010\", \"1997\", \"1998\", \"1998\", \"2005\", \"2003\", \"2008\", \"2013\", \"1993\", \"1995\", \"2014\", \"2015\", \"2016\", \"2016\", \"2016\", \"2014\", \"2017\"], \"type\": \"scatter\", \"uid\": \"f42de123-d62c-470b-b0bf-6b8c2de447d8\"}, {\"mode\": \"lines\", \"name\": \"latest\", \"x\": [0, 1, 2, 3, 4, 5, 6, 7, 8, 9, 10, 11, 12, 13, 14, 15, 16, 17, 18, 19, 20, 21, 22, 23, 24, 25, 26, 27, 28, 29], \"y\": [\"2014\", \"2014\", \"2016\", \"2016\", \"2016\", \"2017\", \"2015\", \"2013\", \"2012\", \"2011\", \"2013\", \"1992\", \"1995\", \"1993\", \"1997\", \"1998\", \"1998\", \"2000\", \"2005\", \"2005\", \"2003\", \"2010\", \"2008\", \"2009\", \"2010\", \"2008\", \"1966\", \"1949\", \"1943\", \"1989\"], \"type\": \"scatter\", \"uid\": \"345d7633-6172-461e-b14f-c05fe4561883\"}], {}, {\"showLink\": false, \"linkText\": \"Export to plot.ly\", \"plotlyServerURL\": \"https://plot.ly\"}); \n",
       "}\n",
       "});</script><script type=\"text/javascript\">window.addEventListener(\"resize\", function(){if (document.getElementById(\"e9799e95-2860-4169-af62-24f760b31fa3\")) {window._Plotly.Plots.resize(document.getElementById(\"e9799e95-2860-4169-af62-24f760b31fa3\"));};})</script>"
      ]
     },
     "metadata": {},
     "output_type": "display_data"
    }
   ],
   "source": [
    "from ltr import plot\n",
    "plot.run()"
   ]
  },
  {
   "cell_type": "code",
   "execution_count": null,
   "metadata": {
    "collapsed": true
   },
   "outputs": [],
   "source": []
  }
 ],
 "metadata": {
  "kernelspec": {
   "display_name": "Python 3",
   "language": "python",
   "name": "python3"
  },
  "language_info": {
   "codemirror_mode": {
    "name": "ipython",
    "version": 3
   },
   "file_extension": ".py",
   "mimetype": "text/x-python",
   "name": "python",
   "nbconvert_exporter": "python",
   "pygments_lexer": "ipython3",
   "version": "3.6.5"
  }
 },
 "nbformat": 4,
 "nbformat_minor": 2
}
