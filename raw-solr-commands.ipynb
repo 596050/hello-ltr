{
 "cells": [
  {
   "cell_type": "code",
   "execution_count": 3,
   "metadata": {},
   "outputs": [],
   "source": [
    "import requests\n",
    "import json\n"
   ]
  },
  {
   "cell_type": "code",
   "execution_count": 5,
   "metadata": {},
   "outputs": [
    {
     "data": {
      "text/plain": [
       "<Response [200]>"
      ]
     },
     "execution_count": 5,
     "metadata": {},
     "output_type": "execute_result"
    }
   ],
   "source": [
    "requests.delete(\"http://localhost:8983/solr/tmdb/schema/model-store/test\")"
   ]
  },
  {
   "cell_type": "code",
   "execution_count": 6,
   "metadata": {},
   "outputs": [
    {
     "data": {
      "text/plain": [
       "<Response [200]>"
      ]
     },
     "execution_count": 6,
     "metadata": {},
     "output_type": "execute_result"
    }
   ],
   "source": [
    "requests.delete(\"http://localhost:8983/solr/tmdb/schema/feature-store/test\")"
   ]
  },
  {
   "cell_type": "code",
   "execution_count": 7,
   "metadata": {},
   "outputs": [
    {
     "data": {
      "text/plain": [
       "<Response [200]>"
      ]
     },
     "execution_count": 7,
     "metadata": {},
     "output_type": "execute_result"
    }
   ],
   "source": [
    "feature_set = [\n",
    "    {\n",
    "      \"name\" : \"title_bm25\",\n",
    "      \"store\": \"test\",\n",
    "      \"class\" : \"org.apache.solr.ltr.feature.SolrFeature\",\n",
    "      \"params\" : {\n",
    "        \"q\" : \"title:(${keywords})\"\n",
    "      }\n",
    "    },\n",
    "    {\n",
    "      \"name\" : \"overview_bm25\",\n",
    "      \"store\": \"test\",\n",
    "      \"class\" : \"org.apache.solr.ltr.feature.SolrFeature\",\n",
    "      \"params\" : {\n",
    "        \"q\" : \"overview:(${keywords})\"\n",
    "      }\n",
    "    }\n",
    "]\n",
    "\n",
    "requests.put('http://localhost:8983/solr/tmdb/schema/feature-store', \n",
    "             json=feature_set)"
   ]
  },
  {
   "cell_type": "code",
   "execution_count": 11,
   "metadata": {},
   "outputs": [
    {
     "data": {
      "text/plain": [
       "{'responseHeader': {'status': 0, 'QTime': 1},\n",
       " 'features': [{'name': 'title_bm25',\n",
       "   'class': 'org.apache.solr.ltr.feature.SolrFeature',\n",
       "   'params': {'q': 'title:(${keywords})'},\n",
       "   'store': 'test'},\n",
       "  {'name': 'overview_bm25',\n",
       "   'class': 'org.apache.solr.ltr.feature.SolrFeature',\n",
       "   'params': {'q': 'overview:(${keywords})'},\n",
       "   'store': 'test'}]}"
      ]
     },
     "execution_count": 11,
     "metadata": {},
     "output_type": "execute_result"
    }
   ],
   "source": [
    "resp = requests.get('http://localhost:8983/solr/tmdb/schema/feature-store/test')\n",
    "resp.json()"
   ]
  },
  {
   "cell_type": "code",
   "execution_count": 47,
   "metadata": {},
   "outputs": [
    {
     "name": "stdout",
     "output_type": "stream",
     "text": [
      "First Blood\n"
     ]
    }
   ],
   "source": [
    "search = {\n",
    "    \"query\": { \n",
    "    \"match\": {\n",
    "        \"title\": \"First Blood\"\n",
    "    }}\n",
    "}\n",
    "\n",
    "resp = requests.get('http://localhost:9200/tmdb/_search', json=search).json()\n",
    "print(resp['hits']['hits'][0]['_source']['title'])"
   ]
  },
  {
   "cell_type": "code",
   "execution_count": 14,
   "metadata": {},
   "outputs": [
    {
     "data": {
      "text/plain": [
       "{'responseHeader': {'status': 0,\n",
       "  'QTime': 1,\n",
       "  'params': {'q': 'id:7555 OR id:1370 id:1369 OR id:1368',\n",
       "   'fl': 'id,title,[features store=test efi.keywords=\"rambo\"]',\n",
       "   'rows': '10',\n",
       "   'wt': 'json'}},\n",
       " 'response': {'numFound': 4,\n",
       "  'start': 0,\n",
       "  'docs': [{'id': '1369',\n",
       "    'title': ['Rambo: First Blood Part II'],\n",
       "    '[features]': 'title_bm25=7.010513,overview_bm25=11.220095'},\n",
       "   {'id': '1370',\n",
       "    'title': ['Rambo III'],\n",
       "    '[features]': 'title_bm25=10.357876,overview_bm25=11.95039'},\n",
       "   {'id': '1368',\n",
       "    'title': ['First Blood'],\n",
       "    '[features]': 'title_bm25=0.0,overview_bm25=11.220095'},\n",
       "   {'id': '7555',\n",
       "    'title': ['Rambo'],\n",
       "    '[features]': 'title_bm25=12.318474,overview_bm25=10.573916'}]}}"
      ]
     },
     "execution_count": 14,
     "metadata": {},
     "output_type": "execute_result"
    }
   ],
   "source": [
    "params = {\n",
    "    \"fl\": \"id,title,[features store=test efi.keywords=\\\"rambo\\\"]\",\n",
    "    'q': \"id:7555 OR id:1370 id:1369 OR id:1368\",\n",
    "    'rows': 10,\n",
    "    'wt': 'json'  \n",
    "}\n",
    "\n",
    "resp = requests.post('http://localhost:8983/solr/tmdb/select', data=params).json()\n",
    "resp"
   ]
  },
  {
   "cell_type": "code",
   "execution_count": 17,
   "metadata": {},
   "outputs": [
    {
     "data": {
      "text/plain": [
       "{'store': 'test',\n",
       " 'name': 'test',\n",
       " 'class': 'org.apache.solr.ltr.model.MultipleAdditiveTreesModel',\n",
       " 'features': [{'name': 'title_bm25'}, {'name': 'overview_bm25'}],\n",
       " 'params': {'trees': [{'weight': '0.1',\n",
       "    'root': {'feature': 'overview_bm25',\n",
       "     'threshold': '10.664251',\n",
       "     'left': {'feature': 'title_bm25',\n",
       "      'threshold': '0.0',\n",
       "      'left': {'value': '-1.8305741548538208'},\n",
       "      'right': {'feature': 'overview_bm25',\n",
       "       'threshold': '9.502127',\n",
       "       'left': {'feature': 'title_bm25',\n",
       "        'threshold': '7.0849166',\n",
       "        'left': {'value': '0.23645669221878052'},\n",
       "        'right': {'value': '1.7593677043914795'}},\n",
       "       'right': {'value': '1.9719607830047607'}}},\n",
       "     'right': {'feature': 'overview_bm25',\n",
       "      'threshold': '0.0',\n",
       "      'left': {'value': '1.3728954792022705'},\n",
       "      'right': {'feature': 'overview_bm25',\n",
       "       'threshold': '8.602512',\n",
       "       'left': {'feature': 'title_bm25',\n",
       "        'threshold': '0.0',\n",
       "        'left': {'feature': 'overview_bm25',\n",
       "         'threshold': '13.815164',\n",
       "         'left': {'value': '1.9401178359985352'},\n",
       "         'right': {'value': '1.99532949924469'}},\n",
       "        'right': {'feature': 'title_bm25',\n",
       "         'threshold': '11.085816',\n",
       "         'left': {'value': '2.0'},\n",
       "         'right': {'value': '1.99308180809021'}}},\n",
       "       'right': {'value': '1.9870178699493408'}}}}}]}}"
      ]
     },
     "execution_count": 17,
     "metadata": {},
     "output_type": "execute_result"
    }
   ],
   "source": [
    "model = \"\"\"## LambdaMART\n",
    "## No. of trees = 10\n",
    "## No. of leaves = 10\n",
    "## No. of threshold candidates = 256\n",
    "## Learning rate = 0.1\n",
    "## Stop early = 100\n",
    "\n",
    "<ensemble>\n",
    "\t<tree id=\"1\" weight=\"0.1\">\n",
    "\t\t<split>\n",
    "\t\t\t<feature> 2 </feature>\n",
    "\t\t\t<threshold> 10.664251 </threshold>\n",
    "\t\t\t<split pos=\"left\">\n",
    "\t\t\t\t<feature> 1 </feature>\n",
    "\t\t\t\t<threshold> 0.0 </threshold>\n",
    "\t\t\t\t<split pos=\"left\">\n",
    "\t\t\t\t\t<output> -1.8305741548538208 </output>\n",
    "\t\t\t\t</split>\n",
    "\t\t\t\t<split pos=\"right\">\n",
    "\t\t\t\t\t<feature> 2 </feature>\n",
    "\t\t\t\t\t<threshold> 9.502127 </threshold>\n",
    "\t\t\t\t\t<split pos=\"left\">\n",
    "\t\t\t\t\t\t<feature> 1 </feature>\n",
    "\t\t\t\t\t\t<threshold> 7.0849166 </threshold>\n",
    "\t\t\t\t\t\t<split pos=\"left\">\n",
    "\t\t\t\t\t\t\t<output> 0.23645669221878052 </output>\n",
    "\t\t\t\t\t\t</split>\n",
    "\t\t\t\t\t\t<split pos=\"right\">\n",
    "\t\t\t\t\t\t\t<output> 1.7593677043914795 </output>\n",
    "\t\t\t\t\t\t</split>\n",
    "\t\t\t\t\t</split>\n",
    "\t\t\t\t\t<split pos=\"right\">\n",
    "\t\t\t\t\t\t<output> 1.9719607830047607 </output>\n",
    "\t\t\t\t\t</split>\n",
    "\t\t\t\t</split>\n",
    "\t\t\t</split>\n",
    "\t\t\t<split pos=\"right\">\n",
    "\t\t\t\t<feature> 2 </feature>\n",
    "\t\t\t\t<threshold> 0.0 </threshold>\n",
    "\t\t\t\t<split pos=\"left\">\n",
    "\t\t\t\t\t<output> 1.3728954792022705 </output>\n",
    "\t\t\t\t</split>\n",
    "\t\t\t\t<split pos=\"right\">\n",
    "\t\t\t\t\t<feature> 2 </feature>\n",
    "\t\t\t\t\t<threshold> 8.602512 </threshold>\n",
    "\t\t\t\t\t<split pos=\"left\">\n",
    "\t\t\t\t\t\t<feature> 1 </feature>\n",
    "\t\t\t\t\t\t<threshold> 0.0 </threshold>\n",
    "\t\t\t\t\t\t<split pos=\"left\">\n",
    "\t\t\t\t\t\t\t<feature> 2 </feature>\n",
    "\t\t\t\t\t\t\t<threshold> 13.815164 </threshold>\n",
    "\t\t\t\t\t\t\t<split pos=\"left\">\n",
    "\t\t\t\t\t\t\t\t<output> 1.9401178359985352 </output>\n",
    "\t\t\t\t\t\t\t</split>\n",
    "\t\t\t\t\t\t\t<split pos=\"right\">\n",
    "\t\t\t\t\t\t\t\t<output> 1.99532949924469 </output>\n",
    "\t\t\t\t\t\t\t</split>\n",
    "\t\t\t\t\t\t</split>\n",
    "\t\t\t\t\t\t<split pos=\"right\">\n",
    "\t\t\t\t\t\t\t<feature> 1 </feature>\n",
    "\t\t\t\t\t\t\t<threshold> 11.085816 </threshold>\n",
    "\t\t\t\t\t\t\t<split pos=\"left\">\n",
    "\t\t\t\t\t\t\t\t<output> 2.0 </output>\n",
    "\t\t\t\t\t\t\t</split>\n",
    "\t\t\t\t\t\t\t<split pos=\"right\">\n",
    "\t\t\t\t\t\t\t\t<output> 1.99308180809021 </output>\n",
    "\t\t\t\t\t\t\t</split>\n",
    "\t\t\t\t\t\t</split>\n",
    "\t\t\t\t\t</split>\n",
    "\t\t\t\t\t<split pos=\"right\">\n",
    "\t\t\t\t\t\t<output> 1.9870178699493408 </output>\n",
    "\t\t\t\t\t</split>\n",
    "\t\t\t\t</split>\n",
    "\t\t\t</split>\n",
    "\t\t</split>\n",
    "\t</tree>\n",
    "</ensemble>\n",
    "\"\"\"\n",
    "\n",
    "from ltr.helpers.convert import convert\n",
    "\n",
    "feature_mapping = [{'name': 'title_bm25'}, {'name': 'overview_bm25'}]\n",
    "\n",
    "solr_model = convert(model, 'test', 'test', feature_mapping)\n",
    "solr_model"
   ]
  },
  {
   "cell_type": "code",
   "execution_count": 19,
   "metadata": {},
   "outputs": [
    {
     "data": {
      "text/plain": [
       "<Response [200]>"
      ]
     },
     "execution_count": 19,
     "metadata": {},
     "output_type": "execute_result"
    }
   ],
   "source": [
    "requests.put('http://localhost:8983/solr/tmdb/schema/model-store',\n",
    "              json=solr_model)"
   ]
  },
  {
   "cell_type": "code",
   "execution_count": 25,
   "metadata": {},
   "outputs": [
    {
     "data": {
      "text/plain": [
       "{'responseHeader': {'status': 0,\n",
       "  'QTime': 0,\n",
       "  'params': {'q': 'rambo',\n",
       "   'fl': 'title',\n",
       "   'rows': '10',\n",
       "   'wt': 'json',\n",
       "   'rq': '{!ltr model=test efi.keywords=\"rambo\"}'}},\n",
       " 'response': {'numFound': 13,\n",
       "  'start': 0,\n",
       "  'docs': [{'title': ['Rambo: First Blood Part II']},\n",
       "   {'title': ['Rambo III']},\n",
       "   {'title': ['First Blood']},\n",
       "   {'title': ['Rambo']},\n",
       "   {'title': ['Junior']},\n",
       "   {'title': ['A Hole in the Soul']},\n",
       "   {'title': ['Zelig']},\n",
       "   {'title': ['Son of Rambow']},\n",
       "   {'title': ['Go for It']},\n",
       "   {'title': ['In the Line of Duty: The F.B.I. Murders']}]}}"
      ]
     },
     "execution_count": 25,
     "metadata": {},
     "output_type": "execute_result"
    }
   ],
   "source": [
    "params = {\n",
    "    'q': 'rambo',\n",
    "    'rows': 10,\n",
    "    \"rq\": \"{!ltr model=test efi.keywords=\\\"rambo\\\"}\",\n",
    "    'wt': 'json',\n",
    "    'fl': 'title'\n",
    "}\n",
    "\n",
    "resp = requests.post('http://localhost:8983/solr/tmdb/select', data=params).json()\n",
    "resp"
   ]
  },
  {
   "cell_type": "code",
   "execution_count": null,
   "metadata": {},
   "outputs": [],
   "source": []
  }
 ],
 "metadata": {
  "kernelspec": {
   "display_name": "Python 3",
   "language": "python",
   "name": "python3"
  },
  "language_info": {
   "codemirror_mode": {
    "name": "ipython",
    "version": 3
   },
   "file_extension": ".py",
   "mimetype": "text/x-python",
   "name": "python",
   "nbconvert_exporter": "python",
   "pygments_lexer": "ipython3",
   "version": "3.6.1"
  }
 },
 "nbformat": 4,
 "nbformat_minor": 2
}
