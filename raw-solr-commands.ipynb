{
 "cells": [
  {
   "cell_type": "code",
   "execution_count": 2,
   "metadata": {},
   "outputs": [],
   "source": [
    "import requests\n",
    "import json\n"
   ]
  },
  {
   "cell_type": "code",
   "execution_count": 4,
   "metadata": {},
   "outputs": [
    {
     "data": {
      "text/plain": [
       "<Response [200]>"
      ]
     },
     "execution_count": 4,
     "metadata": {},
     "output_type": "execute_result"
    }
   ],
   "source": [
    "requests.delete(\"http://localhost:8983/solr/tmdb/schema/model-store/test\")"
   ]
  },
  {
   "cell_type": "code",
   "execution_count": 5,
   "metadata": {},
   "outputs": [
    {
     "data": {
      "text/plain": [
       "<Response [200]>"
      ]
     },
     "execution_count": 5,
     "metadata": {},
     "output_type": "execute_result"
    }
   ],
   "source": [
    "requests.delete(\"http://localhost:8983/solr/tmdb/schema/feature-store/test\")"
   ]
  },
  {
   "cell_type": "code",
   "execution_count": 6,
   "metadata": {},
   "outputs": [
    {
     "data": {
      "text/plain": [
       "<Response [200]>"
      ]
     },
     "execution_count": 6,
     "metadata": {},
     "output_type": "execute_result"
    }
   ],
   "source": [
    "feature_set = [\n",
    "    {\n",
    "      \"name\" : \"title_bm25\",\n",
    "      \"store\": \"test\",\n",
    "      \"class\" : \"org.apache.solr.ltr.feature.SolrFeature\",\n",
    "      \"params\" : {\n",
    "        \"q\" : \"title:(${keywords})\"\n",
    "      }\n",
    "    },\n",
    "    {\n",
    "      \"name\" : \"overview_bm25\",\n",
    "      \"store\": \"test\",\n",
    "      \"class\" : \"org.apache.solr.ltr.feature.SolrFeature\",\n",
    "      \"params\" : {\n",
    "        \"q\" : \"overview:(${keywords})\"\n",
    "      }\n",
    "    }\n",
    "]\n",
    "\n",
    "requests.put('http://localhost:8983/solr/tmdb/schema/feature-store', \n",
    "             json=feature_set)"
   ]
  },
  {
   "cell_type": "code",
   "execution_count": 7,
   "metadata": {},
   "outputs": [
    {
     "data": {
      "text/plain": [
       "{'responseHeader': {'status': 0, 'QTime': 11},\n",
       " 'features': [{'name': 'title_bm25',\n",
       "   'class': 'org.apache.solr.ltr.feature.SolrFeature',\n",
       "   'params': {'q': 'title:(${keywords})'},\n",
       "   'store': 'test'},\n",
       "  {'name': 'overview_bm25',\n",
       "   'class': 'org.apache.solr.ltr.feature.SolrFeature',\n",
       "   'params': {'q': 'overview:(${keywords})'},\n",
       "   'store': 'test'}]}"
      ]
     },
     "execution_count": 7,
     "metadata": {},
     "output_type": "execute_result"
    }
   ],
   "source": [
    "resp = requests.get('http://localhost:8983/solr/tmdb/schema/feature-store/test')\n",
    "resp.json()"
   ]
  },
  {
   "cell_type": "code",
   "execution_count": 8,
   "metadata": {},
   "outputs": [
    {
     "data": {
      "text/plain": [
       "{'responseHeader': {'status': 0,\n",
       "  'QTime': 885,\n",
       "  'params': {'q': 'id:7555 OR id:1370 id:1369 OR id:1368',\n",
       "   'fl': 'id,title,[features store=test efi.keywords=\"rambo\"]',\n",
       "   'rows': '10',\n",
       "   'wt': 'json'}},\n",
       " 'response': {'numFound': 4,\n",
       "  'start': 0,\n",
       "  'docs': [{'id': '1370',\n",
       "    'title': ['Rambo III'],\n",
       "    '[features]': 'title_bm25=10.357876,overview_bm25=11.95039'},\n",
       "   {'id': '1369',\n",
       "    'title': ['Rambo: First Blood Part II'],\n",
       "    '[features]': 'title_bm25=7.010513,overview_bm25=11.220095'},\n",
       "   {'id': '1368',\n",
       "    'title': ['First Blood'],\n",
       "    '[features]': 'title_bm25=0.0,overview_bm25=11.220095'},\n",
       "   {'id': '7555',\n",
       "    'title': ['Rambo'],\n",
       "    '[features]': 'title_bm25=12.318474,overview_bm25=10.573916'}]}}"
      ]
     },
     "execution_count": 8,
     "metadata": {},
     "output_type": "execute_result"
    }
   ],
   "source": [
    "params = {\n",
    "    \"fl\": \"id,title,[features store=test efi.keywords=\\\"rambo\\\"]\",\n",
    "    'q': \"id:7555 OR id:1370 id:1369 OR id:1368\",\n",
    "    'rows': 10,\n",
    "    'wt': 'json'  \n",
    "}\n",
    "\n",
    "resp = requests.post('http://localhost:8983/solr/tmdb/select', data=params).json()\n",
    "resp"
   ]
  },
  {
   "cell_type": "code",
   "execution_count": 9,
   "metadata": {},
   "outputs": [
    {
     "name": "stdout",
     "output_type": "stream",
     "text": [
      "{\n",
      "  \"store\": \"test\",\n",
      "  \"name\": \"test\",\n",
      "  \"class\": \"org.apache.solr.ltr.model.MultipleAdditiveTreesModel\",\n",
      "  \"features\": [\n",
      "    {\n",
      "      \"name\": \"title_bm25\"\n",
      "    },\n",
      "    {\n",
      "      \"name\": \"overview_bm25\"\n",
      "    }\n",
      "  ],\n",
      "  \"params\": {\n",
      "    \"trees\": [\n",
      "      {\n",
      "        \"weight\": \"0.1\",\n",
      "        \"root\": {\n",
      "          \"feature\": \"overview_bm25\",\n",
      "          \"threshold\": \"10.664251\",\n",
      "          \"left\": {\n",
      "            \"feature\": \"title_bm25\",\n",
      "            \"threshold\": \"0.0\",\n",
      "            \"left\": {\n",
      "              \"value\": \"-1.8305741548538208\"\n",
      "            },\n",
      "            \"right\": {\n",
      "              \"feature\": \"overview_bm25\",\n",
      "              \"threshold\": \"9.502127\",\n",
      "              \"left\": {\n",
      "                \"feature\": \"title_bm25\",\n",
      "                \"threshold\": \"7.0849166\",\n",
      "                \"left\": {\n",
      "                  \"value\": \"0.23645669221878052\"\n",
      "                },\n",
      "                \"right\": {\n",
      "                  \"value\": \"1.7593677043914795\"\n",
      "                }\n",
      "              },\n",
      "              \"right\": {\n",
      "                \"value\": \"1.9719607830047607\"\n",
      "              }\n",
      "            }\n",
      "          },\n",
      "          \"right\": {\n",
      "            \"feature\": \"overview_bm25\",\n",
      "            \"threshold\": \"0.0\",\n",
      "            \"left\": {\n",
      "              \"value\": \"1.3728954792022705\"\n",
      "            },\n",
      "            \"right\": {\n",
      "              \"feature\": \"overview_bm25\",\n",
      "              \"threshold\": \"8.602512\",\n",
      "              \"left\": {\n",
      "                \"feature\": \"title_bm25\",\n",
      "                \"threshold\": \"0.0\",\n",
      "                \"left\": {\n",
      "                  \"feature\": \"overview_bm25\",\n",
      "                  \"threshold\": \"13.815164\",\n",
      "                  \"left\": {\n",
      "                    \"value\": \"1.9401178359985352\"\n",
      "                  },\n",
      "                  \"right\": {\n",
      "                    \"value\": \"1.99532949924469\"\n",
      "                  }\n",
      "                },\n",
      "                \"right\": {\n",
      "                  \"feature\": \"title_bm25\",\n",
      "                  \"threshold\": \"11.085816\",\n",
      "                  \"left\": {\n",
      "                    \"value\": \"2.0\"\n",
      "                  },\n",
      "                  \"right\": {\n",
      "                    \"value\": \"1.99308180809021\"\n",
      "                  }\n",
      "                }\n",
      "              },\n",
      "              \"right\": {\n",
      "                \"value\": \"1.9870178699493408\"\n",
      "              }\n",
      "            }\n",
      "          }\n",
      "        }\n",
      "      }\n",
      "    ]\n",
      "  }\n",
      "}\n"
     ]
    }
   ],
   "source": [
    "model = \"\"\"## LambdaMART\n",
    "## No. of trees = 10\n",
    "## No. of leaves = 10\n",
    "## No. of threshold candidates = 256\n",
    "## Learning rate = 0.1\n",
    "## Stop early = 100\n",
    "\n",
    "<ensemble>\n",
    "\t<tree id=\"1\" weight=\"0.1\">\n",
    "\t\t<split>\n",
    "\t\t\t<feature> 2 </feature>\n",
    "\t\t\t<threshold> 10.664251 </threshold>\n",
    "\t\t\t<split pos=\"left\">\n",
    "\t\t\t\t<feature> 1 </feature>\n",
    "\t\t\t\t<threshold> 0.0 </threshold>\n",
    "\t\t\t\t<split pos=\"left\">\n",
    "\t\t\t\t\t<output> -1.8305741548538208 </output>\n",
    "\t\t\t\t</split>\n",
    "\t\t\t\t<split pos=\"right\">\n",
    "\t\t\t\t\t<feature> 2 </feature>\n",
    "\t\t\t\t\t<threshold> 9.502127 </threshold>\n",
    "\t\t\t\t\t<split pos=\"left\">\n",
    "\t\t\t\t\t\t<feature> 1 </feature>\n",
    "\t\t\t\t\t\t<threshold> 7.0849166 </threshold>\n",
    "\t\t\t\t\t\t<split pos=\"left\">\n",
    "\t\t\t\t\t\t\t<output> 0.23645669221878052 </output>\n",
    "\t\t\t\t\t\t</split>\n",
    "\t\t\t\t\t\t<split pos=\"right\">\n",
    "\t\t\t\t\t\t\t<output> 1.7593677043914795 </output>\n",
    "\t\t\t\t\t\t</split>\n",
    "\t\t\t\t\t</split>\n",
    "\t\t\t\t\t<split pos=\"right\">\n",
    "\t\t\t\t\t\t<output> 1.9719607830047607 </output>\n",
    "\t\t\t\t\t</split>\n",
    "\t\t\t\t</split>\n",
    "\t\t\t</split>\n",
    "\t\t\t<split pos=\"right\">\n",
    "\t\t\t\t<feature> 2 </feature>\n",
    "\t\t\t\t<threshold> 0.0 </threshold>\n",
    "\t\t\t\t<split pos=\"left\">\n",
    "\t\t\t\t\t<output> 1.3728954792022705 </output>\n",
    "\t\t\t\t</split>\n",
    "\t\t\t\t<split pos=\"right\">\n",
    "\t\t\t\t\t<feature> 2 </feature>\n",
    "\t\t\t\t\t<threshold> 8.602512 </threshold>\n",
    "\t\t\t\t\t<split pos=\"left\">\n",
    "\t\t\t\t\t\t<feature> 1 </feature>\n",
    "\t\t\t\t\t\t<threshold> 0.0 </threshold>\n",
    "\t\t\t\t\t\t<split pos=\"left\">\n",
    "\t\t\t\t\t\t\t<feature> 2 </feature>\n",
    "\t\t\t\t\t\t\t<threshold> 13.815164 </threshold>\n",
    "\t\t\t\t\t\t\t<split pos=\"left\">\n",
    "\t\t\t\t\t\t\t\t<output> 1.9401178359985352 </output>\n",
    "\t\t\t\t\t\t\t</split>\n",
    "\t\t\t\t\t\t\t<split pos=\"right\">\n",
    "\t\t\t\t\t\t\t\t<output> 1.99532949924469 </output>\n",
    "\t\t\t\t\t\t\t</split>\n",
    "\t\t\t\t\t\t</split>\n",
    "\t\t\t\t\t\t<split pos=\"right\">\n",
    "\t\t\t\t\t\t\t<feature> 1 </feature>\n",
    "\t\t\t\t\t\t\t<threshold> 11.085816 </threshold>\n",
    "\t\t\t\t\t\t\t<split pos=\"left\">\n",
    "\t\t\t\t\t\t\t\t<output> 2.0 </output>\n",
    "\t\t\t\t\t\t\t</split>\n",
    "\t\t\t\t\t\t\t<split pos=\"right\">\n",
    "\t\t\t\t\t\t\t\t<output> 1.99308180809021 </output>\n",
    "\t\t\t\t\t\t\t</split>\n",
    "\t\t\t\t\t\t</split>\n",
    "\t\t\t\t\t</split>\n",
    "\t\t\t\t\t<split pos=\"right\">\n",
    "\t\t\t\t\t\t<output> 1.9870178699493408 </output>\n",
    "\t\t\t\t\t</split>\n",
    "\t\t\t\t</split>\n",
    "\t\t\t</split>\n",
    "\t\t</split>\n",
    "\t</tree>\n",
    "</ensemble>\n",
    "\"\"\"\n",
    "\n",
    "from ltr.helpers.convert import convert\n",
    "\n",
    "feature_mapping = [{'name': 'title_bm25'}, {'name': 'overview_bm25'}]\n",
    "\n",
    "solr_model = convert(model, 'test', 'test', feature_mapping)\n",
    "print(json.dumps(solr_model, indent=2))"
   ]
  },
  {
   "cell_type": "code",
   "execution_count": 10,
   "metadata": {},
   "outputs": [
    {
     "data": {
      "text/plain": [
       "<Response [200]>"
      ]
     },
     "execution_count": 10,
     "metadata": {},
     "output_type": "execute_result"
    }
   ],
   "source": [
    "requests.put('http://localhost:8983/solr/tmdb/schema/model-store',\n",
    "              json=solr_model)"
   ]
  },
  {
   "cell_type": "code",
   "execution_count": 12,
   "metadata": {},
   "outputs": [
    {
     "data": {
      "text/plain": [
       "{'responseHeader': {'status': 0,\n",
       "  'QTime': 63,\n",
       "  'params': {'q': '{!ltr model=test efi.keywords=\"rocky\"}',\n",
       "   'fl': 'title',\n",
       "   'rows': '10'}},\n",
       " 'response': {'numFound': 27760,\n",
       "  'start': 0,\n",
       "  'docs': [{'title': ['Oliver!']},\n",
       "   {'title': ['Bullets Over Broadway']},\n",
       "   {'title': ['Loose Cannons']},\n",
       "   {'title': ['Sleeper']},\n",
       "   {'title': ['Watchmen']},\n",
       "   {'title': ['Sherlock Holmes']},\n",
       "   {'title': ['The Hours']},\n",
       "   {'title': ['Vampire Hunter D: Bloodlust']},\n",
       "   {'title': ['Biutiful']},\n",
       "   {'title': ['Melancholia']}]}}"
      ]
     },
     "execution_count": 12,
     "metadata": {},
     "output_type": "execute_result"
    }
   ],
   "source": [
    "params = {\n",
    "    'q': '{!ltr model=test efi.keywords=\\\"rocky\\\"}',\n",
    "    'rows': 10,\n",
    "    'fl': 'title'\n",
    "}\n",
    "\n",
    "resp = requests.post('http://localhost:8983/solr/tmdb/select', data=params).json()\n",
    "resp"
   ]
  },
  {
   "cell_type": "code",
   "execution_count": 14,
   "metadata": {},
   "outputs": [
    {
     "data": {
      "text/plain": [
       "{'responseHeader': {'status': 0,\n",
       "  'QTime': 36,\n",
       "  'params': {'q': 'rambo',\n",
       "   'fl': 'title',\n",
       "   'rows': '10',\n",
       "   'wt': 'json',\n",
       "   'rq': '{!ltr model=test reRankDocs=5 efi.keywords=\"rambo\"}'}},\n",
       " 'response': {'numFound': 13,\n",
       "  'start': 0,\n",
       "  'docs': [{'title': ['Rambo III']},\n",
       "   {'title': ['Rambo: First Blood Part II']},\n",
       "   {'title': ['First Blood']},\n",
       "   {'title': ['Rambo']},\n",
       "   {'title': ['A Hole in the Soul']},\n",
       "   {'title': ['In the Line of Duty: The F.B.I. Murders']},\n",
       "   {'title': ['Which Way to the Front?']},\n",
       "   {'title': ['Son of Rambow']},\n",
       "   {'title': ['Zelig']},\n",
       "   {'title': ['Go for It']}]}}"
      ]
     },
     "execution_count": 14,
     "metadata": {},
     "output_type": "execute_result"
    }
   ],
   "source": [
    "params = {\n",
    "    'q': 'rambo',\n",
    "    'rows': 10,\n",
    "    \"rq\": \"{!ltr model=test reRankDocs=50 efi.keywords=\\\"rambo\\\"}\",\n",
    "    'wt': 'json',\n",
    "    'fl': 'title'\n",
    "}\n",
    "\n",
    "resp = requests.post('http://localhost:8983/solr/tmdb/select', data=params).json()\n",
    "resp"
   ]
  },
  {
   "cell_type": "code",
   "execution_count": null,
   "metadata": {},
   "outputs": [],
   "source": []
  }
 ],
 "metadata": {
  "kernelspec": {
   "display_name": "Python 3",
   "language": "python",
   "name": "python3"
  },
  "language_info": {
   "codemirror_mode": {
    "name": "ipython",
    "version": 3
   },
   "file_extension": ".py",
   "mimetype": "text/x-python",
   "name": "python",
   "nbconvert_exporter": "python",
   "pygments_lexer": "ipython3",
   "version": "3.6.1"
  }
 },
 "nbformat": 4,
 "nbformat_minor": 2
}
