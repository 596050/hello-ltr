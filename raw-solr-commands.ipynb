{
 "cells": [
  {
   "cell_type": "code",
   "execution_count": null,
   "metadata": {},
   "outputs": [],
   "source": [
    "import requests\n",
    "import json\n"
   ]
  },
  {
   "cell_type": "code",
   "execution_count": null,
   "metadata": {},
   "outputs": [],
   "source": [
    "requests.delete(\"http://localhost:8983/solr/tmdb/schema/model-store/test\")"
   ]
  },
  {
   "cell_type": "code",
   "execution_count": null,
   "metadata": {},
   "outputs": [],
   "source": [
    "requests.delete(\"http://localhost:8983/solr/tmdb/schema/feature-store/test\")"
   ]
  },
  {
   "cell_type": "code",
   "execution_count": null,
   "metadata": {},
   "outputs": [],
   "source": [
    "feature_set = [\n",
    "    {\n",
    "      \"name\" : \"title_bm25\",\n",
    "      \"store\": \"test\",\n",
    "      \"class\" : \"org.apache.solr.ltr.feature.SolrFeature\",\n",
    "      \"params\" : {\n",
    "        \"q\" : \"title:(${keywords})\"\n",
    "      }\n",
    "    },\n",
    "    {\n",
    "      \"name\" : \"overview_bm25\",\n",
    "      \"store\": \"test\",\n",
    "      \"class\" : \"org.apache.solr.ltr.feature.SolrFeature\",\n",
    "      \"params\" : {\n",
    "        \"q\" : \"overview:(${keywords})\"\n",
    "      }\n",
    "    }\n",
    "]\n",
    "\n",
    "requests.put('http://localhost:8983/solr/tmdb/schema/feature-store', \n",
    "             json=feature_set)"
   ]
  },
  {
   "cell_type": "code",
   "execution_count": null,
   "metadata": {},
   "outputs": [],
   "source": [
    "resp = requests.get('http://localhost:8983/solr/tmdb/schema/feature-store/test')\n",
    "resp.json()"
   ]
  },
  {
   "cell_type": "code",
   "execution_count": null,
   "metadata": {},
   "outputs": [],
   "source": [
    "params = {\n",
    "    \"fl\": \"id,title,[features store=test efi.keywords=\\\"rambo\\\"]\",\n",
    "    'q': \"id:7555 OR id:1370 id:1369 OR id:1368\",\n",
    "    'rows': 10,\n",
    "    'wt': 'json'  \n",
    "}\n",
    "\n",
    "resp = requests.post('http://localhost:8983/solr/tmdb/select', data=params).json()\n",
    "resp"
   ]
  },
  {
   "cell_type": "code",
   "execution_count": null,
   "metadata": {},
   "outputs": [],
   "source": [
    "model = \"\"\"## LambdaMART\n",
    "## No. of trees = 10\n",
    "## No. of leaves = 10\n",
    "## No. of threshold candidates = 256\n",
    "## Learning rate = 0.1\n",
    "## Stop early = 100\n",
    "\n",
    "<ensemble>\n",
    "\t<tree id=\"1\" weight=\"0.1\">\n",
    "\t\t<split>\n",
    "\t\t\t<feature> 2 </feature>\n",
    "\t\t\t<threshold> 10.664251 </threshold>\n",
    "\t\t\t<split pos=\"left\">\n",
    "\t\t\t\t<feature> 1 </feature>\n",
    "\t\t\t\t<threshold> 0.0 </threshold>\n",
    "\t\t\t\t<split pos=\"left\">\n",
    "\t\t\t\t\t<output> -1.8305741548538208 </output>\n",
    "\t\t\t\t</split>\n",
    "\t\t\t\t<split pos=\"right\">\n",
    "\t\t\t\t\t<feature> 2 </feature>\n",
    "\t\t\t\t\t<threshold> 9.502127 </threshold>\n",
    "\t\t\t\t\t<split pos=\"left\">\n",
    "\t\t\t\t\t\t<feature> 1 </feature>\n",
    "\t\t\t\t\t\t<threshold> 7.0849166 </threshold>\n",
    "\t\t\t\t\t\t<split pos=\"left\">\n",
    "\t\t\t\t\t\t\t<output> 0.23645669221878052 </output>\n",
    "\t\t\t\t\t\t</split>\n",
    "\t\t\t\t\t\t<split pos=\"right\">\n",
    "\t\t\t\t\t\t\t<output> 1.7593677043914795 </output>\n",
    "\t\t\t\t\t\t</split>\n",
    "\t\t\t\t\t</split>\n",
    "\t\t\t\t\t<split pos=\"right\">\n",
    "\t\t\t\t\t\t<output> 1.9719607830047607 </output>\n",
    "\t\t\t\t\t</split>\n",
    "\t\t\t\t</split>\n",
    "\t\t\t</split>\n",
    "\t\t\t<split pos=\"right\">\n",
    "\t\t\t\t<feature> 2 </feature>\n",
    "\t\t\t\t<threshold> 0.0 </threshold>\n",
    "\t\t\t\t<split pos=\"left\">\n",
    "\t\t\t\t\t<output> 1.3728954792022705 </output>\n",
    "\t\t\t\t</split>\n",
    "\t\t\t\t<split pos=\"right\">\n",
    "\t\t\t\t\t<feature> 2 </feature>\n",
    "\t\t\t\t\t<threshold> 8.602512 </threshold>\n",
    "\t\t\t\t\t<split pos=\"left\">\n",
    "\t\t\t\t\t\t<feature> 1 </feature>\n",
    "\t\t\t\t\t\t<threshold> 0.0 </threshold>\n",
    "\t\t\t\t\t\t<split pos=\"left\">\n",
    "\t\t\t\t\t\t\t<feature> 2 </feature>\n",
    "\t\t\t\t\t\t\t<threshold> 13.815164 </threshold>\n",
    "\t\t\t\t\t\t\t<split pos=\"left\">\n",
    "\t\t\t\t\t\t\t\t<output> 1.9401178359985352 </output>\n",
    "\t\t\t\t\t\t\t</split>\n",
    "\t\t\t\t\t\t\t<split pos=\"right\">\n",
    "\t\t\t\t\t\t\t\t<output> 1.99532949924469 </output>\n",
    "\t\t\t\t\t\t\t</split>\n",
    "\t\t\t\t\t\t</split>\n",
    "\t\t\t\t\t\t<split pos=\"right\">\n",
    "\t\t\t\t\t\t\t<feature> 1 </feature>\n",
    "\t\t\t\t\t\t\t<threshold> 11.085816 </threshold>\n",
    "\t\t\t\t\t\t\t<split pos=\"left\">\n",
    "\t\t\t\t\t\t\t\t<output> 2.0 </output>\n",
    "\t\t\t\t\t\t\t</split>\n",
    "\t\t\t\t\t\t\t<split pos=\"right\">\n",
    "\t\t\t\t\t\t\t\t<output> 1.99308180809021 </output>\n",
    "\t\t\t\t\t\t\t</split>\n",
    "\t\t\t\t\t\t</split>\n",
    "\t\t\t\t\t</split>\n",
    "\t\t\t\t\t<split pos=\"right\">\n",
    "\t\t\t\t\t\t<output> 1.9870178699493408 </output>\n",
    "\t\t\t\t\t</split>\n",
    "\t\t\t\t</split>\n",
    "\t\t\t</split>\n",
    "\t\t</split>\n",
    "\t</tree>\n",
    "</ensemble>\n",
    "\"\"\"\n",
    "\n",
    "from ltr.helpers.convert import convert\n",
    "\n",
    "feature_mapping = [{'name': 'title_bm25'}, {'name': 'overview_bm25'}]\n",
    "\n",
    "solr_model = convert(model, 'test', 'test', feature_mapping)\n",
    "print(json.dumps(solr_model, indent=2))"
   ]
  },
  {
   "cell_type": "code",
   "execution_count": null,
   "metadata": {},
   "outputs": [],
   "source": [
    "requests.put('http://localhost:8983/solr/tmdb/schema/model-store',\n",
    "              json=solr_model)"
   ]
  },
  {
   "cell_type": "code",
   "execution_count": null,
   "metadata": {},
   "outputs": [],
   "source": [
    "params = {\n",
    "    'q': 'rambo',\n",
    "    'rows': 10,\n",
    "    \"rq\": \"{!ltr model=test efi.keywords=\\\"rambo\\\"}\",\n",
    "    'wt': 'json',\n",
    "    'fl': 'title'\n",
    "}\n",
    "\n",
    "resp = requests.post('http://localhost:8983/solr/tmdb/select', data=params).json()\n",
    "resp"
   ]
  },
  {
   "cell_type": "code",
   "execution_count": null,
   "metadata": {},
   "outputs": [],
   "source": []
  }
 ],
 "metadata": {
  "kernelspec": {
   "display_name": "Python 3",
   "language": "python",
   "name": "python3"
  },
  "language_info": {
   "codemirror_mode": {
    "name": "ipython",
    "version": 3
   },
   "file_extension": ".py",
   "mimetype": "text/x-python",
   "name": "python",
   "nbconvert_exporter": "python",
   "pygments_lexer": "ipython3",
   "version": "3.6.1"
  }
 },
 "nbformat": 4,
 "nbformat_minor": 2
}
