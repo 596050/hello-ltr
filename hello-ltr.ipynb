{
 "cells": [
  {
   "cell_type": "markdown",
   "metadata": {
    "deletable": true,
    "editable": true
   },
   "source": [
    "# hello-ltr\n",
    "\n",
    "Fire up an elastic server with the LTR plugin installed and run thru the cells below to get started with Learning-to-Rank!"
   ]
  },
  {
   "cell_type": "markdown",
   "metadata": {
    "deletable": true,
    "editable": true
   },
   "source": [
    "### Download some requirements"
   ]
  },
  {
   "cell_type": "code",
   "execution_count": 1,
   "metadata": {
    "collapsed": false,
    "deletable": true,
    "editable": true
   },
   "outputs": [
    {
     "name": "stdout",
     "output_type": "stream",
     "text": [
      "GET http://es-learn-to-rank.labs.o19s.com/tmdb.json\n",
      "GET http://es-learn-to-rank.labs.o19s.com/RankyMcRankFace.jar\n",
      "Done.\n"
     ]
    }
   ],
   "source": [
    "from ltr import download\n",
    "download.run()"
   ]
  },
  {
   "cell_type": "markdown",
   "metadata": {
    "deletable": true,
    "editable": true
   },
   "source": [
    "### Index Movies"
   ]
  },
  {
   "cell_type": "code",
   "execution_count": 1,
   "metadata": {
    "collapsed": false,
    "deletable": true,
    "editable": true
   },
   "outputs": [
    {
     "name": "stdout",
     "output_type": "stream",
     "text": [
      "DELETE INDEX: 404\n",
      "POST INDEX: 200\n",
      "Indexing 27846 movies\n",
      "Done\n"
     ]
    }
   ],
   "source": [
    "from ltr import index\n",
    "index.run()"
   ]
  },
  {
   "cell_type": "markdown",
   "metadata": {
    "deletable": true,
    "editable": true
   },
   "source": [
    "### Create FeatureSet\n",
    "A feature set is required to log out features to train models.  This step creates the `release` feature set, it consists of one feature, the release year of a movie\n"
   ]
  },
  {
   "cell_type": "code",
   "execution_count": 1,
   "metadata": {
    "collapsed": false,
    "deletable": true,
    "editable": true
   },
   "outputs": [
    {
     "name": "stdout",
     "output_type": "stream",
     "text": [
      "Removed LTR feature store: 200\n",
      "Initialize LTR: 200\n",
      "Created RELEASE feature set: 201\n"
     ]
    }
   ],
   "source": [
    "config = {\n",
    "    \"featureset\": {\n",
    "        \"features\": [\n",
    "            {\n",
    "                \"name\": \"release_year\",\n",
    "                \"params\": [],\n",
    "                \"template\": {\n",
    "                    \"function_score\": {\n",
    "                        \"field_value_factor\": {\n",
    "                            \"field\": \"release_year\",\n",
    "                            \"missing\": 2000\n",
    "                        },\n",
    "                        \"query\": { \"match_all\": {} }\n",
    "                    }\n",
    "                }\n",
    "            }\n",
    "        ]\n",
    "    }\n",
    "}\n",
    "\n",
    "\n",
    "from ltr import setup_ltr\n",
    "setup_ltr.run(config=config, featureSet='release')"
   ]
  },
  {
   "cell_type": "markdown",
   "metadata": {
    "deletable": true,
    "editable": true
   },
   "source": [
    "### Logging and Ratings\n",
    "For this example we're working with one query, `match_all`.  We utilize the `sltr` query to log out features which will be tagged with a rating to be used in training.\n",
    "\n",
    "- The classic model prefers old movies: `4 qid:1 1:1960`\n",
    "- The latest model prefers new movies: `4 qid:1 1:2019`\n",
    "\n",
    "Using this simple signaling can we do a pseudo-sort on date using LTR? Let's find out.  The next step will generate two training files, `classic-training.txt` and `latest-training.txt`."
   ]
  },
  {
   "cell_type": "code",
   "execution_count": 2,
   "metadata": {
    "collapsed": false,
    "deletable": true,
    "editable": true
   },
   "outputs": [
    {
     "name": "stdout",
     "output_type": "stream",
     "text": [
      "Generating ratings for classic and latest model\n",
      "Done\n"
     ]
    }
   ],
   "source": [
    "from ltr import years_as_ratings\n",
    "years_as_ratings.run(featureSet='release',\n",
    "                     classicTrainingSetOut='data/classic-training.txt',\n",
    "                     latestTrainingSetOut='data/latest-training.txt')"
   ]
  },
  {
   "cell_type": "markdown",
   "metadata": {
    "deletable": true,
    "editable": true
   },
   "source": [
    "### Train and Submit\n",
    "Using the training data from the previous step, we'll use RankyMcRankFace to spit out two LambaMART models.  Once these files are generated, we can then submit them to elastic to be used in scoring."
   ]
  },
  {
   "cell_type": "code",
   "execution_count": 4,
   "metadata": {
    "collapsed": false,
    "deletable": true,
    "editable": true
   },
   "outputs": [
    {
     "name": "stdout",
     "output_type": "stream",
     "text": [
      "Delete model latest: 404\n",
      "Created model latest: 201\n",
      "Done\n",
      "Delete model classic: 404\n",
      "Created model classic: 201\n",
      "Done\n"
     ]
    }
   ],
   "source": [
    "from ltr import train\n",
    "train.run(trainingInFile='data/latest-training.txt', featureSet='release', modelName='latest')\n",
    "train.run(trainingInFile='data/classic-training.txt', featureSet='release', modelName='classic')"
   ]
  },
  {
   "cell_type": "markdown",
   "metadata": {
    "deletable": true,
    "editable": true
   },
   "source": [
    "### Query Time\n",
    "If we search for `batman`, how do the results compare?  Since the `classic` model prefered old movies it has old movies in the top position, and the opposite is true for the `latest` model.  To continue learning LTR, brainstorm more features and generate some real judgments for real queries."
   ]
  },
  {
   "cell_type": "code",
   "execution_count": 5,
   "metadata": {
    "collapsed": false,
    "deletable": true,
    "editable": true
   },
   "outputs": [
    {
     "data": {
      "text/html": [
       "<script>requirejs.config({paths: { 'plotly': ['https://cdn.plot.ly/plotly-latest.min']},});if(!window.Plotly) {{require(['plotly'],function(plotly) {window.Plotly=plotly;});}}</script>"
      ],
      "text/vnd.plotly.v1+html": [
       "<script>requirejs.config({paths: { 'plotly': ['https://cdn.plot.ly/plotly-latest.min']},});if(!window.Plotly) {{require(['plotly'],function(plotly) {window.Plotly=plotly;});}}</script>"
      ]
     },
     "metadata": {},
     "output_type": "display_data"
    },
    {
     "data": {
      "application/vnd.plotly.v1+json": {
       "data": [
        {
         "mode": "lines",
         "name": "classic",
         "type": "scatter",
         "x": [
          0,
          1,
          2,
          3,
          4,
          5,
          6,
          7,
          8,
          9,
          10,
          11,
          12,
          13,
          14,
          15,
          16,
          17,
          18,
          19,
          20,
          21,
          22,
          23,
          24,
          25,
          26,
          27,
          28,
          29
         ],
         "y": [
          "1949",
          "1943",
          "1966",
          "1993",
          "1989",
          "1992",
          "1995",
          "2005",
          "2010",
          "2000",
          "2012",
          "2013",
          "2011",
          "2010",
          "2009",
          "2008",
          "1997",
          "1998",
          "1998",
          "2005",
          "2003",
          "2008",
          "2013",
          "2014",
          "2017",
          "2016",
          "2015",
          "2014",
          "2016",
          "2016"
         ]
        },
        {
         "mode": "lines",
         "name": "latest",
         "type": "scatter",
         "x": [
          0,
          1,
          2,
          3,
          4,
          5,
          6,
          7,
          8,
          9,
          10,
          11,
          12,
          13,
          14,
          15,
          16,
          17,
          18,
          19,
          20,
          21,
          22,
          23,
          24,
          25,
          26,
          27,
          28,
          29
         ],
         "y": [
          "2015",
          "2016",
          "2016",
          "2016",
          "2014",
          "2014",
          "2017",
          "2012",
          "2013",
          "2011",
          "2013",
          "1993",
          "1992",
          "1995",
          "1997",
          "1998",
          "1998",
          "2005",
          "2010",
          "2000",
          "2010",
          "1989",
          "2009",
          "2008",
          "2005",
          "2003",
          "2008",
          "1966",
          "1949",
          "1943"
         ]
        }
       ],
       "layout": {}
      },
      "text/html": [
       "<div id=\"c5b33ad5-767a-4fe8-ae77-601c1401eccb\" style=\"height: 525px; width: 100%;\" class=\"plotly-graph-div\"></div><script type=\"text/javascript\">require([\"plotly\"], function(Plotly) { window.PLOTLYENV=window.PLOTLYENV || {};window.PLOTLYENV.BASE_URL=\"https://plot.ly\";Plotly.newPlot(\"c5b33ad5-767a-4fe8-ae77-601c1401eccb\", [{\"type\": \"scatter\", \"x\": [0, 1, 2, 3, 4, 5, 6, 7, 8, 9, 10, 11, 12, 13, 14, 15, 16, 17, 18, 19, 20, 21, 22, 23, 24, 25, 26, 27, 28, 29], \"y\": [\"1949\", \"1943\", \"1966\", \"1993\", \"1989\", \"1992\", \"1995\", \"2005\", \"2010\", \"2000\", \"2012\", \"2013\", \"2011\", \"2010\", \"2009\", \"2008\", \"1997\", \"1998\", \"1998\", \"2005\", \"2003\", \"2008\", \"2013\", \"2014\", \"2017\", \"2016\", \"2015\", \"2014\", \"2016\", \"2016\"], \"mode\": \"lines\", \"name\": \"classic\"}, {\"type\": \"scatter\", \"x\": [0, 1, 2, 3, 4, 5, 6, 7, 8, 9, 10, 11, 12, 13, 14, 15, 16, 17, 18, 19, 20, 21, 22, 23, 24, 25, 26, 27, 28, 29], \"y\": [\"2015\", \"2016\", \"2016\", \"2016\", \"2014\", \"2014\", \"2017\", \"2012\", \"2013\", \"2011\", \"2013\", \"1993\", \"1992\", \"1995\", \"1997\", \"1998\", \"1998\", \"2005\", \"2010\", \"2000\", \"2010\", \"1989\", \"2009\", \"2008\", \"2005\", \"2003\", \"2008\", \"1966\", \"1949\", \"1943\"], \"mode\": \"lines\", \"name\": \"latest\"}], {}, {\"showLink\": true, \"linkText\": \"Export to plot.ly\"})});</script>"
      ],
      "text/vnd.plotly.v1+html": [
       "<div id=\"c5b33ad5-767a-4fe8-ae77-601c1401eccb\" style=\"height: 525px; width: 100%;\" class=\"plotly-graph-div\"></div><script type=\"text/javascript\">require([\"plotly\"], function(Plotly) { window.PLOTLYENV=window.PLOTLYENV || {};window.PLOTLYENV.BASE_URL=\"https://plot.ly\";Plotly.newPlot(\"c5b33ad5-767a-4fe8-ae77-601c1401eccb\", [{\"type\": \"scatter\", \"x\": [0, 1, 2, 3, 4, 5, 6, 7, 8, 9, 10, 11, 12, 13, 14, 15, 16, 17, 18, 19, 20, 21, 22, 23, 24, 25, 26, 27, 28, 29], \"y\": [\"1949\", \"1943\", \"1966\", \"1993\", \"1989\", \"1992\", \"1995\", \"2005\", \"2010\", \"2000\", \"2012\", \"2013\", \"2011\", \"2010\", \"2009\", \"2008\", \"1997\", \"1998\", \"1998\", \"2005\", \"2003\", \"2008\", \"2013\", \"2014\", \"2017\", \"2016\", \"2015\", \"2014\", \"2016\", \"2016\"], \"mode\": \"lines\", \"name\": \"classic\"}, {\"type\": \"scatter\", \"x\": [0, 1, 2, 3, 4, 5, 6, 7, 8, 9, 10, 11, 12, 13, 14, 15, 16, 17, 18, 19, 20, 21, 22, 23, 24, 25, 26, 27, 28, 29], \"y\": [\"2015\", \"2016\", \"2016\", \"2016\", \"2014\", \"2014\", \"2017\", \"2012\", \"2013\", \"2011\", \"2013\", \"1993\", \"1992\", \"1995\", \"1997\", \"1998\", \"1998\", \"2005\", \"2010\", \"2000\", \"2010\", \"1989\", \"2009\", \"2008\", \"2005\", \"2003\", \"2008\", \"1966\", \"1949\", \"1943\"], \"mode\": \"lines\", \"name\": \"latest\"}], {}, {\"showLink\": true, \"linkText\": \"Export to plot.ly\"})});</script>"
      ]
     },
     "metadata": {},
     "output_type": "display_data"
    }
   ],
   "source": [
    "from ltr import plot\n",
    "plot.run()"
   ]
  },
  {
   "cell_type": "code",
   "execution_count": null,
   "metadata": {
    "collapsed": true,
    "deletable": true,
    "editable": true
   },
   "outputs": [],
   "source": []
  }
 ],
 "metadata": {
  "kernelspec": {
   "display_name": "Python 3",
   "language": "python",
   "name": "python3"
  },
  "language_info": {
   "codemirror_mode": {
    "name": "ipython",
    "version": 3
   },
   "file_extension": ".py",
   "mimetype": "text/x-python",
   "name": "python",
   "nbconvert_exporter": "python",
   "pygments_lexer": "ipython3",
   "version": "3.6.1"
  }
 },
 "nbformat": 4,
 "nbformat_minor": 2
}
