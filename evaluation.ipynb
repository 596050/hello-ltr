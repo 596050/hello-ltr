{
 "cells": [
  {
   "cell_type": "markdown",
   "metadata": {},
   "source": [
    "# evaluate (Elastic Edition)\n",
    "\n",
    "**Note:** This lab requires hello-ltr be run first.  You must have the TMDB data indexed and LTR models configured before proceeding."
   ]
  },
  {
   "cell_type": "markdown",
   "metadata": {},
   "source": [
    "### RRE\n",
    "This lab makes use of the rated-ranking-evaluator [project](https://github.com/SeaseLtd/rated-ranking-evaluator) to carry out evaluations on our models from the hello-ltr lab.\n",
    "\n",
    "An RRE configuration requires the following:\n",
    "\n",
    "- configuration_sets\n",
    "  - This tells RRE about the Solr/Elastic instance to use for each evaluation\n",
    "- corpora (Not required for this setup)\n",
    "  - RRE supports indexing a snapshot of data for evaluations.  For this lab we'll be using the data indexed previously.\n",
    "- ratings\n",
    "  - This folder houses json files with queries and ratings to be evaluated\n",
    "- templates\n",
    "  - The queries to be run by each configuration set\n",
    "- pom.xml\n",
    "  - Maven project configuration, here you can configure what metrics are calculated by the evalauation and format of the report.\n",
    "  \n",
    "Take a look at the rre folder in the hello-ltr to get a better idea of the project layout and structure."
   ]
  },
  {
   "cell_type": "markdown",
   "metadata": {},
   "source": [
    "### Ratings and Evaluation\n",
    "To get started with RRE we first need some ratings.  For this example we're going to use a query for \"batman\" and we're going to say that newer films are better than older ones.  We will setup 3 different configuration sets in RRE:\n",
    "\n",
    "- baseline (No LTR applied)\n",
    "- classic (Rescore with the `classic` LTR model)\n",
    "- latest (Rescore with the `latest` LTR model)\n",
    "\n",
    "The snippet below will kick off an evaluation in RRE"
   ]
  },
  {
   "cell_type": "code",
   "execution_count": 1,
   "metadata": {},
   "outputs": [
    {
     "name": "stdout",
     "output_type": "stream",
     "text": [
      "Building RRE image - This will take a while\n",
      "Running evaluation\n",
      "[INFO] Scanning for projects...\n",
      "[INFO] \n",
      "[INFO] ---------------------< com.o19s:hello-ltr-example >---------------------\n",
      "[INFO] Building hello-ltr-example 1.0\n",
      "[INFO] --------------------------------[ pom ]---------------------------------\n",
      "[INFO] \n",
      "[INFO] --- maven-clean-plugin:2.5:clean (default-clean) @ hello-ltr-example ---\n",
      "[INFO] \n",
      "[INFO] --- rre-maven-external-elasticsearch-plugin:6.3.2:evaluate (search-quality-evaluation) @ hello-ltr-example ---\n",
      "[INFO ] Registering handler json -> io.sease.rre.persistence.impl.JsonPersistenceHandler\n",
      "[INFO ] RRE: New evaluation session is starting...\n",
      "[INFO ] RRE: Search Platform in use: External Elasticsearch\n",
      "[INFO ] RRE: Starting External Elasticsearch...\n",
      "[INFO ] RRE: External Elasticsearch Search Platform successfully started.\n",
      "[INFO ] RRE: found 1 ratings sets.\n",
      "[INFO ] RRE: Ratings Set processing starts\n",
      "[INFO ] \n",
      "[INFO ] *********************************\n",
      "[INFO ] RRE: Index name => tmdb\n",
      "[INFO ] RRE: ID Field name => id\n",
      "[INFO ] Preparing platform for tmdb\n",
      "[INFO ] RRE: Loading the Test Collection into External Elasticsearch, configuration version baseline\n",
      "[INFO ] RRE: Loading the Test Collection into External Elasticsearch, configuration version classic\n",
      "[INFO ] RRE: Loading the Test Collection into External Elasticsearch, configuration version latest\n",
      "[INFO ] RRE: External Elasticsearch has been correctly loaded.\n",
      "[INFO ] RRE: target versions are baseline,classic,latest\n",
      "[INFO ] TOPIC: LTR Example Evaluation\n",
      "[INFO ] \tQUERY GROUP: LTR Example Evaluation\n",
      "[INFO ] \t\tQUERY: batman\n",
      "[INFO ]   ... completed 0 / 1 evaluations ...\n",
      "[INFO ] RRE: External Elasticsearch Evaluation complete - preparing for shutdown\n",
      "[INFO ] RRE: External Elasticsearch Search Platform shutdown procedure executed.\n",
      "[INFO ] RRE: Stopping persistence manager\n",
      "[INFO] \n",
      "[INFO] --- rre-maven-report-plugin:1.0:report (search-quality-evaluation-reporting) @ hello-ltr-example ---\n",
      "Downloading from sease: https://raw.github.com/SeaseLtd/rated-ranking-evaluator/mvn-repo/org/apache/maven/maven-model/3.5.2/maven-model-3.5.2.jar\n",
      "Downloading from central: https://repo.maven.apache.org/maven2/org/apache/maven/maven-model/3.5.2/maven-model-3.5.2.jar\n",
      "Progress (1): 2.2/165 kB\n",
      "Progress (1): 5.0/165 kB\n",
      "Progress (1): 7.7/165 kB\n",
      "Progress (1): 10/165 kB \n",
      "Progress (1): 13/165 kB\n",
      "Progress (1): 16/165 kB\n",
      "Progress (1): 19/165 kB\n",
      "Progress (1): 21/165 kB\n",
      "Progress (1): 24/165 kB\n",
      "Progress (1): 27/165 kB\n",
      "Progress (1): 30/165 kB\n",
      "Progress (1): 32/165 kB\n",
      "Progress (1): 36/165 kB\n",
      "Progress (1): 40/165 kB\n",
      "Progress (1): 45/165 kB\n",
      "Progress (1): 49/165 kB\n",
      "Progress (1): 53/165 kB\n",
      "Progress (1): 57/165 kB\n",
      "Progress (1): 61/165 kB\n",
      "Progress (1): 65/165 kB\n",
      "Progress (1): 69/165 kB\n",
      "Progress (1): 73/165 kB\n",
      "Progress (1): 77/165 kB\n",
      "Progress (1): 81/165 kB\n",
      "Progress (1): 85/165 kB\n",
      "Progress (1): 90/165 kB\n",
      "Progress (1): 94/165 kB\n",
      "Progress (1): 98/165 kB\n",
      "Progress (1): 102/165 kB\n",
      "Progress (1): 106/165 kB\n",
      "Progress (1): 110/165 kB\n",
      "Progress (1): 114/165 kB\n",
      "Progress (1): 118/165 kB\n",
      "Progress (1): 122/165 kB\n",
      "Progress (1): 126/165 kB\n",
      "Progress (1): 131/165 kB\n",
      "Progress (1): 135/165 kB\n",
      "Progress (1): 139/165 kB\n",
      "Progress (1): 143/165 kB\n",
      "Progress (1): 147/165 kB\n",
      "Progress (1): 151/165 kB\n",
      "Progress (1): 155/165 kB\n",
      "Progress (1): 159/165 kB\n",
      "Progress (1): 163/165 kB\n",
      "Progress (1): 165 kB    \n",
      "                    \n",
      "Downloaded from central: https://repo.maven.apache.org/maven2/org/apache/maven/maven-model/3.5.2/maven-model-3.5.2.jar (165 kB at 778 kB/s)\n",
      "[INFO] \n",
      "[INFO] --- maven-install-plugin:2.4:install (default-install) @ hello-ltr-example ---\n",
      "[INFO] Installing /rre/pom.xml to /root/.m2/repository/com/o19s/hello-ltr-example/1.0/hello-ltr-example-1.0.pom\n",
      "[INFO] ------------------------------------------------------------------------\n",
      "[INFO] BUILD SUCCESS\n",
      "[INFO] ------------------------------------------------------------------------\n",
      "[INFO] Total time:  7.441 s\n",
      "[INFO] Finished at: 2019-04-21T18:04:37Z\n",
      "[INFO] ------------------------------------------------------------------------\n",
      "\n",
      "\n",
      "\n",
      "RRE Evaluation complete\n"
     ]
    }
   ],
   "source": [
    "from ltr import evaluate\n",
    "evaluate('elastic')"
   ]
  },
  {
   "cell_type": "markdown",
   "metadata": {},
   "source": [
    "### Looking at the Results\n",
    "In this example we have rating data for every result in the Batman query and we're not adjusting matching so `Precision` and `Recall` are the expected value of 1.  However, since we've altered the sorting of results with LTR we can see a lift in `ERR` as our higher rated documents are coming up closer to the top of the results."
   ]
  },
  {
   "cell_type": "code",
   "execution_count": 2,
   "metadata": {},
   "outputs": [
    {
     "data": {
      "text/html": [
       "<script type=\"text/javascript\">window.PlotlyConfig = {MathJaxConfig: 'local'};</script><script type=\"text/javascript\">if (window.MathJax) {MathJax.Hub.Config({SVG: {font: \"STIX-Web\"}});}</script><script>requirejs.config({paths: { 'plotly': ['https://cdn.plot.ly/plotly-latest.min']},});if(!window._Plotly) {require(['plotly'],function(plotly) {window._Plotly=plotly;});}</script>"
      ],
      "text/vnd.plotly.v1+html": [
       "<script type=\"text/javascript\">window.PlotlyConfig = {MathJaxConfig: 'local'};</script><script type=\"text/javascript\">if (window.MathJax) {MathJax.Hub.Config({SVG: {font: \"STIX-Web\"}});}</script><script>requirejs.config({paths: { 'plotly': ['https://cdn.plot.ly/plotly-latest.min']},});if(!window._Plotly) {require(['plotly'],function(plotly) {window._Plotly=plotly;});}</script>"
      ]
     },
     "metadata": {},
     "output_type": "display_data"
    },
    {
     "data": {
      "application/vnd.plotly.v1+json": {
       "config": {
        "linkText": "Export to plot.ly",
        "plotlyServerURL": "https://plot.ly",
        "showLink": false
       },
       "data": [
        {
         "cells": {
          "values": [
           [
            "baseline",
            "classic",
            "latest"
           ],
           [
            "1.0000",
            "1.0000",
            "1.0000"
           ],
           [
            "1.0000",
            "1.0000",
            "1.0000"
           ],
           [
            "0.3852",
            "0.2725",
            "0.9681"
           ]
          ]
         },
         "header": {
          "fill": {
           "color": "#AAAAAA"
          },
          "values": [
           "",
           "Precision",
           "Recall",
           "ERR"
          ]
         },
         "type": "table",
         "uid": "7a4d1971-7660-4292-8a2c-8a5f873225bc"
        }
       ],
       "layout": {}
      },
      "text/html": [
       "<div id=\"2d9f9ee2-0c28-4f6c-8bb0-c95352346522\" style=\"height: 525px; width: 100%;\" class=\"plotly-graph-div\"></div><script type=\"text/javascript\">require([\"plotly\"], function(Plotly) { window.PLOTLYENV=window.PLOTLYENV || {};window.PLOTLYENV.BASE_URL=\"https://plot.ly\";\n",
       "if (document.getElementById(\"2d9f9ee2-0c28-4f6c-8bb0-c95352346522\")) {\n",
       "    Plotly.newPlot(\"2d9f9ee2-0c28-4f6c-8bb0-c95352346522\", [{\"cells\": {\"values\": [[\"baseline\", \"classic\", \"latest\"], [\"1.0000\", \"1.0000\", \"1.0000\"], [\"1.0000\", \"1.0000\", \"1.0000\"], [\"0.3852\", \"0.2725\", \"0.9681\"]]}, \"header\": {\"fill\": {\"color\": \"#AAAAAA\"}, \"values\": [\"\", \"Precision\", \"Recall\", \"ERR\"]}, \"type\": \"table\", \"uid\": \"ce459166-39b4-44d7-88b0-f2ceb8e4257d\"}], {}, {\"showLink\": false, \"linkText\": \"Export to plot.ly\", \"plotlyServerURL\": \"https://plot.ly\"}); \n",
       "}\n",
       "});</script><script type=\"text/javascript\">window.addEventListener(\"resize\", function(){if (document.getElementById(\"2d9f9ee2-0c28-4f6c-8bb0-c95352346522\")) {window._Plotly.Plots.resize(document.getElementById(\"2d9f9ee2-0c28-4f6c-8bb0-c95352346522\"));};})</script>"
      ],
      "text/vnd.plotly.v1+html": [
       "<div id=\"2d9f9ee2-0c28-4f6c-8bb0-c95352346522\" style=\"height: 525px; width: 100%;\" class=\"plotly-graph-div\"></div><script type=\"text/javascript\">require([\"plotly\"], function(Plotly) { window.PLOTLYENV=window.PLOTLYENV || {};window.PLOTLYENV.BASE_URL=\"https://plot.ly\";\n",
       "if (document.getElementById(\"2d9f9ee2-0c28-4f6c-8bb0-c95352346522\")) {\n",
       "    Plotly.newPlot(\"2d9f9ee2-0c28-4f6c-8bb0-c95352346522\", [{\"cells\": {\"values\": [[\"baseline\", \"classic\", \"latest\"], [\"1.0000\", \"1.0000\", \"1.0000\"], [\"1.0000\", \"1.0000\", \"1.0000\"], [\"0.3852\", \"0.2725\", \"0.9681\"]]}, \"header\": {\"fill\": {\"color\": \"#AAAAAA\"}, \"values\": [\"\", \"Precision\", \"Recall\", \"ERR\"]}, \"type\": \"table\", \"uid\": \"ce459166-39b4-44d7-88b0-f2ceb8e4257d\"}], {}, {\"showLink\": false, \"linkText\": \"Export to plot.ly\", \"plotlyServerURL\": \"https://plot.ly\"}); \n",
       "}\n",
       "});</script><script type=\"text/javascript\">window.addEventListener(\"resize\", function(){if (document.getElementById(\"2d9f9ee2-0c28-4f6c-8bb0-c95352346522\")) {window._Plotly.Plots.resize(document.getElementById(\"2d9f9ee2-0c28-4f6c-8bb0-c95352346522\"));};})</script>"
      ]
     },
     "metadata": {},
     "output_type": "display_data"
    }
   ],
   "source": [
    "from ltr import rre_table\n",
    "rre_table()"
   ]
  }
 ],
 "metadata": {
  "kernelspec": {
   "display_name": "Python 3",
   "language": "python",
   "name": "python3"
  },
  "language_info": {
   "codemirror_mode": {
    "name": "ipython",
    "version": 3
   },
   "file_extension": ".py",
   "mimetype": "text/x-python",
   "name": "python",
   "nbconvert_exporter": "python",
   "pygments_lexer": "ipython3",
   "version": "3.6.5"
  }
 },
 "nbformat": 4,
 "nbformat_minor": 2
}
