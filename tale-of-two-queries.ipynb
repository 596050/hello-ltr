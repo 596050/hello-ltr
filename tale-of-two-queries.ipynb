{
 "cells": [
  {
   "cell_type": "markdown",
   "metadata": {
    "deletable": true,
    "editable": true
   },
   "source": [
    "# Basics & Prereqs (run once)\n",
    "\n",
    "If you don't already have the downloaded dependencies; if you don't have TheMovieDB data indexed run this"
   ]
  },
  {
   "cell_type": "code",
   "execution_count": 1,
   "metadata": {
    "collapsed": false,
    "deletable": true,
    "editable": true
   },
   "outputs": [
    {
     "name": "stdout",
     "output_type": "stream",
     "text": [
      "GET https://dl.bintray.com/o19s/RankyMcRankFace/com/o19s/RankyMcRankFace/0.1.1/RankyMcRankFace-0.1.1.jar\n",
      "GET http://es-learn-to-rank.labs.o19s.com/tmdb.json\n",
      "Done.\n"
     ]
    }
   ],
   "source": [
    "from ltr import download, index\n",
    "download.run(); index.run()"
   ]
  },
  {
   "cell_type": "markdown",
   "metadata": {
    "deletable": true,
    "editable": true
   },
   "source": [
    "# Our Task: Optimizing \"Drama\" and \"Science Fiction\" queries\n",
    "\n",
    "In this example we have two user queries\n",
    "\n",
    "- Drama\n",
    "- Science Fiction\n",
    "\n",
    "And we want to train a model to return the best movies for these movies when a user types them into our search bar.\n",
    "\n",
    "We learn through analysis that searchers prefer newer science fiction, but older drama. Like a lot of search relevance problems, two queries need to be optimized in *different* directions"
   ]
  },
  {
   "cell_type": "markdown",
   "metadata": {
    "deletable": true,
    "editable": true
   },
   "source": [
    "### Synthetic Judgment List Generation\n",
    "\n",
    "To setup this example, we'll generate a judgment list that rewards new science fiction movies as more relevant; and old drama movies as relevant."
   ]
  },
  {
   "cell_type": "code",
   "execution_count": 1,
   "metadata": {
    "collapsed": false,
    "deletable": true,
    "editable": true
   },
   "outputs": [
    {
     "name": "stdout",
     "output_type": "stream",
     "text": [
      "Generating judgments for scifi & drama movies\n",
      "Done\n"
     ]
    }
   ],
   "source": [
    "from ltr import date_genre_judgments\n",
    "judgments = date_genre_judgments.buildJudgments(judgmentsFile='data/genre_by_date_judgments.txt')"
   ]
  },
  {
   "cell_type": "code",
   "execution_count": 2,
   "metadata": {
    "collapsed": false,
    "deletable": true,
    "editable": true
   },
   "outputs": [],
   "source": [
    "# Uncomment this line to see the judgments\n",
    "# \n",
    "# for judgment in judgments:\n",
    "#    print(judgment.toRanklibFormat())"
   ]
  },
  {
   "cell_type": "markdown",
   "metadata": {
    "deletable": true,
    "editable": true
   },
   "source": [
    "### Feature selection should be *easy!*\n",
    "\n",
    "Notice we have 4 proposed features, that seem like they should work! This should be a piece of cake...\n",
    "\n",
    "1. Release Year of a movie `release_year` - feature ID 1\n",
    "2. Is the movie Science Fiction `is_scifi` - feature ID 2\n",
    "3. Is the movie Drama `is_drama` - feature ID 3\n",
    "4. Does the search term match the genre field `is_genre_match` - feature ID 4\n"
   ]
  },
  {
   "cell_type": "code",
   "execution_count": 3,
   "metadata": {
    "collapsed": false,
    "deletable": true,
    "editable": true
   },
   "outputs": [
    {
     "name": "stdout",
     "output_type": "stream",
     "text": [
      "Removed LTR feature store: 200\n",
      "Initialize LTR: 200\n",
      "Created genre feature set: 201\n"
     ]
    }
   ],
   "source": [
    "config = {\"featureset\": {\n",
    "            \"features\": [\n",
    "            {\n",
    "                \"name\": \"release_year\",\n",
    "                \"params\": [],\n",
    "                \"template\": {\n",
    "                    \"function_score\": {\n",
    "                        \"field_value_factor\": {\n",
    "                        \"field\": \"release_year\",\n",
    "                        \"missing\": 2000\n",
    "                    },\n",
    "                    \"query\": { \"match_all\": {} }\n",
    "                }\n",
    "            }\n",
    "            },\n",
    "             {\n",
    "                \"name\": \"is_sci_fi\",\n",
    "                \"params\": [],\n",
    "                \"template\": {\n",
    "                    \"constant_score\": {\n",
    "                        \"filter\": {\n",
    "                            \"match_phrase\": {\"genres\": \"Science Fiction\"}\n",
    "                        },\n",
    "                        \"boost\": 10.0\n",
    "                    }\n",
    "            }\n",
    "            },\n",
    "             {\n",
    "                \"name\": \"is_drama\",\n",
    "                \"params\": [],\n",
    "                \"template\": {\n",
    "                    \"constant_score\": {\n",
    "                        \"filter\": {\n",
    "                            \"match_phrase\": {\"genres\": \"Drama\"}\n",
    "                        },\n",
    "                        \"boost\": 4.0\n",
    "                    }\n",
    "                }\n",
    "            },\n",
    "             {\n",
    "                \"name\": \"is_genre_match\",\n",
    "                \"params\": [\"keywords\"],\n",
    "                \"template\": {\n",
    "                    \"constant_score\": {\n",
    "                        \"filter\": {\n",
    "                            \"match_phrase\": {\"genres\": \"{{keywords}}\"}\n",
    "                        },\n",
    "                        \"boost\": 100.0\n",
    "                    }\n",
    "                }\n",
    "            }\n",
    "    ]\n",
    "    }}\n",
    "\n",
    "from ltr import setup_ltr\n",
    "setup_ltr.run(config=config, featureSet='genre')"
   ]
  },
  {
   "cell_type": "markdown",
   "metadata": {
    "deletable": true,
    "editable": true
   },
   "source": [
    "### Log from search engine -> to training set\n",
    "\n",
    "Each feature is a query to be scored against the judgment list"
   ]
  },
  {
   "cell_type": "code",
   "execution_count": 6,
   "metadata": {
    "collapsed": false,
    "deletable": true,
    "editable": true
   },
   "outputs": [
    {
     "name": "stdout",
     "output_type": "stream",
     "text": [
      "Recognizing 2 queries...\n",
      "REBUILDING TRAINING DATA for Science Fiction (0/2)\n",
      "REBUILDING TRAINING DATA for Drama (1/2)\n"
     ]
    }
   ],
   "source": [
    "from ltr import collectFeatures\n",
    "trainingSet = collectFeatures.trainingSetFromJudgments(judgmentInFile='data/genre_by_date_judgments.txt', \n",
    "                                                       trainingOutFile='data/genre_by_date_judgments_train.txt', \n",
    "                                                       featureSet='genre')"
   ]
  },
  {
   "cell_type": "markdown",
   "metadata": {
    "deletable": true,
    "editable": true
   },
   "source": [
    "### Training - Guaraneed Perfect Search Results!\n",
    "\n",
    "We'll train a LambdaMART model against this training data."
   ]
  },
  {
   "cell_type": "code",
   "execution_count": 14,
   "metadata": {
    "collapsed": false,
    "deletable": true,
    "editable": true
   },
   "outputs": [
    {
     "name": "stdout",
     "output_type": "stream",
     "text": [
      "Delete model genre: 404\n",
      "Created model genre: 201\n",
      "\n",
      "Impact of each feature on the model\n",
      "1 - 95669916.43199906\n",
      "2 - 3167416.4620914753\n",
      "3 - 9.343045139389716\n",
      "4 - 0.0\n",
      "Perfect NDCG! 1.0\n"
     ]
    }
   ],
   "source": [
    "from ltr import train\n",
    "trainLog = train.run(trainingInFile='data/genre_by_date_judgments_train.txt',\n",
    "                     metric2t='NDCG@10',\n",
    "                     featureSet='genre',\n",
    "                     modelName='genre')\n",
    "\n",
    "print()\n",
    "print(\"Impact of each feature on the model\")\n",
    "for ftrId, impact in trainLog.impacts.items():\n",
    "    print(\"{} - {}\".format(ftrId, impact))\n",
    "    \n",
    "print(\"Perfect NDCG! {}\".format(trainLog.rounds[-1]))"
   ]
  },
  {
   "cell_type": "markdown",
   "metadata": {
    "deletable": true,
    "editable": true
   },
   "source": [
    "### But this search sucks!\n",
    "Try searches for \"Science Fiction\" and \"Drama\""
   ]
  },
  {
   "cell_type": "code",
   "execution_count": 16,
   "metadata": {
    "collapsed": false,
    "deletable": true,
    "editable": true
   },
   "outputs": [
    {
     "name": "stdout",
     "output_type": "stream",
     "text": [
      "{\"size\": 5, \"query\": {\"sltr\": {\"params\": {\"keywords\": \"Science Fiction\"}, \"model\": \"genre\"}}}\n",
      "Rogue One: A Star Wars Story \n",
      "10.175102 \n",
      "2016 \n",
      "['Adventure', 'Science Fiction', 'Action'] \n",
      "A rogue band of resistance fighters unite for a mission to steal the Death Star plans and bring a new hope to the galaxy. \n",
      "---------------------------------------\n",
      "Guardians of the Galaxy Vol. 2 \n",
      "10.175102 \n",
      "2017 \n",
      "['Action', 'Adventure', 'Comedy', 'Science Fiction'] \n",
      "The Guardians must fight to keep their newfound family together as they unravel the mysteries of Peter Quill's true parentage. \n",
      "---------------------------------------\n",
      "Wonder Woman \n",
      "10.175102 \n",
      "2017 \n",
      "['Action', 'Adventure', 'Fantasy', 'Science Fiction'] \n",
      "An Amazon princess comes to the world of Man to become the greatest of the female superheroes. \n",
      "---------------------------------------\n",
      "Captain America: Civil War \n",
      "10.175102 \n",
      "2016 \n",
      "['Adventure', 'Action', 'Science Fiction'] \n",
      "Following the events of Age of Ultron, the collective governments of the world pass an act designed to regulate all superhuman activity. This polarizes opinion amongst the Avengers, causing two factions to side with Iron Man or Captain America, which causes an epic battle between former allies. \n",
      "---------------------------------------\n",
      "Doctor Strange \n",
      "10.175102 \n",
      "2016 \n",
      "['Action', 'Adventure', 'Fantasy', 'Science Fiction'] \n",
      "After his career is destroyed, a brilliant but arrogant surgeon gets a new lease on life when a sorcerer takes him under his wing and trains him to defend the world against evil. \n",
      "---------------------------------------\n"
     ]
    }
   ],
   "source": [
    "from ltr import search\n",
    "search.run(keywords=\"Science Fiction\", modelName=\"genre\")"
   ]
  },
  {
   "cell_type": "markdown",
   "metadata": {
    "collapsed": true,
    "deletable": true,
    "editable": true
   },
   "source": [
    "### Why didn't it work!?!? Training data\n",
    "\n",
    "1. Examine the training data, do we cover every example of a BAD result\n",
    "2. Examine the feature impacts, do any of the features the model uses even USE the keywords?\n",
    "\n",
    "### Ranklib only sees the data you give it, we don't have good enough coverage\n",
    "\n",
    "You need to have feature coverage, especially over negative examples. Most documents in the index are negative! \n",
    "\n",
    "One trick commonly used is to treat other queries positive results as this queries negative results. Indeed what we're missing here are negative examples for \"Science Fiction\" that are not science fiction movies. A glaring omission, we'll handle now... With the `autoNegate` flag, we'll add additional negative examples to the judgment list"
   ]
  },
  {
   "cell_type": "code",
   "execution_count": 21,
   "metadata": {
    "collapsed": false
   },
   "outputs": [
    {
     "name": "stdout",
     "output_type": "stream",
     "text": [
      "Generating judgments for scifi & drama movies\n",
      "Done\n",
      "Recognizing 2 queries...\n",
      "REBUILDING TRAINING DATA for Science Fiction (0/2)\n",
      "REBUILDING TRAINING DATA for Drama (1/2)\n",
      "Delete model genre: 200\n",
      "Created model genre: 201\n",
      "\n",
      "Impact of each feature on the model\n",
      "1 - 56711025.15383451\n",
      "4 - 34243334.40204898\n",
      "2 - 59104.665908504234\n",
      "3 - 26274.36408814093\n",
      "Perfect NDCG! 1.0\n"
     ]
    }
   ],
   "source": [
    "from ltr import date_genre_judgments, collectFeatures\n",
    "date_genre_judgments.buildJudgments(judgmentsFile='data/genre_by_date_judgments.txt',\n",
    "                                    autoNegate=True)\n",
    "\n",
    "collectFeatures.trainingSetFromJudgments(judgmentInFile='data/genre_by_date_judgments.txt', \n",
    "                                         trainingOutFile='data/genre_by_date_judgments_train.txt', \n",
    "                                         featureSet='genre')\n",
    "\n",
    "from ltr import train\n",
    "trainLog = train.run(trainingInFile='data/genre_by_date_judgments_train.txt',\n",
    "                     metric2t='NDCG@10',\n",
    "                     featureSet='genre',\n",
    "                     modelName='genre')\n",
    "\n",
    "print()\n",
    "print(\"Impact of each feature on the model\")\n",
    "for ftrId, impact in trainLog.impacts.items():\n",
    "    print(\"{} - {}\".format(ftrId, impact))\n",
    "    \n",
    "print(\"Perfect NDCG! {}\".format(trainLog.rounds[-1]))"
   ]
  },
  {
   "cell_type": "markdown",
   "metadata": {},
   "source": [
    "### Now try those queries...\n",
    "\n",
    "Replace keywords below with 'science fiction' or 'drama' and see how it works"
   ]
  },
  {
   "cell_type": "code",
   "execution_count": 26,
   "metadata": {
    "collapsed": false
   },
   "outputs": [
    {
     "name": "stdout",
     "output_type": "stream",
     "text": [
      "{\"size\": 5, \"query\": {\"sltr\": {\"params\": {\"keywords\": \"space\"}, \"model\": \"genre\"}}}\n",
      "Battleship Potemkin \n",
      "-2.3706646 \n",
      "1925 \n",
      "['Drama', 'History'] \n",
      "A dramatized account of a great Russian naval mutiny and a resulting street demonstration which brought on a police massacre. The film had an incredible impact on the development of cinema and was a masterful example of montage editing. \n",
      "---------------------------------------\n",
      "The Gold Rush \n",
      "-2.3706646 \n",
      "1925 \n",
      "['Adventure', 'Comedy', 'Drama', 'Family'] \n",
      "A lone prospector ventures into Alaska looking for gold. He gets mixed up with some burly characters and falls in love with the beautiful Georgia. He tries to win her heart with his singular charm. \n",
      "---------------------------------------\n",
      "The General \n",
      "-2.3706646 \n",
      "1926 \n",
      "['Western', 'Adventure', 'Drama', 'Action', 'Comedy', 'War'] \n",
      "The General is a 1927 American silent film comedy from Buster Keaton. The film flopped when first released but is now regarded as the height of silent film comedy. The film is based on events from America’s civil war. \n",
      "---------------------------------------\n",
      "The Son of the Sheik \n",
      "-2.3706646 \n",
      "1926 \n",
      "['Adventure', 'Drama', 'Action', 'Romance'] \n",
      "Ahmed, son of Diana and Sheik Ahmed Ben Hassan, falls in love with Yasmin, a dancing girl who fronts her father's gang of mountebanks. She and Ahmed meet secretly until one night when her father and the gang capture the son of the sheik, torture him, and hold him for ransom. \n",
      "---------------------------------------\n",
      "The Scarlet Letter \n",
      "-2.3706646 \n",
      "1926 \n",
      "['Drama'] \n",
      "In Puritan Boston, seamstress Hester Prynne is punished for playing on the Sabbath day; but kindly minister Arthur Dimmesdale takes pity on her. The two fall in love, but their relationship cannot be: Hester is already married to Roger Prynne, a physician who has been missing seven years. Dimmesdale has to go away to England; when he returns, he finds Hester pregnant with their child, and the focus of the town's censure. In a humiliating public ceremony, she is forced to don the scarlet letter A - for adultery - and wear it the rest of her life. \n",
      "---------------------------------------\n"
     ]
    }
   ],
   "source": [
    "from ltr import search\n",
    "search.run(keywords=\"space\", modelName=\"genre\")"
   ]
  },
  {
   "cell_type": "markdown",
   "metadata": {},
   "source": [
    "### The next problem\n",
    "\n",
    "- Overfit to these two examples\n",
    "- We need many more queries, covering more use cases"
   ]
  },
  {
   "cell_type": "code",
   "execution_count": null,
   "metadata": {
    "collapsed": true
   },
   "outputs": [],
   "source": []
  }
 ],
 "metadata": {
  "kernelspec": {
   "display_name": "Python 3",
   "language": "python",
   "name": "python3"
  },
  "language_info": {
   "codemirror_mode": {
    "name": "ipython",
    "version": 3
   },
   "file_extension": ".py",
   "mimetype": "text/x-python",
   "name": "python",
   "nbconvert_exporter": "python",
   "pygments_lexer": "ipython3",
   "version": "3.6.1"
  }
 },
 "nbformat": 4,
 "nbformat_minor": 2
}
