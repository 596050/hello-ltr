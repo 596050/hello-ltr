{
 "cells": [
  {
   "cell_type": "code",
   "execution_count": 22,
   "metadata": {},
   "outputs": [],
   "source": [
    "import requests\n",
    "import json\n"
   ]
  },
  {
   "cell_type": "code",
   "execution_count": 44,
   "metadata": {},
   "outputs": [
    {
     "data": {
      "text/plain": [
       "<Response [200]>"
      ]
     },
     "execution_count": 44,
     "metadata": {},
     "output_type": "execute_result"
    }
   ],
   "source": [
    "requests.delete(\"http://localhost:9200/_ltr/\")"
   ]
  },
  {
   "cell_type": "code",
   "execution_count": 45,
   "metadata": {},
   "outputs": [
    {
     "data": {
      "text/plain": [
       "<Response [200]>"
      ]
     },
     "execution_count": 45,
     "metadata": {},
     "output_type": "execute_result"
    }
   ],
   "source": [
    "requests.put(\"http://localhost:9200/_ltr/\")"
   ]
  },
  {
   "cell_type": "code",
   "execution_count": 46,
   "metadata": {},
   "outputs": [
    {
     "data": {
      "text/plain": [
       "<Response [201]>"
      ]
     },
     "execution_count": 46,
     "metadata": {},
     "output_type": "execute_result"
    }
   ],
   "source": [
    "feature_set = {\n",
    "   \"featureset\": {\n",
    "      \"features\": [\n",
    "         {\n",
    "            \"name\": \"title_bm25\",\n",
    "            \"params\": [\n",
    "               \"keywords\"\n",
    "            ],\n",
    "            \"template\": {\n",
    "                     \"match\": {\n",
    "                        \"title\": \"{{keywords}}\"\n",
    "                     }\n",
    "               }\n",
    "         },\n",
    "         {\n",
    "            \"name\": \"overview_bm25\",\n",
    "            \"params\": [\n",
    "               \"keywords\"\n",
    "            ],\n",
    "            \"template\": {\n",
    "                     \"match\": {\n",
    "                        \"overview\": \"{{keywords}}\"\n",
    "                     }\n",
    "               }\n",
    "         }\n",
    "      ]\n",
    "   },\n",
    "     \"validation\": {\n",
    "      \"index\": \"tmdb\",\n",
    "      \"params\": {\n",
    "         \"keywords\": \"rambo\"\n",
    "      }\n",
    "   }\n",
    "}\n",
    "\n",
    "requests.put('http://localhost:9200/_ltr/_featureset/my_feature_set', \n",
    "             json=feature_set)"
   ]
  },
  {
   "cell_type": "code",
   "execution_count": 47,
   "metadata": {},
   "outputs": [
    {
     "name": "stdout",
     "output_type": "stream",
     "text": [
      "First Blood\n"
     ]
    }
   ],
   "source": [
    "search = {\n",
    "    \"query\": { \n",
    "    \"match\": {\n",
    "        \"title\": \"First Blood\"\n",
    "    }}\n",
    "}\n",
    "\n",
    "resp = requests.get('http://localhost:9200/tmdb/_search', json=search).json()\n",
    "print(resp['hits']['hits'][0]['_source']['title'])"
   ]
  },
  {
   "cell_type": "code",
   "execution_count": 48,
   "metadata": {},
   "outputs": [
    {
     "name": "stdout",
     "output_type": "stream",
     "text": [
      "{\n",
      "  \"_index\": \"tmdb\",\n",
      "  \"_type\": \"movie\",\n",
      "  \"_id\": \"1370\",\n",
      "  \"_score\": 0.0,\n",
      "  \"_source\": {\n",
      "    \"id\": \"1370\",\n",
      "    \"title\": \"Rambo III\",\n",
      "    \"overview\": \"Combat has taken its toll on Rambo, but he's finally begun to find inner peace in a monastery. When Rambo's friend and mentor Col. Trautman asks for his help on a top secret mission to Afghanistan, Rambo declines but must reconsider when Trautman is captured.\",\n",
      "    \"tagline\": \"The first was for himself. The second for his country. This time it's to save his friend.\",\n",
      "    \"directors\": [\n",
      "      \"Peter MacDonald\"\n",
      "    ],\n",
      "    \"cast\": \"Sylvester Stallone Richard Crenna Kurtwood Smith Spiros Foc\\u00e1s Sasson Gabai Doudi Shoua Randy Raney Marcus Gilbert Alon Aboutboul Mahmoud Assadollahi Joseph Shiloach Harold Diamond Matti Seri Shaby Ben-Aroya Marc de Jonge\",\n",
      "    \"genres\": [\n",
      "      \"Action\",\n",
      "      \"Adventure\",\n",
      "      \"Thriller\",\n",
      "      \"War\"\n",
      "    ],\n",
      "    \"release_date\": \"1988-05-24\",\n",
      "    \"release_year\": \"1988\",\n",
      "    \"vote_average\": 5.6,\n",
      "    \"vote_count\": 530,\n",
      "    \"collection_name\": \"Rambo Collection\"\n",
      "  },\n",
      "  \"fields\": {\n",
      "    \"_ltrlog\": [\n",
      "      {\n",
      "        \"ltr_features\": [\n",
      "          {\n",
      "            \"name\": \"title_bm25\",\n",
      "            \"value\": 9.45622\n",
      "          },\n",
      "          {\n",
      "            \"name\": \"overview_bm25\",\n",
      "            \"value\": 13.264926\n",
      "          }\n",
      "        ]\n",
      "      }\n",
      "    ]\n",
      "  },\n",
      "  \"matched_queries\": [\n",
      "    \"logged_features\"\n",
      "  ]\n",
      "}\n"
     ]
    }
   ],
   "source": [
    "search_with_log = {\n",
    "  \"query\": {\n",
    "    \"bool\": {\n",
    "      \"filter\": [\n",
    "        {\n",
    "          \"sltr\": {\n",
    "            \"_name\": \"logged_features\",\n",
    "            \"featureset\": \"my_feature_set\",\n",
    "            \"params\": {\n",
    "              \"keywords\": \"rambo\"\n",
    "            }\n",
    "          }\n",
    "        },\n",
    "         {\n",
    "          \"terms\": {\n",
    "            \"_id\": [\n",
    "              \"7555\",\"1370\", \"1369\", \"1368\"\n",
    "            ]\n",
    "          }\n",
    "        }\n",
    "      ]\n",
    "    }\n",
    "  },\n",
    "  \"ext\": {\n",
    "    \"ltr_log\": {\n",
    "      \"log_specs\": {\n",
    "        \"name\": \"ltr_features\",\n",
    "        \"named_query\": \"logged_features\"\n",
    "      }\n",
    "    }\n",
    "  }\n",
    "}\n",
    "\n",
    "resp = requests.get('http://localhost:9200/tmdb/_search', json=search_with_log).json()\n",
    "print(json.dumps(resp['hits']['hits'][0], indent=2))"
   ]
  },
  {
   "cell_type": "code",
   "execution_count": 49,
   "metadata": {},
   "outputs": [
    {
     "data": {
      "text/plain": [
       "{'_index': '.ltrstore',\n",
       " '_type': 'store',\n",
       " '_id': 'model-my_model',\n",
       " '_version': 1,\n",
       " 'result': 'created',\n",
       " 'forced_refresh': True,\n",
       " '_shards': {'total': 1, 'successful': 1, 'failed': 0},\n",
       " '_seq_no': 1,\n",
       " '_primary_term': 1}"
      ]
     },
     "execution_count": 49,
     "metadata": {},
     "output_type": "execute_result"
    }
   ],
   "source": [
    "model = \"\"\"## LambdaMART\n",
    "## No. of trees = 10\n",
    "## No. of leaves = 10\n",
    "## No. of threshold candidates = 256\n",
    "## Learning rate = 0.1\n",
    "## Stop early = 100\n",
    "\n",
    "<ensemble>\n",
    "\t<tree id=\"1\" weight=\"0.1\">\n",
    "\t\t<split>\n",
    "\t\t\t<feature> 2 </feature>\n",
    "\t\t\t<threshold> 10.664251 </threshold>\n",
    "\t\t\t<split pos=\"left\">\n",
    "\t\t\t\t<feature> 1 </feature>\n",
    "\t\t\t\t<threshold> 0.0 </threshold>\n",
    "\t\t\t\t<split pos=\"left\">\n",
    "\t\t\t\t\t<output> -1.8305741548538208 </output>\n",
    "\t\t\t\t</split>\n",
    "\t\t\t\t<split pos=\"right\">\n",
    "\t\t\t\t\t<feature> 2 </feature>\n",
    "\t\t\t\t\t<threshold> 9.502127 </threshold>\n",
    "\t\t\t\t\t<split pos=\"left\">\n",
    "\t\t\t\t\t\t<feature> 1 </feature>\n",
    "\t\t\t\t\t\t<threshold> 7.0849166 </threshold>\n",
    "\t\t\t\t\t\t<split pos=\"left\">\n",
    "\t\t\t\t\t\t\t<output> 0.23645669221878052 </output>\n",
    "\t\t\t\t\t\t</split>\n",
    "\t\t\t\t\t\t<split pos=\"right\">\n",
    "\t\t\t\t\t\t\t<output> 1.7593677043914795 </output>\n",
    "\t\t\t\t\t\t</split>\n",
    "\t\t\t\t\t</split>\n",
    "\t\t\t\t\t<split pos=\"right\">\n",
    "\t\t\t\t\t\t<output> 1.9719607830047607 </output>\n",
    "\t\t\t\t\t</split>\n",
    "\t\t\t\t</split>\n",
    "\t\t\t</split>\n",
    "\t\t\t<split pos=\"right\">\n",
    "\t\t\t\t<feature> 2 </feature>\n",
    "\t\t\t\t<threshold> 0.0 </threshold>\n",
    "\t\t\t\t<split pos=\"left\">\n",
    "\t\t\t\t\t<output> 1.3728954792022705 </output>\n",
    "\t\t\t\t</split>\n",
    "\t\t\t\t<split pos=\"right\">\n",
    "\t\t\t\t\t<feature> 2 </feature>\n",
    "\t\t\t\t\t<threshold> 8.602512 </threshold>\n",
    "\t\t\t\t\t<split pos=\"left\">\n",
    "\t\t\t\t\t\t<feature> 1 </feature>\n",
    "\t\t\t\t\t\t<threshold> 0.0 </threshold>\n",
    "\t\t\t\t\t\t<split pos=\"left\">\n",
    "\t\t\t\t\t\t\t<feature> 2 </feature>\n",
    "\t\t\t\t\t\t\t<threshold> 13.815164 </threshold>\n",
    "\t\t\t\t\t\t\t<split pos=\"left\">\n",
    "\t\t\t\t\t\t\t\t<output> 1.9401178359985352 </output>\n",
    "\t\t\t\t\t\t\t</split>\n",
    "\t\t\t\t\t\t\t<split pos=\"right\">\n",
    "\t\t\t\t\t\t\t\t<output> 1.99532949924469 </output>\n",
    "\t\t\t\t\t\t\t</split>\n",
    "\t\t\t\t\t\t</split>\n",
    "\t\t\t\t\t\t<split pos=\"right\">\n",
    "\t\t\t\t\t\t\t<feature> 1 </feature>\n",
    "\t\t\t\t\t\t\t<threshold> 11.085816 </threshold>\n",
    "\t\t\t\t\t\t\t<split pos=\"left\">\n",
    "\t\t\t\t\t\t\t\t<output> 2.0 </output>\n",
    "\t\t\t\t\t\t\t</split>\n",
    "\t\t\t\t\t\t\t<split pos=\"right\">\n",
    "\t\t\t\t\t\t\t\t<output> 1.99308180809021 </output>\n",
    "\t\t\t\t\t\t\t</split>\n",
    "\t\t\t\t\t\t</split>\n",
    "\t\t\t\t\t</split>\n",
    "\t\t\t\t\t<split pos=\"right\">\n",
    "\t\t\t\t\t\t<output> 1.9870178699493408 </output>\n",
    "\t\t\t\t\t</split>\n",
    "\t\t\t\t</split>\n",
    "\t\t\t</split>\n",
    "\t\t</split>\n",
    "\t</tree>\n",
    "</ensemble>\n",
    "\"\"\"\n",
    "\n",
    "\n",
    "create_model = {\n",
    "  \"model\": {\n",
    "     \"name\": \"my_model\",\n",
    "     \"model\": {\n",
    "         \"type\": \"model/ranklib\",\n",
    "         \"definition\": model\n",
    "    }\n",
    "  }\n",
    "}\n",
    "\n",
    "requests.post('http://localhost:9200/_ltr/_featureset/my_feature_set/_createmodel',\n",
    "              json=create_model).json()"
   ]
  },
  {
   "cell_type": "code",
   "execution_count": 52,
   "metadata": {},
   "outputs": [],
   "source": [
    "search = {\n",
    "  \"query\": {\n",
    "      \"sltr\": {\n",
    "          \"params\": {\n",
    "              \"keywords\": \"rambo\"\n",
    "          },\n",
    "          \"model\": \"my_model\"\n",
    "      }\n",
    "  }\n",
    "}"
   ]
  },
  {
   "cell_type": "code",
   "execution_count": 53,
   "metadata": {},
   "outputs": [
    {
     "name": "stdout",
     "output_type": "stream",
     "text": [
      "Rambo III\n",
      "First Blood\n",
      "Rambo\n",
      "Rambo: First Blood Part II\n"
     ]
    }
   ],
   "source": [
    "for hit in resp['hits']['hits']:\n",
    "    print(hit['_source']['title'])\n"
   ]
  },
  {
   "cell_type": "code",
   "execution_count": null,
   "metadata": {},
   "outputs": [],
   "source": []
  }
 ],
 "metadata": {
  "kernelspec": {
   "display_name": "Python 3",
   "language": "python",
   "name": "python3"
  },
  "language_info": {
   "codemirror_mode": {
    "name": "ipython",
    "version": 3
   },
   "file_extension": ".py",
   "mimetype": "text/x-python",
   "name": "python",
   "nbconvert_exporter": "python",
   "pygments_lexer": "ipython3",
   "version": "3.6.1"
  }
 },
 "nbformat": 4,
 "nbformat_minor": 2
}
